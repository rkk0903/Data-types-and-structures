{
  "nbformat": 4,
  "nbformat_minor": 0,
  "metadata": {
    "colab": {
      "provenance": []
    },
    "kernelspec": {
      "name": "python3",
      "display_name": "Python 3"
    },
    "language_info": {
      "name": "python"
    }
  },
  "cells": [
    {
      "cell_type": "code",
      "execution_count": null,
      "metadata": {
        "id": "Xmuqw7uvgBGp"
      },
      "outputs": [],
      "source": []
    },
    {
      "cell_type": "markdown",
      "source": [
        "1 .What is the difference between a function and a method in Python?\n",
        "\n",
        "1. Function:\n",
        "A function is a block of reusable code that performs a specific task. It is defined using the def keyword and is not tied to any object or class (unless explicitly used inside one).\n",
        "\n"
      ],
      "metadata": {
        "id": "iEAe2a3xivs9"
      }
    },
    {
      "cell_type": "code",
      "source": [
        "def greet(name):\n",
        "    return \"Hello, \" + name\n",
        "print(greet(\"Alice\"))\n",
        "\n"
      ],
      "metadata": {
        "colab": {
          "base_uri": "https://localhost:8080/"
        },
        "id": "xBmPzuKMi1tF",
        "outputId": "f5ebd068-8176-4ff5-d334-b113a35cfeca"
      },
      "execution_count": 1,
      "outputs": [
        {
          "output_type": "stream",
          "name": "stdout",
          "text": [
            "Hello, Alice\n"
          ]
        }
      ]
    },
    {
      "cell_type": "markdown",
      "source": [
        "Key Characteristics:\n",
        "\n",
        "•\tDefined using def or lambda.\n",
        "\n",
        "•\tCan be called independently.\n",
        "\n",
        "•\tMay or may not take arguments.\n",
        "\n",
        "•\tReturns a value (optionally).\n",
        "\n",
        "•\tNot bound to an object or class.\n",
        "\n",
        "2. Method:\n",
        "A method is a function that is associated with an object. It is defined inside a class and is called on an object (an instance of that class). It automatically takes the instance (commonly self) as its first argument.\n",
        "\n"
      ],
      "metadata": {
        "id": "HqYKcChxi7pA"
      }
    },
    {
      "cell_type": "code",
      "source": [
        "class Greeter:\n",
        "    def greet(self, name):\n",
        "        return \"Hello, \" + name\n",
        "g = Greeter()\n",
        "print(g.greet(\"Alice\"))\n"
      ],
      "metadata": {
        "colab": {
          "base_uri": "https://localhost:8080/"
        },
        "id": "5nEhSK_MjL64",
        "outputId": "767a3507-1b7f-4d95-f2f1-0c8afa4f22eb"
      },
      "execution_count": 2,
      "outputs": [
        {
          "output_type": "stream",
          "name": "stdout",
          "text": [
            "Hello, Alice\n"
          ]
        }
      ]
    },
    {
      "cell_type": "markdown",
      "source": [
        "2  .Explain the concept of function arguments and parameters in Python.\n",
        "\n",
        "1. Parameters:\n",
        "Parameters are the variable names listed in a function definition. They act as placeholders for the values that will be passed when the function is called.\n",
        "Example:\n"
      ],
      "metadata": {
        "id": "7ZCsCnkdjN6t"
      }
    },
    {
      "cell_type": "code",
      "source": [
        "def greet(name):\n",
        "    print(\"Hello,\", name)\n"
      ],
      "metadata": {
        "id": "g3lCPZFIjTTF"
      },
      "execution_count": 6,
      "outputs": []
    },
    {
      "cell_type": "markdown",
      "source": [
        "2. Arguments:\n",
        "Arguments are the actual values you pass to the function when you call it. These values get assigned to the corresponding parameters.\n",
        "Example:\n"
      ],
      "metadata": {
        "id": "oGllIqsijpi8"
      }
    },
    {
      "cell_type": "code",
      "source": [
        "greet(\"Alice\")\n"
      ],
      "metadata": {
        "colab": {
          "base_uri": "https://localhost:8080/"
        },
        "id": "tid-tS0CjrZa",
        "outputId": "8374435e-cd73-45dd-ee07-616acbf1dd83"
      },
      "execution_count": 7,
      "outputs": [
        {
          "output_type": "stream",
          "name": "stdout",
          "text": [
            "Hello, Alice\n"
          ]
        }
      ]
    },
    {
      "cell_type": "markdown",
      "source": [
        "Types of Arguments in Python\n",
        "Python offers flexibility in how arguments are passed to functions:\n",
        "\n",
        "a) Positional Arguments\n",
        "Arguments are matched to parameters in the order they appear."
      ],
      "metadata": {
        "id": "C8twW3_kkJx-"
      }
    },
    {
      "cell_type": "code",
      "source": [
        "def add(a, b):\n",
        "    return a + b\n",
        "\n",
        "print(add(3, 4))  # a = 3, b = 4\n"
      ],
      "metadata": {
        "colab": {
          "base_uri": "https://localhost:8080/"
        },
        "id": "F80zTe4dkRY5",
        "outputId": "38f60bed-8e92-4042-c309-7dcde4342253"
      },
      "execution_count": 8,
      "outputs": [
        {
          "output_type": "stream",
          "name": "stdout",
          "text": [
            "7\n"
          ]
        }
      ]
    },
    {
      "cell_type": "markdown",
      "source": [
        "b) Keyword Arguments\n",
        "Arguments are passed using parameter names, so order doesn’t matter."
      ],
      "metadata": {
        "id": "Lri3yP_ekiwr"
      }
    },
    {
      "cell_type": "code",
      "source": [
        "print(add(b=4, a=3))\n"
      ],
      "metadata": {
        "colab": {
          "base_uri": "https://localhost:8080/"
        },
        "id": "FMbyEngBkknx",
        "outputId": "aa82d3d8-09ae-4c01-8fd0-dcb40bd4d396"
      },
      "execution_count": 9,
      "outputs": [
        {
          "output_type": "stream",
          "name": "stdout",
          "text": [
            "7\n"
          ]
        }
      ]
    },
    {
      "cell_type": "markdown",
      "source": [
        "c) Default Arguments\n",
        "Parameters can have default values, used when no argument is provided.\n"
      ],
      "metadata": {
        "id": "HvzMKq6qkoH2"
      }
    },
    {
      "cell_type": "code",
      "source": [
        "def greet(name=\"Guest\"):\n",
        "    print(\"Hello,\", name)\n",
        "\n",
        "greet()           # Uses default: \"Guest\"\n",
        "greet(\"Alice\")    # Overrides default\n"
      ],
      "metadata": {
        "colab": {
          "base_uri": "https://localhost:8080/"
        },
        "id": "UqKSHlUykzAm",
        "outputId": "5769de0c-7277-4fd1-e3f5-30322656e1b4"
      },
      "execution_count": 10,
      "outputs": [
        {
          "output_type": "stream",
          "name": "stdout",
          "text": [
            "Hello, Guest\n",
            "Hello, Alice\n"
          ]
        }
      ]
    },
    {
      "cell_type": "markdown",
      "source": [
        "d) Variable-Length Arguments\n",
        "*args – Accepts any number of positional arguments as a tuple."
      ],
      "metadata": {
        "id": "38U2Emc2k41k"
      }
    },
    {
      "cell_type": "code",
      "source": [
        "def total(*numbers):\n",
        "    return sum(numbers)\n",
        "\n",
        "print(total(1, 2, 3))  # Outputs 6\n"
      ],
      "metadata": {
        "colab": {
          "base_uri": "https://localhost:8080/"
        },
        "id": "iHem0-pgk574",
        "outputId": "22e856de-5389-41f9-afcb-e096628253b5"
      },
      "execution_count": 11,
      "outputs": [
        {
          "output_type": "stream",
          "name": "stdout",
          "text": [
            "6\n"
          ]
        }
      ]
    },
    {
      "cell_type": "markdown",
      "source": [
        "**kwargs – Accepts any number of keyword arguments as a dictionary.\n",
        "\n"
      ],
      "metadata": {
        "id": "8ixMixZUk8tx"
      }
    },
    {
      "cell_type": "code",
      "source": [
        "def display_info(**info):\n",
        "    for key, value in info.items():\n",
        "        print(key, \":\", value)\n",
        "\n",
        "display_info(name=\"Alice\", age=25)\n"
      ],
      "metadata": {
        "colab": {
          "base_uri": "https://localhost:8080/"
        },
        "id": "3rgerqnqlCV5",
        "outputId": "2e934a23-e824-4e0b-8225-88056fe2496f"
      },
      "execution_count": 12,
      "outputs": [
        {
          "output_type": "stream",
          "name": "stdout",
          "text": [
            "name : Alice\n",
            "age : 25\n"
          ]
        }
      ]
    },
    {
      "cell_type": "markdown",
      "source": [
        "3 .What are the different ways to define and call a function in Python?\n",
        "\n",
        "  In Python, a function is a reusable block of code that performs a specific task. Functions are defined using the def keyword or the lambda keyword (for anonymous functions). They can be called by their name followed by parentheses and arguments (if any).\n",
        "\n",
        "Functions can have:\n",
        "\n",
        "Positional arguments\n",
        "\n",
        "Default values\n",
        "\n",
        "Keyword arguments\n",
        "\n",
        "Variable-length arguments (*args, **kwargs)\n",
        "\n",
        "\n",
        "\n"
      ],
      "metadata": {
        "id": "dMrwAtLOlbPa"
      }
    },
    {
      "cell_type": "code",
      "source": [
        "# Function definition with default and positional arguments\n",
        "def greet(name=\"Guest\"):\n",
        "    return \"Hello, \" + name\n",
        "\n",
        "# Function call with and without argument\n",
        "print(greet(\"Alice\"))  # Output: Hello, Alice\n",
        "print(greet())         # Output: Hello, Guest\n"
      ],
      "metadata": {
        "colab": {
          "base_uri": "https://localhost:8080/"
        },
        "id": "JgmMVHRklmr7",
        "outputId": "685ab282-88db-488f-e4fe-76f1ae32368b"
      },
      "execution_count": 13,
      "outputs": [
        {
          "output_type": "stream",
          "name": "stdout",
          "text": [
            "Hello, Alice\n",
            "Hello, Guest\n"
          ]
        }
      ]
    },
    {
      "cell_type": "markdown",
      "source": [
        "4.What is the purpose of the return' statement in a Python function?\n",
        "\n",
        "  Purpose of the return Statement in a Python Function\n",
        "The return statement in Python is used to send a value back from a function to the place where it was called. It ends the function’s execution and optionally passes an expression or result back to the caller.\n",
        "\n",
        "  Key Purposes:\n",
        "\n",
        " 1.Return a Result:\n",
        "It allows a function to output a value."
      ],
      "metadata": {
        "id": "qwg-gFanl1Va"
      }
    },
    {
      "cell_type": "code",
      "source": [
        "def add(a, b):\n",
        "    return a + b\n",
        "\n",
        "result = add(2, 3)\n",
        "print(result)  # Output: 5\n"
      ],
      "metadata": {
        "colab": {
          "base_uri": "https://localhost:8080/"
        },
        "id": "gyd_v-EhmIT8",
        "outputId": "5dcd485b-bf89-465e-f62f-16acc94e6102"
      },
      "execution_count": 14,
      "outputs": [
        {
          "output_type": "stream",
          "name": "stdout",
          "text": [
            "5\n"
          ]
        }
      ]
    },
    {
      "cell_type": "markdown",
      "source": [
        "  2. End Function Execution:\n",
        "Once return is executed, the function stops running, even if there is more code below.\n"
      ],
      "metadata": {
        "id": "JlEKDoQ8mMkV"
      }
    },
    {
      "cell_type": "code",
      "source": [
        "def test():\n",
        "    return \"Done\"\n",
        "    print(\"This won't run\")\n"
      ],
      "metadata": {
        "id": "ybNrq7-Pmbca"
      },
      "execution_count": 15,
      "outputs": []
    },
    {
      "cell_type": "markdown",
      "source": [
        "(c) Return Multiple Values:\n",
        "Python allows returning multiple values as a tuple."
      ],
      "metadata": {
        "id": "18lX_sWsmgDv"
      }
    },
    {
      "cell_type": "code",
      "source": [
        "def operations(a, b):\n",
        "    return a + b, a * b\n",
        "\n",
        "sum_, product = operations(2, 3)\n",
        "print(sum_, product)  # Output: 5 6\n"
      ],
      "metadata": {
        "colab": {
          "base_uri": "https://localhost:8080/"
        },
        "id": "S7n3pQHEmrKq",
        "outputId": "3b193e0e-a2bc-4d40-e8c4-0a4f0b664561"
      },
      "execution_count": 16,
      "outputs": [
        {
          "output_type": "stream",
          "name": "stdout",
          "text": [
            "5 6\n"
          ]
        }
      ]
    },
    {
      "cell_type": "markdown",
      "source": [
        "(d) Return Nothing (or None):\n",
        "If there’s no return statement, or return is used without a value, the function returns None by default.\n"
      ],
      "metadata": {
        "id": "cblPX569mueC"
      }
    },
    {
      "cell_type": "code",
      "source": [
        "def say_hello():\n",
        "    print(\"Hello\")\n",
        "\n",
        "result = say_hello()\n",
        "print(result)  # Output: None\n"
      ],
      "metadata": {
        "colab": {
          "base_uri": "https://localhost:8080/"
        },
        "id": "VPU4TXaam0eN",
        "outputId": "54b697d6-913e-4cb9-c834-413a35c16c6f"
      },
      "execution_count": 17,
      "outputs": [
        {
          "output_type": "stream",
          "name": "stdout",
          "text": [
            "Hello\n",
            "None\n"
          ]
        }
      ]
    },
    {
      "cell_type": "markdown",
      "source": [
        "5 What are iterators in Python and how do they differ from iterables?\n",
        "\n",
        "   1. Iterable\n",
        "An iterable is any Python object that can be looped over (iterated). It implements the __iter__() method which returns an iterator.\n",
        "\n",
        "Examples of Iterables:\n",
        "\n",
        "Lists: [1, 2, 3]\n",
        "\n",
        "Strings: \"hello\"\n",
        "\n",
        "Tuples: (1, 2)\n",
        "\n",
        "Dictionaries: {\"a\": 1, \"b\": 2}\n",
        "\n",
        "Sets: {1, 2, 3}"
      ],
      "metadata": {
        "id": "ikG4oJT3m4BC"
      }
    },
    {
      "cell_type": "code",
      "source": [
        "my_list = [10, 20, 30]\n",
        "for item in my_list:\n",
        "    print(item)  # List is an iterable\n"
      ],
      "metadata": {
        "colab": {
          "base_uri": "https://localhost:8080/"
        },
        "id": "Wn3ofxRNnKDc",
        "outputId": "c996d375-511b-43e8-d021-86ab27479027"
      },
      "execution_count": 18,
      "outputs": [
        {
          "output_type": "stream",
          "name": "stdout",
          "text": [
            "10\n",
            "20\n",
            "30\n"
          ]
        }
      ]
    },
    {
      "cell_type": "markdown",
      "source": [
        "2. Iterator\n",
        "An iterator is an object that remembers its state during iteration. It implements:\n",
        "\n",
        "__iter__() → returns the iterator object itself.\n",
        "\n",
        "__next__() → returns the next value or raises StopIteration when done."
      ],
      "metadata": {
        "id": "RSkfabJRnLmL"
      }
    },
    {
      "cell_type": "code",
      "source": [
        "my_list = [1, 2, 3]\n",
        "it = iter(my_list)        # Using iter() to get an iterator\n",
        "\n",
        "print(next(it))  # 1\n",
        "print(next(it))  # 2\n",
        "print(next(it))  # 3\n",
        "# next(it) would raise StopIteration\n"
      ],
      "metadata": {
        "colab": {
          "base_uri": "https://localhost:8080/"
        },
        "id": "FBhYKgaonOxi",
        "outputId": "cae41762-f392-4a8d-9df2-3f05ef44db54"
      },
      "execution_count": 19,
      "outputs": [
        {
          "output_type": "stream",
          "name": "stdout",
          "text": [
            "1\n",
            "2\n",
            "3\n"
          ]
        }
      ]
    },
    {
      "cell_type": "markdown",
      "source": [
        " 6. Explain the concept of generators in Python and how they are defined.\n",
        "   \n",
        "   Generators in Python\n",
        "A generator in Python is a special type of iterator that is defined using a function with the yield keyword. It allows you to iterate over data lazily, meaning it generates values on the fly and doesn’t store them in memory all at once.\n",
        "\n",
        "  Why Use Generators?\n",
        "Generators are useful when:\n",
        "\n",
        "  You want to save memory, especially with large data sets.\n",
        "\n",
        "  You need to stream data or process items one at a time.\n",
        "\n",
        " You want to write clean, efficient code for iterating.\n",
        "\n",
        " How to Define a Generator\n",
        "1. Using a Generator Function (yield)\n",
        "A generator function looks like a normal function but uses yield instead of return\n",
        "\n"
      ],
      "metadata": {
        "id": "SmcsmxajnR1W"
      }
    },
    {
      "cell_type": "code",
      "source": [
        "def count_up_to(n):\n",
        "    i = 1\n",
        "    while i <= n:\n",
        "        yield i\n",
        "        i += 1\n"
      ],
      "metadata": {
        "id": "JEAKesqjnlkX"
      },
      "execution_count": 20,
      "outputs": []
    },
    {
      "cell_type": "markdown",
      "source": [
        "Calling the Generator:"
      ],
      "metadata": {
        "id": "T-0QXzcUno1M"
      }
    },
    {
      "cell_type": "code",
      "source": [
        "gen = count_up_to(3)\n",
        "print(next(gen))  # Output: 1\n",
        "print(next(gen))  # Output: 2\n",
        "print(next(gen))  # Output: 3\n",
        "# next(gen) → Raises StopIteration\n"
      ],
      "metadata": {
        "colab": {
          "base_uri": "https://localhost:8080/"
        },
        "id": "g-vQ0ytCnr0_",
        "outputId": "6f8938c7-35c9-41a7-c59c-352584bf48a0"
      },
      "execution_count": 21,
      "outputs": [
        {
          "output_type": "stream",
          "name": "stdout",
          "text": [
            "1\n",
            "2\n",
            "3\n"
          ]
        }
      ]
    },
    {
      "cell_type": "markdown",
      "source": [
        "2. Using Generator Expression\n",
        "Similar to list comprehensions, but with parentheses."
      ],
      "metadata": {
        "id": "CTqw44tRnu6i"
      }
    },
    {
      "cell_type": "code",
      "source": [
        "gen = (x * x for x in range(5))\n",
        "print(next(gen))  # Output: 0\n",
        "print(next(gen))  # Output: 1\n"
      ],
      "metadata": {
        "colab": {
          "base_uri": "https://localhost:8080/"
        },
        "id": "exOWN1UunyRn",
        "outputId": "2eb84075-ebbd-4046-f760-f9d675862a8b"
      },
      "execution_count": 22,
      "outputs": [
        {
          "output_type": "stream",
          "name": "stdout",
          "text": [
            "0\n",
            "1\n"
          ]
        }
      ]
    },
    {
      "cell_type": "markdown",
      "source": [
        "7.What are the advantages of using generators over regular functions?\n",
        "\n",
        "  Advantages of Using Generators Over Regular Functions in Python\n",
        "Generators offer several powerful advantages, especially when dealing with large data sets, streams, or resource-constrained environments. Here’s a detailed comparison:\n",
        "\n",
        "1.  Memory Efficiency  \n",
        "Generators yield one item at a time and do not store the entire result in memory.\n",
        "\n",
        "Regular functions with lists or arrays store the full result, which can use a lot of memory\n"
      ],
      "metadata": {
        "id": "mXBDEMTfn1up"
      }
    },
    {
      "cell_type": "code",
      "source": [
        "# Regular function (memory-heavy)\n",
        "def get_numbers_list(n):\n",
        "    return [i for i in range(n)]\n",
        "\n",
        "# Generator (memory-efficient)\n",
        "def get_numbers_gen(n):\n",
        "    for i in range(n):\n",
        "        yield i"
      ],
      "metadata": {
        "id": "lpiC3O9g3Rel"
      },
      "execution_count": 3,
      "outputs": []
    },
    {
      "cell_type": "markdown",
      "source": [
        "2. Lazy Evaluation (On-demand Computation)\n",
        "Generators compute values only when needed, which can improve performance.\n",
        "\n",
        "Regular functions compute all values upfront.\n",
        "3. Infinite Sequences Support\n",
        "Generators can represent infinite streams of data because they don’t need to store them.\n",
        "\n",
        "Regular functions would crash or hang with infinite loops due to memory exhaustion."
      ],
      "metadata": {
        "id": "haabvQRN3cMh"
      }
    },
    {
      "cell_type": "code",
      "source": [
        "def infinite_counter():\n",
        "    i = 0\n",
        "    while True:\n",
        "        yield i\n",
        "        i += 1"
      ],
      "metadata": {
        "id": "2HMYA0yp3jQW"
      },
      "execution_count": 5,
      "outputs": []
    },
    {
      "cell_type": "markdown",
      "source": [
        "4. Cleaner and Simpler Code\n",
        "Generators help write iterators in a more readable and concise way using yield instead of creating a class with __iter__() and __next__().\n",
        "\n",
        "5. Improved Performance\n",
        "Since generators don’t compute all values upfront, they often run faster initially, especially when only part of the data is needed.\n",
        "\n",
        "6. Chaining and Composability\n",
        "Generators can be easily chained together using expressions or pipelines without creating intermediate data structures."
      ],
      "metadata": {
        "id": "P95994YJ3vWT"
      }
    },
    {
      "cell_type": "code",
      "source": [
        "# Generator expression with chaining\n",
        "squares = (x * x for x in range(10))\n",
        "even_squares = (x for x in squares if x % 2 == 0)\n"
      ],
      "metadata": {
        "id": "_3iCfZ2Y30uC"
      },
      "execution_count": 6,
      "outputs": []
    },
    {
      "cell_type": "markdown",
      "source": [
        "8. What is a lambda function in Python and when is it typically used?\n",
        "\n",
        "   Lambda Function in Python  \n",
        "A lambda function in Python is a small, anonymous (nameless) function defined using the lambda keyword. It is used for creating short, one-line functions without formally defining them using def.\n",
        "\n",
        "SYNTAX:\n"
      ],
      "metadata": {
        "id": "UUHeWiXo34v2"
      }
    },
    {
      "cell_type": "code",
      "source": [
        "lambda arguments: expression\n"
      ],
      "metadata": {
        "colab": {
          "base_uri": "https://localhost:8080/"
        },
        "id": "7X8yYSBx4Zlm",
        "outputId": "d40332e6-c9e2-4e75-ef7a-385eb9664d67"
      },
      "execution_count": 7,
      "outputs": [
        {
          "output_type": "execute_result",
          "data": {
            "text/plain": [
              "<function __main__.<lambda>(arguments)>"
            ]
          },
          "metadata": {},
          "execution_count": 7
        }
      ]
    },
    {
      "cell_type": "code",
      "source": [
        "# A lambda function to add two numbers\n",
        "add = lambda x, y: x + y\n",
        "print(add(3, 5))  # Output: 8\n"
      ],
      "metadata": {
        "colab": {
          "base_uri": "https://localhost:8080/"
        },
        "id": "LzzNRcCt4jsh",
        "outputId": "aea00d51-812b-4475-9dde-de4ef7d1e8ae"
      },
      "execution_count": 9,
      "outputs": [
        {
          "output_type": "stream",
          "name": "stdout",
          "text": [
            "8\n"
          ]
        }
      ]
    },
    {
      "cell_type": "markdown",
      "source": [
        "THIS equivalent:"
      ],
      "metadata": {
        "id": "w-cHdx8t4nQl"
      }
    },
    {
      "cell_type": "code",
      "source": [
        "def add(x, y):\n",
        "    return x + y\n"
      ],
      "metadata": {
        "id": "tNji4HfZ4yIi"
      },
      "execution_count": 10,
      "outputs": []
    },
    {
      "cell_type": "markdown",
      "source": [
        "Typical Uses of Lambda Functions:\n",
        "\n",
        "Lambda functions are commonly used when:\n",
        "\n",
        "\n",
        "You need a quick function for a short task.\n",
        "\n",
        "\n",
        "The function is used only once or temporarily.\n",
        "\n",
        "\n",
        "You want to avoid cluttering code with full function definitions.\n",
        "\n",
        "\n",
        "\n",
        "Common Use Cases:\n",
        "\n",
        "With map() – apply a function to all items in a list.\n",
        "  "
      ],
      "metadata": {
        "id": "TmmoIPu9422w"
      }
    },
    {
      "cell_type": "code",
      "source": [
        "nums = [1, 2, 3]\n",
        "squared = list(map(lambda x: x**2, nums))\n",
        "print(squared)  # Output: [1, 4, 9]\n"
      ],
      "metadata": {
        "colab": {
          "base_uri": "https://localhost:8080/"
        },
        "id": "33W1ovl25Gam",
        "outputId": "361b8d21-9a5b-4b75-d8cf-fc9fe74c172e"
      },
      "execution_count": 11,
      "outputs": [
        {
          "output_type": "stream",
          "name": "stdout",
          "text": [
            "[1, 4, 9]\n"
          ]
        }
      ]
    },
    {
      "cell_type": "markdown",
      "source": [
        "With filter() – filter items in a list."
      ],
      "metadata": {
        "id": "eTXUcL8F5otF"
      }
    },
    {
      "cell_type": "code",
      "source": [
        "nums = [1, 2, 3, 4]\n",
        "even = list(filter(lambda x: x % 2 == 0, nums))\n",
        "print(even)  # Output: [2, 4]\n"
      ],
      "metadata": {
        "colab": {
          "base_uri": "https://localhost:8080/"
        },
        "id": "9mb_Qj8T5qHR",
        "outputId": "534027eb-30bc-490f-a868-b25afd1735c8"
      },
      "execution_count": 12,
      "outputs": [
        {
          "output_type": "stream",
          "name": "stdout",
          "text": [
            "[2, 4]\n"
          ]
        }
      ]
    },
    {
      "cell_type": "markdown",
      "source": [
        "With sorted() – sort based on a custom rule."
      ],
      "metadata": {
        "id": "L5cPdmsy5v_f"
      }
    },
    {
      "cell_type": "code",
      "source": [
        "data = [(1, 'a'), (3, 'b'), (2, 'c')]\n",
        "sorted_data = sorted(data, key=lambda x: x[1])\n",
        "print(sorted_data)  # Output: [(1, 'a'), (3, 'b'), (2, 'c')]\n"
      ],
      "metadata": {
        "colab": {
          "base_uri": "https://localhost:8080/"
        },
        "id": "dAXv7xq65yId",
        "outputId": "0e8af06d-657d-44cb-f40d-14507e8f7008"
      },
      "execution_count": 13,
      "outputs": [
        {
          "output_type": "stream",
          "name": "stdout",
          "text": [
            "[(1, 'a'), (3, 'b'), (2, 'c')]\n"
          ]
        }
      ]
    },
    {
      "cell_type": "markdown",
      "source": [
        "9. Explain the purpose and usage of the 'map()* function in Python.\n",
        "\n",
        "  Purpose and Usage of the map() Function in Python\n",
        "The map() function in Python is used to apply a function to each item in an iterable (like a list or tuple) and returns a map object (an iterator) containing the results.\n",
        "\n",
        "Purpose:\n",
        "To perform element-wise operations on an iterable without using a loop. It makes code more concise and functional.\n",
        "\n",
        "  syntax:\n",
        "  "
      ],
      "metadata": {
        "id": "SfILWIrQ597W"
      }
    },
    {
      "cell_type": "code",
      "source": [
        "map(function, iterable)"
      ],
      "metadata": {
        "id": "8h4Gzl1Y6VDD"
      },
      "execution_count": null,
      "outputs": []
    },
    {
      "cell_type": "markdown",
      "source": [
        "  function: A function to apply to each item. Can be a regular function or a lambda function.\n",
        "\n",
        "  iterable: A sequence (like list, tuple, etc.) whose elements you want to process.\n",
        "\n",
        "   Example 1: Using a regular function"
      ],
      "metadata": {
        "id": "zYpg7nQb6oEk"
      }
    },
    {
      "cell_type": "code",
      "source": [
        "def square(x):\n",
        "    return x * x\n",
        "\n",
        "numbers = [1, 2, 3, 4]\n",
        "squares = map(square, numbers)\n",
        "\n",
        "print(list(squares))  # Output: [1, 4, 9, 16]\n"
      ],
      "metadata": {
        "colab": {
          "base_uri": "https://localhost:8080/"
        },
        "id": "xfqqFPdL6xJM",
        "outputId": "8f900bcd-be35-49ae-f605-18f3be80e344"
      },
      "execution_count": 15,
      "outputs": [
        {
          "output_type": "stream",
          "name": "stdout",
          "text": [
            "[1, 4, 9, 16]\n"
          ]
        }
      ]
    },
    {
      "cell_type": "markdown",
      "source": [
        "Example 2: Using a lambda function"
      ],
      "metadata": {
        "id": "tSV-QrLO6zrp"
      }
    },
    {
      "cell_type": "code",
      "source": [
        "numbers = [1, 2, 3, 4]\n",
        "squares = map(lambda x: x ** 2, numbers)\n",
        "\n",
        "print(list(squares))  # Output: [1, 4, 9, 16]\n"
      ],
      "metadata": {
        "colab": {
          "base_uri": "https://localhost:8080/"
        },
        "id": "VPm9mlq362Bs",
        "outputId": "89356d75-c69d-4499-e0e8-bdb524c6086f"
      },
      "execution_count": 16,
      "outputs": [
        {
          "output_type": "stream",
          "name": "stdout",
          "text": [
            "[1, 4, 9, 16]\n"
          ]
        }
      ]
    },
    {
      "cell_type": "markdown",
      "source": [
        "Example 3: Using multiple iterables"
      ],
      "metadata": {
        "id": "EbcCAJTW6-zG"
      }
    },
    {
      "cell_type": "code",
      "source": [
        "a = [1, 2, 3]\n",
        "b = [4, 5, 6]\n",
        "\n",
        "result = map(lambda x, y: x + y, a, b)\n",
        "print(list(result))  # Output: [5, 7, 9]\n"
      ],
      "metadata": {
        "colab": {
          "base_uri": "https://localhost:8080/"
        },
        "id": "p5MhR-Ql7BPq",
        "outputId": "2f7c6aa4-5614-41d3-9659-c0d0ae223785"
      },
      "execution_count": 17,
      "outputs": [
        {
          "output_type": "stream",
          "name": "stdout",
          "text": [
            "[5, 7, 9]\n"
          ]
        }
      ]
    },
    {
      "cell_type": "markdown",
      "source": [
        "10. What is the difference between map), reduce), and filter )' functions in Python?\n",
        "\n",
        "  Difference Between map(), reduce(), and filter() in Python\n",
        "Python provides functional programming tools like map(), filter(), and reduce() that allow you to process iterables efficiently using functions. Here's a breakdown of each with their purpose, usage, and differences:\n",
        "\n",
        "  1. map()\n",
        "Purpose: Applies a function to every item in an iterable and returns a new iterable (map object).\n",
        "\n",
        "Returns: Transformed items.\n",
        "SYNTAX:"
      ],
      "metadata": {
        "id": "LDDm89wh7IsM"
      }
    },
    {
      "cell_type": "code",
      "source": [
        "map(function, iterable)\n",
        "\n"
      ],
      "metadata": {
        "id": "18AhRWDl7Yl6"
      },
      "execution_count": null,
      "outputs": []
    },
    {
      "cell_type": "markdown",
      "source": [
        "EXAMPLE:"
      ],
      "metadata": {
        "id": "QNIPQzgM7eWs"
      }
    },
    {
      "cell_type": "code",
      "source": [
        "nums = [1, 2, 3]\n",
        "squares = map(lambda x: x**2, nums)\n",
        "print(list(squares))  # Output: [1, 4, 9]\n"
      ],
      "metadata": {
        "colab": {
          "base_uri": "https://localhost:8080/"
        },
        "id": "IM4pzn3R7hJU",
        "outputId": "41a47234-78c8-49ad-cbe2-8599e4b0f225"
      },
      "execution_count": 18,
      "outputs": [
        {
          "output_type": "stream",
          "name": "stdout",
          "text": [
            "[1, 4, 9]\n"
          ]
        }
      ]
    },
    {
      "cell_type": "markdown",
      "source": [
        "2. filter()\n",
        "Purpose: Applies a function to every item and keeps only those for which the function returns True.\n",
        "\n",
        "Returns: Filtered items.\n",
        "\n",
        "Syntax:"
      ],
      "metadata": {
        "id": "pMHonSkx7nbI"
      }
    },
    {
      "cell_type": "code",
      "source": [
        "filter(function, iterable)\n"
      ],
      "metadata": {
        "id": "QrpEDSNI7qw7"
      },
      "execution_count": null,
      "outputs": []
    },
    {
      "cell_type": "markdown",
      "source": [
        "EXAMPLE:\n"
      ],
      "metadata": {
        "id": "DmSQaxj37udJ"
      }
    },
    {
      "cell_type": "code",
      "source": [
        "nums = [1, 2, 3, 4]\n",
        "evens = filter(lambda x: x % 2 == 0, nums)\n",
        "print(list(evens))  # Output: [2, 4]\n"
      ],
      "metadata": {
        "colab": {
          "base_uri": "https://localhost:8080/"
        },
        "id": "DkHB3V7p7xGI",
        "outputId": "94e3aecd-d473-4029-a8f8-63975c614ad3"
      },
      "execution_count": 20,
      "outputs": [
        {
          "output_type": "stream",
          "name": "stdout",
          "text": [
            "[2, 4]\n"
          ]
        }
      ]
    },
    {
      "cell_type": "markdown",
      "source": [
        "3. reduce()\n",
        "Purpose: Applies a function cumulatively to the items in an iterable, reducing the iterable to a single value.\n",
        "\n",
        "Returns: A single result.\n",
        "\n",
        "reduce() is available in the functools module.\n",
        "\n",
        "SYNTAX:"
      ],
      "metadata": {
        "id": "fZS_iX_c73GO"
      }
    },
    {
      "cell_type": "code",
      "source": [
        "from functools import reduce\n",
        "reduce(function, iterable)\n"
      ],
      "metadata": {
        "id": "ukhnbaWV7_Ep"
      },
      "execution_count": null,
      "outputs": []
    },
    {
      "cell_type": "markdown",
      "source": [
        "EXAMPLE"
      ],
      "metadata": {
        "id": "eauzzYAn8CKk"
      }
    },
    {
      "cell_type": "code",
      "source": [
        "from functools import reduce\n",
        "nums = [1, 2, 3, 4]\n",
        "product = reduce(lambda x, y: x * y, nums)\n",
        "print(product)  # Output: 24\n"
      ],
      "metadata": {
        "colab": {
          "base_uri": "https://localhost:8080/"
        },
        "id": "F6EqlxYK8Fbq",
        "outputId": "7bce7c30-10bc-4c38-9247-a01da42a40a7"
      },
      "execution_count": 21,
      "outputs": [
        {
          "output_type": "stream",
          "name": "stdout",
          "text": [
            "24\n"
          ]
        }
      ]
    },
    {
      "cell_type": "markdown",
      "source": [
        "![WhatsApp Image 2025-05-22 at 22.32.06_78a23154.jpg](data:image/jpeg;base64,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)"
      ],
      "metadata": {
        "id": "Ef4a6rwm85TV"
      }
    },
    {
      "cell_type": "markdown",
      "source": [
        "## 1. Write a Python function that takes a list of numbers as input and returns the sum of all even numbers in the list."
      ],
      "metadata": {
        "id": "CdugKieN9thR"
      }
    },
    {
      "cell_type": "code",
      "source": [
        "def sum_of_even_numbers(numbers):\n",
        "    even_sum = 0\n",
        "    for num in numbers:\n",
        "        if num % 2 == 0:\n",
        "            even_sum += num\n",
        "    return even_sum\n",
        "\n",
        "    my_list = [1, 2, 3, 4, 5, 6]\n",
        "result = sum_of_even_numbers(my_list)\n",
        "print(\"Sum of even numbers:\", result)\n"
      ],
      "metadata": {
        "colab": {
          "base_uri": "https://localhost:8080/"
        },
        "id": "2duDcH_G-BK2",
        "outputId": "345504e0-cdcf-46b9-fbbc-13f8ed7e73d4"
      },
      "execution_count": 23,
      "outputs": [
        {
          "output_type": "stream",
          "name": "stdout",
          "text": [
            "Sum of even numbers: 12\n"
          ]
        }
      ]
    },
    {
      "cell_type": "markdown",
      "source": [
        "## 2. Create a Python function that accepts a string and returns the reverse of that string."
      ],
      "metadata": {
        "id": "uZK6Dwie-Jx2"
      }
    },
    {
      "cell_type": "code",
      "source": [
        "def reverse_string(text):\n",
        "    return text[::-1]\n",
        "input_str = \"hello\"\n",
        "reversed_str = reverse_string(input_str)\n",
        "print(\"Reversed string:\", reversed_str)\n"
      ],
      "metadata": {
        "colab": {
          "base_uri": "https://localhost:8080/"
        },
        "id": "7H2vDy2R-Lpr",
        "outputId": "e868dd87-1cb1-419c-cbac-5b5f1e9c738a"
      },
      "execution_count": 24,
      "outputs": [
        {
          "output_type": "stream",
          "name": "stdout",
          "text": [
            "Reversed string: olleh\n"
          ]
        }
      ]
    },
    {
      "cell_type": "markdown",
      "source": [
        "## 3. Implement a Python function that takes a list of integers and returns a new list containing the squares of each number."
      ],
      "metadata": {
        "id": "ESj7tO3x-VzW"
      }
    },
    {
      "cell_type": "code",
      "source": [
        "def square_numbers(numbers):\n",
        "    squared_list = [num ** 2 for num in numbers]\n",
        "    return squared_list\n",
        "input_list = [1, 2, 3, 4, 5]\n",
        "result = square_numbers(input_list)\n",
        "print(\"Squared numbers:\", result)\n"
      ],
      "metadata": {
        "colab": {
          "base_uri": "https://localhost:8080/"
        },
        "id": "ny3A6jVg-ZlP",
        "outputId": "4f5e2daf-6424-4203-eae3-59e166d6b678"
      },
      "execution_count": 26,
      "outputs": [
        {
          "output_type": "stream",
          "name": "stdout",
          "text": [
            "Squared numbers: [1, 4, 9, 16, 25]\n"
          ]
        }
      ]
    },
    {
      "cell_type": "markdown",
      "source": [
        "## 4. Write a Python function that checks if a given number is prime or not from 1 to 200."
      ],
      "metadata": {
        "id": "ti2CWQmL-xjm"
      }
    },
    {
      "cell_type": "code",
      "source": [
        "def is_prime(n):\n",
        "    if n <= 1:\n",
        "        return False  # 1 and below are not prime\n",
        "    if n == 2:\n",
        "        return True   # 2 is the only even prime number\n",
        "    if n % 2 == 0:\n",
        "        return False  # other even numbers are not prime\n",
        "    for i in range(3, int(n**0.5) + 1, 2):  # check odd divisors only\n",
        "        if n % i == 0:\n",
        "            return False\n",
        "    return True\n",
        "for number in range(1, 201):\n",
        "    if is_prime(number):\n",
        "        print(f\"{number} is a prime number\")\n",
        "    else:\n",
        "        print(f\"{number} is not a prime number\")\n"
      ],
      "metadata": {
        "colab": {
          "base_uri": "https://localhost:8080/"
        },
        "id": "g2zmveyR-z44",
        "outputId": "a08b8197-5033-4562-db85-515982f80095"
      },
      "execution_count": 28,
      "outputs": [
        {
          "output_type": "stream",
          "name": "stdout",
          "text": [
            "1 is not a prime number\n",
            "2 is a prime number\n",
            "3 is a prime number\n",
            "4 is not a prime number\n",
            "5 is a prime number\n",
            "6 is not a prime number\n",
            "7 is a prime number\n",
            "8 is not a prime number\n",
            "9 is not a prime number\n",
            "10 is not a prime number\n",
            "11 is a prime number\n",
            "12 is not a prime number\n",
            "13 is a prime number\n",
            "14 is not a prime number\n",
            "15 is not a prime number\n",
            "16 is not a prime number\n",
            "17 is a prime number\n",
            "18 is not a prime number\n",
            "19 is a prime number\n",
            "20 is not a prime number\n",
            "21 is not a prime number\n",
            "22 is not a prime number\n",
            "23 is a prime number\n",
            "24 is not a prime number\n",
            "25 is not a prime number\n",
            "26 is not a prime number\n",
            "27 is not a prime number\n",
            "28 is not a prime number\n",
            "29 is a prime number\n",
            "30 is not a prime number\n",
            "31 is a prime number\n",
            "32 is not a prime number\n",
            "33 is not a prime number\n",
            "34 is not a prime number\n",
            "35 is not a prime number\n",
            "36 is not a prime number\n",
            "37 is a prime number\n",
            "38 is not a prime number\n",
            "39 is not a prime number\n",
            "40 is not a prime number\n",
            "41 is a prime number\n",
            "42 is not a prime number\n",
            "43 is a prime number\n",
            "44 is not a prime number\n",
            "45 is not a prime number\n",
            "46 is not a prime number\n",
            "47 is a prime number\n",
            "48 is not a prime number\n",
            "49 is not a prime number\n",
            "50 is not a prime number\n",
            "51 is not a prime number\n",
            "52 is not a prime number\n",
            "53 is a prime number\n",
            "54 is not a prime number\n",
            "55 is not a prime number\n",
            "56 is not a prime number\n",
            "57 is not a prime number\n",
            "58 is not a prime number\n",
            "59 is a prime number\n",
            "60 is not a prime number\n",
            "61 is a prime number\n",
            "62 is not a prime number\n",
            "63 is not a prime number\n",
            "64 is not a prime number\n",
            "65 is not a prime number\n",
            "66 is not a prime number\n",
            "67 is a prime number\n",
            "68 is not a prime number\n",
            "69 is not a prime number\n",
            "70 is not a prime number\n",
            "71 is a prime number\n",
            "72 is not a prime number\n",
            "73 is a prime number\n",
            "74 is not a prime number\n",
            "75 is not a prime number\n",
            "76 is not a prime number\n",
            "77 is not a prime number\n",
            "78 is not a prime number\n",
            "79 is a prime number\n",
            "80 is not a prime number\n",
            "81 is not a prime number\n",
            "82 is not a prime number\n",
            "83 is a prime number\n",
            "84 is not a prime number\n",
            "85 is not a prime number\n",
            "86 is not a prime number\n",
            "87 is not a prime number\n",
            "88 is not a prime number\n",
            "89 is a prime number\n",
            "90 is not a prime number\n",
            "91 is not a prime number\n",
            "92 is not a prime number\n",
            "93 is not a prime number\n",
            "94 is not a prime number\n",
            "95 is not a prime number\n",
            "96 is not a prime number\n",
            "97 is a prime number\n",
            "98 is not a prime number\n",
            "99 is not a prime number\n",
            "100 is not a prime number\n",
            "101 is a prime number\n",
            "102 is not a prime number\n",
            "103 is a prime number\n",
            "104 is not a prime number\n",
            "105 is not a prime number\n",
            "106 is not a prime number\n",
            "107 is a prime number\n",
            "108 is not a prime number\n",
            "109 is a prime number\n",
            "110 is not a prime number\n",
            "111 is not a prime number\n",
            "112 is not a prime number\n",
            "113 is a prime number\n",
            "114 is not a prime number\n",
            "115 is not a prime number\n",
            "116 is not a prime number\n",
            "117 is not a prime number\n",
            "118 is not a prime number\n",
            "119 is not a prime number\n",
            "120 is not a prime number\n",
            "121 is not a prime number\n",
            "122 is not a prime number\n",
            "123 is not a prime number\n",
            "124 is not a prime number\n",
            "125 is not a prime number\n",
            "126 is not a prime number\n",
            "127 is a prime number\n",
            "128 is not a prime number\n",
            "129 is not a prime number\n",
            "130 is not a prime number\n",
            "131 is a prime number\n",
            "132 is not a prime number\n",
            "133 is not a prime number\n",
            "134 is not a prime number\n",
            "135 is not a prime number\n",
            "136 is not a prime number\n",
            "137 is a prime number\n",
            "138 is not a prime number\n",
            "139 is a prime number\n",
            "140 is not a prime number\n",
            "141 is not a prime number\n",
            "142 is not a prime number\n",
            "143 is not a prime number\n",
            "144 is not a prime number\n",
            "145 is not a prime number\n",
            "146 is not a prime number\n",
            "147 is not a prime number\n",
            "148 is not a prime number\n",
            "149 is a prime number\n",
            "150 is not a prime number\n",
            "151 is a prime number\n",
            "152 is not a prime number\n",
            "153 is not a prime number\n",
            "154 is not a prime number\n",
            "155 is not a prime number\n",
            "156 is not a prime number\n",
            "157 is a prime number\n",
            "158 is not a prime number\n",
            "159 is not a prime number\n",
            "160 is not a prime number\n",
            "161 is not a prime number\n",
            "162 is not a prime number\n",
            "163 is a prime number\n",
            "164 is not a prime number\n",
            "165 is not a prime number\n",
            "166 is not a prime number\n",
            "167 is a prime number\n",
            "168 is not a prime number\n",
            "169 is not a prime number\n",
            "170 is not a prime number\n",
            "171 is not a prime number\n",
            "172 is not a prime number\n",
            "173 is a prime number\n",
            "174 is not a prime number\n",
            "175 is not a prime number\n",
            "176 is not a prime number\n",
            "177 is not a prime number\n",
            "178 is not a prime number\n",
            "179 is a prime number\n",
            "180 is not a prime number\n",
            "181 is a prime number\n",
            "182 is not a prime number\n",
            "183 is not a prime number\n",
            "184 is not a prime number\n",
            "185 is not a prime number\n",
            "186 is not a prime number\n",
            "187 is not a prime number\n",
            "188 is not a prime number\n",
            "189 is not a prime number\n",
            "190 is not a prime number\n",
            "191 is a prime number\n",
            "192 is not a prime number\n",
            "193 is a prime number\n",
            "194 is not a prime number\n",
            "195 is not a prime number\n",
            "196 is not a prime number\n",
            "197 is a prime number\n",
            "198 is not a prime number\n",
            "199 is a prime number\n",
            "200 is not a prime number\n"
          ]
        }
      ]
    },
    {
      "cell_type": "markdown",
      "source": [
        "## 5. Create an iterator class in Python that generates the Fibonacci sequence up to a specified number of terms.\n",
        "\n"
      ],
      "metadata": {
        "id": "1oEO9rie_RGE"
      }
    },
    {
      "cell_type": "code",
      "source": [
        "class FibonacciIterator:\n",
        "    def __init__(self, max_terms):\n",
        "        self.max_terms = max_terms\n",
        "        self.count = 0\n",
        "        self.a, self.b = 0, 1\n",
        "\n",
        "    def __iter__(self):\n",
        "        return self\n",
        "\n",
        "    def __next__(self):\n",
        "        if self.count >= self.max_terms:\n",
        "            raise StopIteration\n",
        "        if self.count == 0:\n",
        "            self.count += 1\n",
        "            return 0\n",
        "        elif self.count == 1:\n",
        "            self.count += 1\n",
        "            return 1\n",
        "        else:\n",
        "            self.a, self.b = self.b, self.a + self.b\n",
        "            self.count += 1\n",
        "            return self.a\n",
        "# Create an iterator for first 10 Fibonacci numbers\n",
        "fib = FibonacciIterator(10)\n",
        "\n",
        "# Print the sequence\n",
        "for num in fib:\n",
        "    print(num, end=' ')\n"
      ],
      "metadata": {
        "colab": {
          "base_uri": "https://localhost:8080/"
        },
        "id": "x5NSOjEo_Y70",
        "outputId": "9ab13379-d124-4551-b747-adf7da53b30b"
      },
      "execution_count": 29,
      "outputs": [
        {
          "output_type": "stream",
          "name": "stdout",
          "text": [
            "0 1 1 1 2 3 5 8 13 21 "
          ]
        }
      ]
    },
    {
      "cell_type": "markdown",
      "source": [
        "## 6. Write a generator function in Python that yields the powers of 2 up to a given exponent."
      ],
      "metadata": {
        "id": "HmNuFIDB_htV"
      }
    },
    {
      "cell_type": "code",
      "source": [
        "def powers_of_two(max_exponent):\n",
        "    for exp in range(max_exponent + 1):\n",
        "        yield 2 ** exp\n",
        "for power in powers_of_two(5):\n",
        "    print(power)\n"
      ],
      "metadata": {
        "colab": {
          "base_uri": "https://localhost:8080/"
        },
        "id": "T06S0crx_mLR",
        "outputId": "6c8820cc-ea26-4fd2-e753-4d4f0143aa1a"
      },
      "execution_count": 30,
      "outputs": [
        {
          "output_type": "stream",
          "name": "stdout",
          "text": [
            "1\n",
            "2\n",
            "4\n",
            "8\n",
            "16\n",
            "32\n"
          ]
        }
      ]
    },
    {
      "cell_type": "markdown",
      "source": [],
      "metadata": {
        "id": "SNrwjGLU_tZt"
      }
    },
    {
      "cell_type": "markdown",
      "source": [
        "## 7. Implement a generator function that reads a file line by line and yields each line as a string.bold text"
      ],
      "metadata": {
        "id": "zFB3IbTF_yNk"
      }
    },
    {
      "cell_type": "code",
      "source": [
        "def read_file_lines(file_path):\n",
        "    with open(file_path, 'r') as file:\n",
        "        for line in file:\n",
        "            yield line.rstrip('\\n')  # Remove trailing newline characters\n",
        "# Replace 'example.txt' with your actual file path\n",
        "for line in read_file_lines('example.txt'):\n",
        "    print(line)\n"
      ],
      "metadata": {
        "id": "m6E0RlDY_4td"
      },
      "execution_count": null,
      "outputs": []
    },
    {
      "cell_type": "markdown",
      "source": [
        "## 8. Use a lambda function in Python to sort a list of tuples based on the second element of each tuple"
      ],
      "metadata": {
        "id": "BIU6AAbpAIG2"
      }
    },
    {
      "cell_type": "code",
      "source": [
        "# Sample list of tuples\n",
        "data = [(1, 3), (4, 1), (2, 5), (7, 2)]\n",
        "\n",
        "# Sort based on the second element of each tuple\n",
        "sorted_data = sorted(data, key=lambda x: x[1])\n",
        "\n",
        "print(\"Sorted list:\", sorted_data)\n"
      ],
      "metadata": {
        "colab": {
          "base_uri": "https://localhost:8080/"
        },
        "id": "aefG3SorAPkO",
        "outputId": "6ab18eb0-d697-4c95-f3bd-1e48a59db2f7"
      },
      "execution_count": 33,
      "outputs": [
        {
          "output_type": "stream",
          "name": "stdout",
          "text": [
            "Sorted list: [(4, 1), (7, 2), (1, 3), (2, 5)]\n"
          ]
        }
      ]
    },
    {
      "cell_type": "markdown",
      "source": [
        "## 9. Write a Python program that uses map() to convert a list of temperatures from Celsius to Fahrenheit."
      ],
      "metadata": {
        "id": "68Gu10elAkv5"
      }
    },
    {
      "cell_type": "code",
      "source": [
        "# List of temperatures in Celsius\n",
        "celsius_temps = [0, 20, 37, 100]\n",
        "\n",
        "# Conversion formula: Fahrenheit = (Celsius × 9/5) + 32\n",
        "fahrenheit_temps = list(map(lambda c: (c * 9/5) + 32, celsius_temps))\n",
        "\n",
        "# Output the result\n",
        "print(\"Temperatures in Fahrenheit:\", fahrenheit_temps)\n"
      ],
      "metadata": {
        "colab": {
          "base_uri": "https://localhost:8080/"
        },
        "id": "rHrj6OPFAm-C",
        "outputId": "54f4a224-d149-4077-8a1b-298effd52777"
      },
      "execution_count": 34,
      "outputs": [
        {
          "output_type": "stream",
          "name": "stdout",
          "text": [
            "Temperatures in Fahrenheit: [32.0, 68.0, 98.6, 212.0]\n"
          ]
        }
      ]
    },
    {
      "cell_type": "markdown",
      "source": [
        "## 10. Create a Python program that uses `filter()` to remove all the vowels from a given string."
      ],
      "metadata": {
        "id": "bc-Lju9JA0l-"
      }
    },
    {
      "cell_type": "code",
      "source": [
        "def remove_vowels(text):\n",
        "    vowels = 'aeiouAEIOU'\n",
        "    return ''.join(filter(lambda char: char not in vowels, text))\n",
        "\n",
        "# Example usage\n",
        "input_string = \"Hello World\"\n",
        "result = remove_vowels(input_string)\n",
        "print(\"String without vowels:\", result)\n"
      ],
      "metadata": {
        "colab": {
          "base_uri": "https://localhost:8080/"
        },
        "id": "JSWJSPUsA6u6",
        "outputId": "d2e9aa2d-24ce-4522-a3b8-ec0d02943266"
      },
      "execution_count": 35,
      "outputs": [
        {
          "output_type": "stream",
          "name": "stdout",
          "text": [
            "String without vowels: Hll Wrld\n"
          ]
        }
      ]
    },
    {
      "cell_type": "markdown",
      "source": [
        "1) Imagine an accounting routine used in a book shop. It works on a list with sublists, which look like this:                                                                                                                                                           ORDER NUMBER   BOOK TITLE AND AUTHOR     QUANTITY   PRICE PER ITEM                                                     34587                      LEARNING PYTHON, MARK LUTZ          4                    40.95                                              98762                       PROGRAMING PYTHON,MARK LUTZ   5                     56.80                                                    77226                       HEAD FIRST PYTHON PAUL BARRY       3                     32.95                                             88112                       EINFUHRUNG IN PYTHON3, BERND KLEIN  3              24.99                                  Write a Python program, which returns a list with 2-tuples. Each tuple consists of the order number and the\n",
        "product of the price per item and the quantity. The product should be increased by 10,- € if the value of the\n",
        "order is smaller than 100,00 €."
      ],
      "metadata": {
        "id": "fLQv6J77CuU_"
      }
    },
    {
      "cell_type": "code",
      "source": [
        "orders = [\n",
        "    [34587, \"LEARNING PYTHON, MARK LUTZ\", 4, 40.95],\n",
        "    [98762, \"PROGRAMING PYTHON, MARK LUTZ\", 5, 56.80],\n",
        "    [77226, \"HEAD FIRST PYTHON PAUL BARRY\", 3, 32.95],\n",
        "    [88112, \"EINFUHRUNG IN PYTHON3, BERND KLEIN\", 3, 24.99]\n",
        "]\n",
        "\n",
        "def calculate_order_totals(order_list):\n",
        "    result = []\n",
        "    for order in order_list:\n",
        "        order_num = order[0]\n",
        "        quantity = order[2]\n",
        "        price = order[3]\n",
        "        total = quantity * price\n",
        "        if total < 100:\n",
        "            total += 10  # add 10 euros if total < 100\n",
        "        result.append((order_num, round(total, 2)))  # rounding to 2 decimals\n",
        "    return result\n",
        "\n",
        "totals = calculate_order_totals(orders)\n",
        "print(totals)\n"
      ],
      "metadata": {
        "colab": {
          "base_uri": "https://localhost:8080/"
        },
        "id": "TY1D4WuIC-ZF",
        "outputId": "1670e33f-68fd-41ea-8523-856e51b0bfca"
      },
      "execution_count": 36,
      "outputs": [
        {
          "output_type": "stream",
          "name": "stdout",
          "text": [
            "[(34587, 163.8), (98762, 284.0), (77226, 108.85), (88112, 84.97)]\n"
          ]
        }
      ]
    }
  ]
}