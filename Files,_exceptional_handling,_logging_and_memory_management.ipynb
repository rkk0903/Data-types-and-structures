{
  "nbformat": 4,
  "nbformat_minor": 0,
  "metadata": {
    "colab": {
      "provenance": [],
      "toc_visible": true
    },
    "kernelspec": {
      "name": "python3",
      "display_name": "Python 3"
    },
    "language_info": {
      "name": "python"
    }
  },
  "cells": [
    {
      "cell_type": "markdown",
      "source": [
        "1.What is the difference between interpreted and compiled languages"
      ],
      "metadata": {
        "id": "TWOVqT-FGTjz"
      }
    },
    {
      "cell_type": "markdown",
      "source": [
        "- Interpreted: Code is executed line by line by an interpreter (e.g., Python, JavaScript).\n",
        "\n",
        "- Compiled: Code is translated into machine code before execution by a compiler (e.g., C, C++)."
      ],
      "metadata": {
        "id": "j8_u7-MWIkkL"
      }
    },
    {
      "cell_type": "markdown",
      "source": [
        "2.What is exception handling in Python"
      ],
      "metadata": {
        "id": "NVoEnd5bGfvf"
      }
    },
    {
      "cell_type": "markdown",
      "source": [
        "- Exception handling is used to manage runtime errors using try, except, else, and finally blocks, preventing program crashes."
      ],
      "metadata": {
        "id": "byweWWDCIvwM"
      }
    },
    {
      "cell_type": "markdown",
      "source": [
        "3. What is the purpose of the finally block in exception handling"
      ],
      "metadata": {
        "id": "KaF8muZQGlGq"
      }
    },
    {
      "cell_type": "markdown",
      "source": [
        "- It always runs—whether or not an exception occurs. Used for cleanup actions like closing files or releasing resources."
      ],
      "metadata": {
        "id": "YoJyIwo6IyEI"
      }
    },
    {
      "cell_type": "markdown",
      "source": [
        "4. What is logging in Python"
      ],
      "metadata": {
        "id": "W5-qJM_GGm7i"
      }
    },
    {
      "cell_type": "markdown",
      "source": [
        "- Logging is the process of recording events during program execution. Python’s logging module provides a flexible way to track and debug your program."
      ],
      "metadata": {
        "id": "CtTtQAgdI1sW"
      }
    },
    {
      "cell_type": "markdown",
      "source": [
        "5. What is the significance of the __del__ method in Python"
      ],
      "metadata": {
        "id": "0hH0JsNgGr5k"
      }
    },
    {
      "cell_type": "markdown",
      "source": [
        "- It's a destructor called when an object is deleted or garbage collected. Used to release resources or perform cleanup."
      ],
      "metadata": {
        "id": "k4MWg9BKI74A"
      }
    },
    {
      "cell_type": "markdown",
      "source": [
        "6. What is the difference between import and from ... import in Python"
      ],
      "metadata": {
        "id": "lN6PsrmaG6ai"
      }
    },
    {
      "cell_type": "markdown",
      "source": [
        "- import module: Access using module.name.\n",
        "\n",
        "- from module import name: Access directly as name."
      ],
      "metadata": {
        "id": "VurXN29EJCEb"
      }
    },
    {
      "cell_type": "markdown",
      "source": [
        "7. How can you handle multiple exceptions in Python"
      ],
      "metadata": {
        "id": "Rv2AamzyG8yP"
      }
    },
    {
      "cell_type": "markdown",
      "source": [
        "- Sometimes, a code block may raise different types of exceptions. Instead of writing separate try blocks, we can catch multiple exceptions in a single try block."
      ],
      "metadata": {
        "id": "BhZNOlg6L-J0"
      }
    },
    {
      "cell_type": "markdown",
      "source": [
        "🔹 Syntax 1: Multiple except blocks"
      ],
      "metadata": {
        "id": "cSdLiSvdMV2g"
      }
    },
    {
      "cell_type": "code",
      "source": [
        "try:\n",
        "    x = int(input(\"Enter a number: \"))\n",
        "    result = 10 / x\n",
        "except ValueError:\n",
        "    print(\"Invalid input! Please enter a number.\")\n",
        "except ZeroDivisionError:\n",
        "    print(\"Cannot divide by zero.\")\n"
      ],
      "metadata": {
        "colab": {
          "base_uri": "https://localhost:8080/"
        },
        "id": "fXC_O_AyMWzT",
        "outputId": "8dd7b848-086a-4606-f126-2a22664305c4"
      },
      "execution_count": 7,
      "outputs": [
        {
          "name": "stdout",
          "output_type": "stream",
          "text": [
            "Enter a number: 5\n"
          ]
        }
      ]
    },
    {
      "cell_type": "markdown",
      "source": [
        " Explanation:\n",
        "\n",
        "- If user enters a non-numeric value → ValueError\n",
        "\n",
        "- If user enters 0 → ZeroDivisionError"
      ],
      "metadata": {
        "id": "K99EnKonMaT-"
      }
    },
    {
      "cell_type": "markdown",
      "source": [
        " Syntax 2: Single except block with multiple exceptions\n"
      ],
      "metadata": {
        "id": "xR6Tm70rMoXu"
      }
    },
    {
      "cell_type": "code",
      "source": [
        "\n",
        "try:\n",
        "    x = int(\"abc\")\n",
        "except (ValueError, TypeError) as e:\n",
        "    print(\"An error occurred:\", e)\n"
      ],
      "metadata": {
        "colab": {
          "base_uri": "https://localhost:8080/"
        },
        "id": "L66ApnfpMrLO",
        "outputId": "c01e2ac2-0b04-475d-9f73-6ec17f86bbe2"
      },
      "execution_count": 5,
      "outputs": [
        {
          "output_type": "stream",
          "name": "stdout",
          "text": [
            "An error occurred: invalid literal for int() with base 10: 'abc'\n"
          ]
        }
      ]
    },
    {
      "cell_type": "markdown",
      "source": [
        " Syntax 3: Catch all exceptions (Not Recommended for Specific Handling)"
      ],
      "metadata": {
        "id": "akKDQ_NgNA2a"
      }
    },
    {
      "cell_type": "code",
      "source": [
        "try:\n",
        "    risky_code()\n",
        "except Exception as e:\n",
        "    print(\"Something went wrong:\", e)\n"
      ],
      "metadata": {
        "colab": {
          "base_uri": "https://localhost:8080/"
        },
        "id": "pQCfNfo_NC4s",
        "outputId": "120a5239-3098-402c-9518-879871898c59"
      },
      "execution_count": 12,
      "outputs": [
        {
          "output_type": "stream",
          "name": "stdout",
          "text": [
            "Something went wrong: name 'risky_code' is not defined\n"
          ]
        }
      ]
    },
    {
      "cell_type": "markdown",
      "source": [
        "8.What is the purpose of the with statement when handling files in Python"
      ],
      "metadata": {
        "id": "MelAPZjeJbhA"
      }
    },
    {
      "cell_type": "code",
      "source": [
        "file = open(\"example.txt\", \"r\")\n",
        "data = file.read()\n",
        "file.close()\n"
      ],
      "metadata": {
        "id": "DPm2lnv_NdRe"
      },
      "execution_count": 13,
      "outputs": []
    },
    {
      "cell_type": "markdown",
      "source": [
        "If an exception occurs, the file might not close properly, leading to:\n",
        "\n",
        "- Memory leaks\n",
        "\n",
        "- File locking issues"
      ],
      "metadata": {
        "id": "YgiW2IgLNjLi"
      }
    },
    {
      "cell_type": "markdown",
      "source": [
        " Using with Statement (Context Manager)"
      ],
      "metadata": {
        "id": "3yLZ80abNs-q"
      }
    },
    {
      "cell_type": "code",
      "source": [
        "with open(\"example.txt\", \"r\") as file:\n",
        "    data = file.read()\n"
      ],
      "metadata": {
        "id": "5JXFVaMSNvmT"
      },
      "execution_count": 14,
      "outputs": []
    },
    {
      "cell_type": "markdown",
      "source": [
        "1.Automatically closes the file after the block finishes.\n",
        "\n",
        "2.Even if an exception occurs, the file is still closed.\n",
        "\n",
        "3.Cleaner and more readable code."
      ],
      "metadata": {
        "id": "6ZrCiB04N0BB"
      }
    },
    {
      "cell_type": "markdown",
      "source": [
        " How it Works:\n",
        "\n",
        "- with creates a context manager.\n",
        "\n",
        "- On entering the block, it opens the file.\n",
        "\n",
        "- On exiting (even due to error), it calls file.close() automatically."
      ],
      "metadata": {
        "id": "z_T47TzTN7wC"
      }
    },
    {
      "cell_type": "markdown",
      "source": [
        "Automatically manages file opening and closing. Ensures files are closed properly even if errors occur."
      ],
      "metadata": {
        "id": "0SnH7DvCJkCT"
      }
    },
    {
      "cell_type": "markdown",
      "source": [
        "9.What is the difference between multithreading and multiprocessing"
      ],
      "metadata": {
        "id": "JUMFv26VHDdC"
      }
    },
    {
      "cell_type": "markdown",
      "source": [
        "- Multithreading: Multiple threads in the same process. Best for I/O-bound tasks.\n",
        "\n",
        "- Multiprocessing: Multiple processes. Best for CPU-bound tasks."
      ],
      "metadata": {
        "id": "uV7uEDvvJ1WL"
      }
    },
    {
      "cell_type": "markdown",
      "source": [
        "10. What are the advantages of using logging in a program"
      ],
      "metadata": {
        "id": "00APWkyUHUm7"
      }
    },
    {
      "cell_type": "markdown",
      "source": [
        "- Helps in debugging\n",
        "\n",
        "- Tracks errors and events\n",
        "\n",
        "- Avoids cluttering code with print statements\n",
        "\n",
        "- Stores logs for future analysis\n",
        "\n"
      ],
      "metadata": {
        "id": "tCEsO3p_J9Me"
      }
    },
    {
      "cell_type": "markdown",
      "source": [
        "11. What is memory management in Python"
      ],
      "metadata": {
        "id": "JKoicCPhHX_g"
      }
    },
    {
      "cell_type": "markdown",
      "source": [
        "\n",
        "Python manages memory using reference counting and garbage collection to free unused memory automatically.\n"
      ],
      "metadata": {
        "id": "aks-zUpRKEa7"
      }
    },
    {
      "cell_type": "markdown",
      "source": [
        "12. What are the basic steps involved in exception handling in Python"
      ],
      "metadata": {
        "id": "Jc6023ezHeTi"
      }
    },
    {
      "cell_type": "markdown",
      "source": [
        "- try: Write risky code.\n",
        "\n",
        "- except: Handle exceptions.\n",
        "\n",
        "- else: Runs if no exception.\n",
        "\n",
        "- finally: Always runs (cleanup)."
      ],
      "metadata": {
        "id": "0VKLx_6SKHqN"
      }
    },
    {
      "cell_type": "markdown",
      "source": [
        "13. Why is memory management important in Python"
      ],
      "metadata": {
        "id": "ICmqB64hHj_4"
      }
    },
    {
      "cell_type": "markdown",
      "source": [
        "Prevents memory leaks, improves efficiency, and ensures system stability"
      ],
      "metadata": {
        "id": "5vPdGhLYKK5z"
      }
    },
    {
      "cell_type": "markdown",
      "source": [
        "14. What is the role of try and except in exception handling"
      ],
      "metadata": {
        "id": "CVFQJxkhHnul"
      }
    },
    {
      "cell_type": "markdown",
      "source": [
        "try: Wrap code that might raise errors.\n",
        "except: Handle the errors if they occur."
      ],
      "metadata": {
        "id": "aroo0x63KNG3"
      }
    },
    {
      "cell_type": "markdown",
      "source": [
        "15. How does Python's garbage collection system work"
      ],
      "metadata": {
        "id": "B0Kckb3UHsnc"
      }
    },
    {
      "cell_type": "markdown",
      "source": [
        "- Uses reference counting.\n",
        "\n",
        "- When reference count = 0, object is deleted.\n",
        "\n",
        "- Handles circular references using the gc module."
      ],
      "metadata": {
        "id": "F3tHdjInKO6g"
      }
    },
    {
      "cell_type": "markdown",
      "source": [
        "16. What is the purpose of the else block in exception handling"
      ],
      "metadata": {
        "id": "pxTNxzg1H2W_"
      }
    },
    {
      "cell_type": "markdown",
      "source": [
        "Runs only if no exception occurred in the try block. Helps separate success logic from error handling."
      ],
      "metadata": {
        "id": "QVE9Z0eVKSM0"
      }
    },
    {
      "cell_type": "markdown",
      "source": [
        "17. What are the common logging levels in Python"
      ],
      "metadata": {
        "id": "HZAuUTS3H8Uz"
      }
    },
    {
      "cell_type": "markdown",
      "source": [
        "- DEBUG: Detailed info for diagnosing problems.\n",
        "\n",
        "- INFO: General info about program execution.\n",
        "\n",
        "- WARNING: Indication of potential issues.\n",
        "\n",
        "- ERROR: Errors that do not stop the program.\n",
        "\n",
        "- CRITICAL: Severe errors causing program to stop"
      ],
      "metadata": {
        "id": "4sCcCngqKUF6"
      }
    },
    {
      "cell_type": "markdown",
      "source": [
        "18. What is the difference between os.fork() and multiprocessing in Python"
      ],
      "metadata": {
        "id": "RhCSEKvbIAUp"
      }
    },
    {
      "cell_type": "markdown",
      "source": [
        "- os.fork(): Low-level, Unix-only, duplicates process.\n",
        "\n",
        "- multiprocessing: High-level, cross-platform, safer to use."
      ],
      "metadata": {
        "id": "iXsHEPjrKX3c"
      }
    },
    {
      "cell_type": "markdown",
      "source": [
        "19. What is the importance of closing a file in Python"
      ],
      "metadata": {
        "id": "h94D5I5eICne"
      }
    },
    {
      "cell_type": "markdown",
      "source": [
        "- Frees up system resources.\n",
        "\n",
        "- Ensures data is properly saved and avoids file corruption."
      ],
      "metadata": {
        "id": "hecblPvlKeIC"
      }
    },
    {
      "cell_type": "markdown",
      "source": [
        "20. What is the difference between file.read() and file.readline() in Python"
      ],
      "metadata": {
        "id": "whGSP1ZVIGTr"
      }
    },
    {
      "cell_type": "markdown",
      "source": [
        "- read(): Reads entire file at once.\n",
        "\n",
        "- readline(): Reads one line at a time"
      ],
      "metadata": {
        "id": "mOPhAML1KhXU"
      }
    },
    {
      "cell_type": "markdown",
      "source": [
        "21. What is the logging module in Python used for"
      ],
      "metadata": {
        "id": "3cP99ymUIKt8"
      }
    },
    {
      "cell_type": "markdown",
      "source": [
        "Logging is the process of recording messages that describe:\n",
        "\n",
        "- Events happening in a program\n",
        "\n",
        "- Errors and exceptions\n",
        "\n",
        "- Status updates or important checkpoints\n",
        "\n",
        "Instead of using print(), which just displays to the console and offers no control, logging provides a flexible, configurable, and scalable way to output messages."
      ],
      "metadata": {
        "id": "WvDP6up1OeZ6"
      }
    },
    {
      "cell_type": "markdown",
      "source": [
        " What is the logging Module?\n",
        "- The logging module is a built-in Python module that allows developers to track events and diagnose problems in a consistent and organized way."
      ],
      "metadata": {
        "id": "s8znisN-OrjV"
      }
    },
    {
      "cell_type": "markdown",
      "source": [
        "The logging module is essential for real-world applications where debugging, monitoring, and maintenance are important. It helps you keep a permanent record of issues and activities for analysis."
      ],
      "metadata": {
        "id": "qFXuEURCO5oR"
      }
    },
    {
      "cell_type": "markdown",
      "source": [
        "To record logs during program execution—errors, events, and information—useful for debugging and monitoring."
      ],
      "metadata": {
        "id": "65sx0hhlKlXQ"
      }
    },
    {
      "cell_type": "markdown",
      "source": [
        "22. what is the os module in Python used for in file handling"
      ],
      "metadata": {
        "id": "csYYS3ufIWKB"
      }
    },
    {
      "cell_type": "markdown",
      "source": [
        "- File and directory operations (e.g., os.rename, os.remove)\n",
        "\n",
        "- Path handling (os.path)\n",
        "\n",
        "- Environment info"
      ],
      "metadata": {
        "id": "Jssm_7haKnUe"
      }
    },
    {
      "cell_type": "markdown",
      "source": [
        "23. What are the challenges associated with memory management in Python"
      ],
      "metadata": {
        "id": "p5W9lugnIY4L"
      }
    },
    {
      "cell_type": "markdown",
      "source": [
        "- Circular references\n",
        "\n",
        "- Hidden memory leaks in long-running programs\n",
        "\n",
        "- Managing large data structures efficiently"
      ],
      "metadata": {
        "id": "roD79WqdLF00"
      }
    },
    {
      "cell_type": "markdown",
      "source": [
        "24.  How do you raise an exception manually in Python"
      ],
      "metadata": {
        "id": "K1thXV7zIdVg"
      }
    },
    {
      "cell_type": "markdown",
      "source": [],
      "metadata": {
        "id": "ClilvOeJMB3V"
      }
    },
    {
      "cell_type": "markdown",
      "source": [
        "25. Why is it important to use multithreading in certain applications?"
      ],
      "metadata": {
        "id": "Xj9xRG9EIfpp"
      }
    },
    {
      "cell_type": "markdown",
      "source": [
        "- Handles I/O-bound tasks efficiently (e.g., network requests).\n",
        "\n",
        "- Improves responsiveness in applications like GUIs or web servers.\\\n"
      ],
      "metadata": {
        "id": "pJOBUw3WKxJE"
      }
    },
    {
      "cell_type": "markdown",
      "source": [
        "# PRATICAL QUESTION"
      ],
      "metadata": {
        "id": "TXyy6dGNPZgE"
      }
    },
    {
      "cell_type": "markdown",
      "source": [
        "1. How can you open a file for writing in Python and write a string to it"
      ],
      "metadata": {
        "id": "ItM4W7AJPoDC"
      }
    },
    {
      "cell_type": "code",
      "source": [
        "\n",
        "with open(\"output.txt\", \"w\") as f:\n",
        "    f.write(\"Hello, this is a test.\")\n"
      ],
      "metadata": {
        "id": "0Ob3vfs-SUh7"
      },
      "execution_count": 17,
      "outputs": []
    },
    {
      "cell_type": "markdown",
      "source": [
        "2. Write a Python program to read the contents of a file and print each line"
      ],
      "metadata": {
        "id": "Tjp4j9ZrSWBL"
      }
    },
    {
      "cell_type": "code",
      "source": [
        "with open(\"example.txt\", \"r\") as f:\n",
        "    for line in f:\n",
        "        print(line.strip())\n"
      ],
      "metadata": {
        "colab": {
          "base_uri": "https://localhost:8080/"
        },
        "id": "nOMRGPuOTdiA",
        "outputId": "bed71c0b-c553-4a24-bd1a-f1e0ae620353"
      },
      "execution_count": 16,
      "outputs": [
        {
          "output_type": "stream",
          "name": "stdout",
          "text": [
            "This is an example file.\n"
          ]
        }
      ]
    },
    {
      "cell_type": "markdown",
      "source": [
        "3. How would you handle a case where the file doesn't exist while trying to open it for reading"
      ],
      "metadata": {
        "id": "iuMcTUL_SYtk"
      }
    },
    {
      "cell_type": "code",
      "source": [
        "try:\n",
        "    with open(\"nonexistent.txt\", \"r\") as f:\n",
        "        print(f.read())\n",
        "except FileNotFoundError:\n",
        "    print(\"File not found.\")\n"
      ],
      "metadata": {
        "colab": {
          "base_uri": "https://localhost:8080/"
        },
        "id": "zAcSdPdkTm7q",
        "outputId": "7b9661c0-c5c0-4631-f3b0-f87100626515"
      },
      "execution_count": 18,
      "outputs": [
        {
          "output_type": "stream",
          "name": "stdout",
          "text": [
            "File not found.\n"
          ]
        }
      ]
    },
    {
      "cell_type": "markdown",
      "source": [
        "4. Write a Python script that reads from one file and writes its content to another file"
      ],
      "metadata": {
        "id": "fC8mbqpaShV1"
      }
    },
    {
      "cell_type": "code",
      "source": [
        "with open(\"source.txt\", \"r\") as src, open(\"destination.txt\", \"w\") as dst:\n",
        "    for line in src:\n",
        "        dst.write(line)\n"
      ],
      "metadata": {
        "id": "ALPu0_nATsH7"
      },
      "execution_count": 23,
      "outputs": []
    },
    {
      "cell_type": "markdown",
      "source": [
        "5.How would you catch and handle division by zero error in Python"
      ],
      "metadata": {
        "id": "juN7pDFJSj3U"
      }
    },
    {
      "cell_type": "code",
      "source": [
        "try:\n",
        "    result = 10 / 0\n",
        "except ZeroDivisionError:\n",
        "    print(\"Cannot divide by zero.\")\n"
      ],
      "metadata": {
        "colab": {
          "base_uri": "https://localhost:8080/"
        },
        "id": "8IhNH4q6UDOS",
        "outputId": "37fc000a-5988-46a7-88f9-6a7359daabe9"
      },
      "execution_count": 24,
      "outputs": [
        {
          "output_type": "stream",
          "name": "stdout",
          "text": [
            "Cannot divide by zero.\n"
          ]
        }
      ]
    },
    {
      "cell_type": "markdown",
      "source": [
        "6.Write a Python program that logs an error message to a log file when a division by zero exception occurs"
      ],
      "metadata": {
        "id": "BfaYzaLTSnmn"
      }
    },
    {
      "cell_type": "code",
      "source": [
        "import logging\n",
        "\n",
        "logging.basicConfig(filename=\"error.log\", level=logging.ERROR)\n",
        "\n",
        "try:\n",
        "    result = 10 / 0\n",
        "except ZeroDivisionError:\n",
        "    logging.error(\"Division by zero error occurred.\")\n"
      ],
      "metadata": {
        "colab": {
          "base_uri": "https://localhost:8080/"
        },
        "id": "13iok3zpUHlS",
        "outputId": "9bf12f17-7d30-413a-fb7d-3cd40733af74"
      },
      "execution_count": 25,
      "outputs": [
        {
          "output_type": "stream",
          "name": "stderr",
          "text": [
            "ERROR:root:Division by zero error occurred.\n"
          ]
        }
      ]
    },
    {
      "cell_type": "markdown",
      "source": [
        "7. How do you log information at different levels (INFO, ERROR, WARNING) in Python using the logging module"
      ],
      "metadata": {
        "id": "3k-PUJ1OSrK4"
      }
    },
    {
      "cell_type": "code",
      "source": [
        "import logging\n",
        "\n",
        "logging.basicConfig(level=logging.DEBUG)\n",
        "\n",
        "logging.info(\"This is an info message.\")\n",
        "logging.warning(\"This is a warning.\")\n",
        "logging.error(\"This is an error.\")\n"
      ],
      "metadata": {
        "colab": {
          "base_uri": "https://localhost:8080/"
        },
        "id": "iarNYMmXURgk",
        "outputId": "cd69c8c2-4563-41fd-ed98-d1df901347b6"
      },
      "execution_count": 26,
      "outputs": [
        {
          "output_type": "stream",
          "name": "stderr",
          "text": [
            "WARNING:root:This is a warning.\n",
            "ERROR:root:This is an error.\n"
          ]
        }
      ]
    },
    {
      "cell_type": "markdown",
      "source": [
        "8. Write a program to handle a file opening error using exception handling"
      ],
      "metadata": {
        "id": "cFvBdzs6SuLU"
      }
    },
    {
      "cell_type": "code",
      "source": [
        "try:\n",
        "    with open(\"data.txt\", \"r\") as f:\n",
        "        print(f.read())\n",
        "except FileNotFoundError:\n",
        "    print(\"The file could not be opened.\")\n"
      ],
      "metadata": {
        "colab": {
          "base_uri": "https://localhost:8080/"
        },
        "id": "QokYcjkWUUNa",
        "outputId": "a580a88f-d674-47d4-851f-049ea12f8d70"
      },
      "execution_count": 27,
      "outputs": [
        {
          "output_type": "stream",
          "name": "stdout",
          "text": [
            "The file could not be opened.\n"
          ]
        }
      ]
    },
    {
      "cell_type": "markdown",
      "source": [
        "9.How can you read a file line by line and store its content in a list in Python"
      ],
      "metadata": {
        "id": "Z1jX2F-NSwQj"
      }
    },
    {
      "cell_type": "code",
      "source": [
        "with open(\"data.txt\", \"r\") as f:\n",
        "    lines = [line.strip() for line in f]\n",
        "print(lines)\n"
      ],
      "metadata": {
        "colab": {
          "base_uri": "https://localhost:8080/"
        },
        "id": "Y-YZqDbBUZ0w",
        "outputId": "76bcd7d3-0024-4480-fdb1-6610b4bafdde"
      },
      "execution_count": 30,
      "outputs": [
        {
          "output_type": "stream",
          "name": "stdout",
          "text": [
            "['line 1', 'line 2', 'line 3']\n"
          ]
        }
      ]
    },
    {
      "cell_type": "markdown",
      "source": [
        "10. How can you append data to an existing file in Python"
      ],
      "metadata": {
        "id": "ZU-6v8LGSzCi"
      }
    },
    {
      "cell_type": "code",
      "source": [
        "with open(\"log.txt\", \"a\") as f:\n",
        "    f.write(\"Appended line.\\n\")\n"
      ],
      "metadata": {
        "id": "Ge25yaUYUkpi"
      },
      "execution_count": 31,
      "outputs": []
    },
    {
      "cell_type": "markdown",
      "source": [
        "11. Write a Python program that uses a try-except block to handle an error when attempting to access a  dictionary key that doesn't exist"
      ],
      "metadata": {
        "id": "rgKz0hXmS1v3"
      }
    },
    {
      "cell_type": "code",
      "source": [
        "data = {\"name\": \"Alice\"}\n",
        "try:\n",
        "    print(data[\"age\"])\n",
        "except KeyError:\n",
        "    print(\"Key not found in dictionary.\")\n"
      ],
      "metadata": {
        "colab": {
          "base_uri": "https://localhost:8080/"
        },
        "id": "pQIMQ2wZUn12",
        "outputId": "d9a9f971-c4e2-45ab-c5b8-7c3b710f39f4"
      },
      "execution_count": 32,
      "outputs": [
        {
          "output_type": "stream",
          "name": "stdout",
          "text": [
            "Key not found in dictionary.\n"
          ]
        }
      ]
    },
    {
      "cell_type": "markdown",
      "source": [
        "12. Write a program that demonstrates using multiple except blocks to handle different types of exceptions"
      ],
      "metadata": {
        "id": "qkKqHcXwS3Qi"
      }
    },
    {
      "cell_type": "code",
      "source": [
        "try:\n",
        "    x = int(\"abc\")\n",
        "    y = 10 / 0\n",
        "except ValueError:\n",
        "    print(\"Value error\")\n",
        "except ZeroDivisionError:\n",
        "    print(\"Zero division error\")\n"
      ],
      "metadata": {
        "colab": {
          "base_uri": "https://localhost:8080/"
        },
        "id": "tb7U2VN4UrGY",
        "outputId": "02ec1f90-2d3b-4e95-c1b0-890301ba3f4f"
      },
      "execution_count": 33,
      "outputs": [
        {
          "output_type": "stream",
          "name": "stdout",
          "text": [
            "Value error\n"
          ]
        }
      ]
    },
    {
      "cell_type": "markdown",
      "source": [
        "13. How would you check if a file exists before attempting to read it in Python"
      ],
      "metadata": {
        "id": "M2gJ-d21S6xW"
      }
    },
    {
      "cell_type": "code",
      "source": [
        "import os\n",
        "\n",
        "if os.path.exists(\"file.txt\"):\n",
        "    with open(\"file.txt\", \"r\") as f:\n",
        "        print(f.read())\n",
        "else:\n",
        "    print(\"File does not exist.\")\n"
      ],
      "metadata": {
        "colab": {
          "base_uri": "https://localhost:8080/"
        },
        "id": "92_GkUFFUt_H",
        "outputId": "1d5bbe1e-1c42-4491-ab40-c4696a177649"
      },
      "execution_count": 34,
      "outputs": [
        {
          "output_type": "stream",
          "name": "stdout",
          "text": [
            "File does not exist.\n"
          ]
        }
      ]
    },
    {
      "cell_type": "markdown",
      "source": [
        "14. Write a program that uses the logging module to log both informational and error messages"
      ],
      "metadata": {
        "id": "EQGhxfTVS9fJ"
      }
    },
    {
      "cell_type": "code",
      "source": [
        "import logging\n",
        "\n",
        "logging.basicConfig(filename=\"logfile.log\", level=logging.DEBUG)\n",
        "\n",
        "logging.info(\"Program started.\")\n",
        "try:\n",
        "    1 / 0\n",
        "except ZeroDivisionError:\n",
        "    logging.error(\"Division by zero error.\")\n"
      ],
      "metadata": {
        "colab": {
          "base_uri": "https://localhost:8080/"
        },
        "id": "_AefBzZHUwku",
        "outputId": "68424b2f-7b8c-49ea-a3cd-24254029a8d9"
      },
      "execution_count": 35,
      "outputs": [
        {
          "output_type": "stream",
          "name": "stderr",
          "text": [
            "ERROR:root:Division by zero error.\n"
          ]
        }
      ]
    },
    {
      "cell_type": "markdown",
      "source": [
        "15. Write a Python program that prints the content of a file and handles the case when the file is empty"
      ],
      "metadata": {
        "id": "HI6uIhPyTBR9"
      }
    },
    {
      "cell_type": "code",
      "source": [
        "with open(\"check.txt\", \"r\") as f:\n",
        "    content = f.read()\n",
        "    if not content:\n",
        "        print(\"The file is empty.\")\n",
        "    else:\n",
        "        print(content)\n"
      ],
      "metadata": {
        "colab": {
          "base_uri": "https://localhost:8080/"
        },
        "id": "V_1QSce_U0b9",
        "outputId": "79ab5620-1bfa-45db-ab4e-05097cc5c424"
      },
      "execution_count": 38,
      "outputs": [
        {
          "output_type": "stream",
          "name": "stdout",
          "text": [
            "The file is empty.\n"
          ]
        }
      ]
    },
    {
      "cell_type": "markdown",
      "source": [
        "16. Demonstrate how to use memory profiling to check the memory usage of a small program"
      ],
      "metadata": {
        "id": "5B4beZPyTDng"
      }
    },
    {
      "cell_type": "code",
      "source": [
        "# Save this as memory_test.py and run with: python -m memory_profiler memory_test.py\n",
        "\n",
        "from memory_profiler import profile\n",
        "\n",
        "@profile\n",
        "def my_function():\n",
        "    a = [i for i in range(10000)]\n",
        "    return a\n",
        "\n",
        "my_function()\n"
      ],
      "metadata": {
        "colab": {
          "base_uri": "https://localhost:8080/"
        },
        "id": "Gb6M3eKPVEjp",
        "outputId": "f364bc75-02e9-4713-9a55-716bc15e1e41"
      },
      "execution_count": 41,
      "outputs": [
        {
          "output_type": "stream",
          "name": "stderr",
          "text": [
            "\n",
            "PYDEV DEBUGGER WARNING:\n",
            "sys.settrace() should not be used when the debugger is being used.\n",
            "This may cause the debugger to stop working correctly.\n",
            "If this is needed, please check: \n",
            "http://pydev.blogspot.com/2007/06/why-cant-pydev-debugger-work-with.html\n",
            "to see how to restore the debug tracing back correctly.\n",
            "Call Location:\n",
            "  File \"/usr/local/lib/python3.11/dist-packages/memory_profiler.py\", line 847, in enable\n",
            "    sys.settrace(self.trace_memory_usage)\n",
            "\n",
            "\n",
            "PYDEV DEBUGGER WARNING:\n",
            "sys.settrace() should not be used when the debugger is being used.\n",
            "This may cause the debugger to stop working correctly.\n",
            "If this is needed, please check: \n",
            "http://pydev.blogspot.com/2007/06/why-cant-pydev-debugger-work-with.html\n",
            "to see how to restore the debug tracing back correctly.\n",
            "Call Location:\n",
            "  File \"/usr/local/lib/python3.11/dist-packages/memory_profiler.py\", line 850, in disable\n",
            "    sys.settrace(self._original_trace_function)\n",
            "\n"
          ]
        },
        {
          "output_type": "stream",
          "name": "stdout",
          "text": [
            "ERROR: Could not find file <ipython-input-41-e2f89b4f8ca7>\n",
            "NOTE: %mprun can only be used on functions defined in physical files, and not in the IPython environment.\n"
          ]
        },
        {
          "output_type": "execute_result",
          "data": {
            "text/plain": [
              "[0,\n",
              " 1,\n",
              " 2,\n",
              " 3,\n",
              " 4,\n",
              " 5,\n",
              " 6,\n",
              " 7,\n",
              " 8,\n",
              " 9,\n",
              " 10,\n",
              " 11,\n",
              " 12,\n",
              " 13,\n",
              " 14,\n",
              " 15,\n",
              " 16,\n",
              " 17,\n",
              " 18,\n",
              " 19,\n",
              " 20,\n",
              " 21,\n",
              " 22,\n",
              " 23,\n",
              " 24,\n",
              " 25,\n",
              " 26,\n",
              " 27,\n",
              " 28,\n",
              " 29,\n",
              " 30,\n",
              " 31,\n",
              " 32,\n",
              " 33,\n",
              " 34,\n",
              " 35,\n",
              " 36,\n",
              " 37,\n",
              " 38,\n",
              " 39,\n",
              " 40,\n",
              " 41,\n",
              " 42,\n",
              " 43,\n",
              " 44,\n",
              " 45,\n",
              " 46,\n",
              " 47,\n",
              " 48,\n",
              " 49,\n",
              " 50,\n",
              " 51,\n",
              " 52,\n",
              " 53,\n",
              " 54,\n",
              " 55,\n",
              " 56,\n",
              " 57,\n",
              " 58,\n",
              " 59,\n",
              " 60,\n",
              " 61,\n",
              " 62,\n",
              " 63,\n",
              " 64,\n",
              " 65,\n",
              " 66,\n",
              " 67,\n",
              " 68,\n",
              " 69,\n",
              " 70,\n",
              " 71,\n",
              " 72,\n",
              " 73,\n",
              " 74,\n",
              " 75,\n",
              " 76,\n",
              " 77,\n",
              " 78,\n",
              " 79,\n",
              " 80,\n",
              " 81,\n",
              " 82,\n",
              " 83,\n",
              " 84,\n",
              " 85,\n",
              " 86,\n",
              " 87,\n",
              " 88,\n",
              " 89,\n",
              " 90,\n",
              " 91,\n",
              " 92,\n",
              " 93,\n",
              " 94,\n",
              " 95,\n",
              " 96,\n",
              " 97,\n",
              " 98,\n",
              " 99,\n",
              " 100,\n",
              " 101,\n",
              " 102,\n",
              " 103,\n",
              " 104,\n",
              " 105,\n",
              " 106,\n",
              " 107,\n",
              " 108,\n",
              " 109,\n",
              " 110,\n",
              " 111,\n",
              " 112,\n",
              " 113,\n",
              " 114,\n",
              " 115,\n",
              " 116,\n",
              " 117,\n",
              " 118,\n",
              " 119,\n",
              " 120,\n",
              " 121,\n",
              " 122,\n",
              " 123,\n",
              " 124,\n",
              " 125,\n",
              " 126,\n",
              " 127,\n",
              " 128,\n",
              " 129,\n",
              " 130,\n",
              " 131,\n",
              " 132,\n",
              " 133,\n",
              " 134,\n",
              " 135,\n",
              " 136,\n",
              " 137,\n",
              " 138,\n",
              " 139,\n",
              " 140,\n",
              " 141,\n",
              " 142,\n",
              " 143,\n",
              " 144,\n",
              " 145,\n",
              " 146,\n",
              " 147,\n",
              " 148,\n",
              " 149,\n",
              " 150,\n",
              " 151,\n",
              " 152,\n",
              " 153,\n",
              " 154,\n",
              " 155,\n",
              " 156,\n",
              " 157,\n",
              " 158,\n",
              " 159,\n",
              " 160,\n",
              " 161,\n",
              " 162,\n",
              " 163,\n",
              " 164,\n",
              " 165,\n",
              " 166,\n",
              " 167,\n",
              " 168,\n",
              " 169,\n",
              " 170,\n",
              " 171,\n",
              " 172,\n",
              " 173,\n",
              " 174,\n",
              " 175,\n",
              " 176,\n",
              " 177,\n",
              " 178,\n",
              " 179,\n",
              " 180,\n",
              " 181,\n",
              " 182,\n",
              " 183,\n",
              " 184,\n",
              " 185,\n",
              " 186,\n",
              " 187,\n",
              " 188,\n",
              " 189,\n",
              " 190,\n",
              " 191,\n",
              " 192,\n",
              " 193,\n",
              " 194,\n",
              " 195,\n",
              " 196,\n",
              " 197,\n",
              " 198,\n",
              " 199,\n",
              " 200,\n",
              " 201,\n",
              " 202,\n",
              " 203,\n",
              " 204,\n",
              " 205,\n",
              " 206,\n",
              " 207,\n",
              " 208,\n",
              " 209,\n",
              " 210,\n",
              " 211,\n",
              " 212,\n",
              " 213,\n",
              " 214,\n",
              " 215,\n",
              " 216,\n",
              " 217,\n",
              " 218,\n",
              " 219,\n",
              " 220,\n",
              " 221,\n",
              " 222,\n",
              " 223,\n",
              " 224,\n",
              " 225,\n",
              " 226,\n",
              " 227,\n",
              " 228,\n",
              " 229,\n",
              " 230,\n",
              " 231,\n",
              " 232,\n",
              " 233,\n",
              " 234,\n",
              " 235,\n",
              " 236,\n",
              " 237,\n",
              " 238,\n",
              " 239,\n",
              " 240,\n",
              " 241,\n",
              " 242,\n",
              " 243,\n",
              " 244,\n",
              " 245,\n",
              " 246,\n",
              " 247,\n",
              " 248,\n",
              " 249,\n",
              " 250,\n",
              " 251,\n",
              " 252,\n",
              " 253,\n",
              " 254,\n",
              " 255,\n",
              " 256,\n",
              " 257,\n",
              " 258,\n",
              " 259,\n",
              " 260,\n",
              " 261,\n",
              " 262,\n",
              " 263,\n",
              " 264,\n",
              " 265,\n",
              " 266,\n",
              " 267,\n",
              " 268,\n",
              " 269,\n",
              " 270,\n",
              " 271,\n",
              " 272,\n",
              " 273,\n",
              " 274,\n",
              " 275,\n",
              " 276,\n",
              " 277,\n",
              " 278,\n",
              " 279,\n",
              " 280,\n",
              " 281,\n",
              " 282,\n",
              " 283,\n",
              " 284,\n",
              " 285,\n",
              " 286,\n",
              " 287,\n",
              " 288,\n",
              " 289,\n",
              " 290,\n",
              " 291,\n",
              " 292,\n",
              " 293,\n",
              " 294,\n",
              " 295,\n",
              " 296,\n",
              " 297,\n",
              " 298,\n",
              " 299,\n",
              " 300,\n",
              " 301,\n",
              " 302,\n",
              " 303,\n",
              " 304,\n",
              " 305,\n",
              " 306,\n",
              " 307,\n",
              " 308,\n",
              " 309,\n",
              " 310,\n",
              " 311,\n",
              " 312,\n",
              " 313,\n",
              " 314,\n",
              " 315,\n",
              " 316,\n",
              " 317,\n",
              " 318,\n",
              " 319,\n",
              " 320,\n",
              " 321,\n",
              " 322,\n",
              " 323,\n",
              " 324,\n",
              " 325,\n",
              " 326,\n",
              " 327,\n",
              " 328,\n",
              " 329,\n",
              " 330,\n",
              " 331,\n",
              " 332,\n",
              " 333,\n",
              " 334,\n",
              " 335,\n",
              " 336,\n",
              " 337,\n",
              " 338,\n",
              " 339,\n",
              " 340,\n",
              " 341,\n",
              " 342,\n",
              " 343,\n",
              " 344,\n",
              " 345,\n",
              " 346,\n",
              " 347,\n",
              " 348,\n",
              " 349,\n",
              " 350,\n",
              " 351,\n",
              " 352,\n",
              " 353,\n",
              " 354,\n",
              " 355,\n",
              " 356,\n",
              " 357,\n",
              " 358,\n",
              " 359,\n",
              " 360,\n",
              " 361,\n",
              " 362,\n",
              " 363,\n",
              " 364,\n",
              " 365,\n",
              " 366,\n",
              " 367,\n",
              " 368,\n",
              " 369,\n",
              " 370,\n",
              " 371,\n",
              " 372,\n",
              " 373,\n",
              " 374,\n",
              " 375,\n",
              " 376,\n",
              " 377,\n",
              " 378,\n",
              " 379,\n",
              " 380,\n",
              " 381,\n",
              " 382,\n",
              " 383,\n",
              " 384,\n",
              " 385,\n",
              " 386,\n",
              " 387,\n",
              " 388,\n",
              " 389,\n",
              " 390,\n",
              " 391,\n",
              " 392,\n",
              " 393,\n",
              " 394,\n",
              " 395,\n",
              " 396,\n",
              " 397,\n",
              " 398,\n",
              " 399,\n",
              " 400,\n",
              " 401,\n",
              " 402,\n",
              " 403,\n",
              " 404,\n",
              " 405,\n",
              " 406,\n",
              " 407,\n",
              " 408,\n",
              " 409,\n",
              " 410,\n",
              " 411,\n",
              " 412,\n",
              " 413,\n",
              " 414,\n",
              " 415,\n",
              " 416,\n",
              " 417,\n",
              " 418,\n",
              " 419,\n",
              " 420,\n",
              " 421,\n",
              " 422,\n",
              " 423,\n",
              " 424,\n",
              " 425,\n",
              " 426,\n",
              " 427,\n",
              " 428,\n",
              " 429,\n",
              " 430,\n",
              " 431,\n",
              " 432,\n",
              " 433,\n",
              " 434,\n",
              " 435,\n",
              " 436,\n",
              " 437,\n",
              " 438,\n",
              " 439,\n",
              " 440,\n",
              " 441,\n",
              " 442,\n",
              " 443,\n",
              " 444,\n",
              " 445,\n",
              " 446,\n",
              " 447,\n",
              " 448,\n",
              " 449,\n",
              " 450,\n",
              " 451,\n",
              " 452,\n",
              " 453,\n",
              " 454,\n",
              " 455,\n",
              " 456,\n",
              " 457,\n",
              " 458,\n",
              " 459,\n",
              " 460,\n",
              " 461,\n",
              " 462,\n",
              " 463,\n",
              " 464,\n",
              " 465,\n",
              " 466,\n",
              " 467,\n",
              " 468,\n",
              " 469,\n",
              " 470,\n",
              " 471,\n",
              " 472,\n",
              " 473,\n",
              " 474,\n",
              " 475,\n",
              " 476,\n",
              " 477,\n",
              " 478,\n",
              " 479,\n",
              " 480,\n",
              " 481,\n",
              " 482,\n",
              " 483,\n",
              " 484,\n",
              " 485,\n",
              " 486,\n",
              " 487,\n",
              " 488,\n",
              " 489,\n",
              " 490,\n",
              " 491,\n",
              " 492,\n",
              " 493,\n",
              " 494,\n",
              " 495,\n",
              " 496,\n",
              " 497,\n",
              " 498,\n",
              " 499,\n",
              " 500,\n",
              " 501,\n",
              " 502,\n",
              " 503,\n",
              " 504,\n",
              " 505,\n",
              " 506,\n",
              " 507,\n",
              " 508,\n",
              " 509,\n",
              " 510,\n",
              " 511,\n",
              " 512,\n",
              " 513,\n",
              " 514,\n",
              " 515,\n",
              " 516,\n",
              " 517,\n",
              " 518,\n",
              " 519,\n",
              " 520,\n",
              " 521,\n",
              " 522,\n",
              " 523,\n",
              " 524,\n",
              " 525,\n",
              " 526,\n",
              " 527,\n",
              " 528,\n",
              " 529,\n",
              " 530,\n",
              " 531,\n",
              " 532,\n",
              " 533,\n",
              " 534,\n",
              " 535,\n",
              " 536,\n",
              " 537,\n",
              " 538,\n",
              " 539,\n",
              " 540,\n",
              " 541,\n",
              " 542,\n",
              " 543,\n",
              " 544,\n",
              " 545,\n",
              " 546,\n",
              " 547,\n",
              " 548,\n",
              " 549,\n",
              " 550,\n",
              " 551,\n",
              " 552,\n",
              " 553,\n",
              " 554,\n",
              " 555,\n",
              " 556,\n",
              " 557,\n",
              " 558,\n",
              " 559,\n",
              " 560,\n",
              " 561,\n",
              " 562,\n",
              " 563,\n",
              " 564,\n",
              " 565,\n",
              " 566,\n",
              " 567,\n",
              " 568,\n",
              " 569,\n",
              " 570,\n",
              " 571,\n",
              " 572,\n",
              " 573,\n",
              " 574,\n",
              " 575,\n",
              " 576,\n",
              " 577,\n",
              " 578,\n",
              " 579,\n",
              " 580,\n",
              " 581,\n",
              " 582,\n",
              " 583,\n",
              " 584,\n",
              " 585,\n",
              " 586,\n",
              " 587,\n",
              " 588,\n",
              " 589,\n",
              " 590,\n",
              " 591,\n",
              " 592,\n",
              " 593,\n",
              " 594,\n",
              " 595,\n",
              " 596,\n",
              " 597,\n",
              " 598,\n",
              " 599,\n",
              " 600,\n",
              " 601,\n",
              " 602,\n",
              " 603,\n",
              " 604,\n",
              " 605,\n",
              " 606,\n",
              " 607,\n",
              " 608,\n",
              " 609,\n",
              " 610,\n",
              " 611,\n",
              " 612,\n",
              " 613,\n",
              " 614,\n",
              " 615,\n",
              " 616,\n",
              " 617,\n",
              " 618,\n",
              " 619,\n",
              " 620,\n",
              " 621,\n",
              " 622,\n",
              " 623,\n",
              " 624,\n",
              " 625,\n",
              " 626,\n",
              " 627,\n",
              " 628,\n",
              " 629,\n",
              " 630,\n",
              " 631,\n",
              " 632,\n",
              " 633,\n",
              " 634,\n",
              " 635,\n",
              " 636,\n",
              " 637,\n",
              " 638,\n",
              " 639,\n",
              " 640,\n",
              " 641,\n",
              " 642,\n",
              " 643,\n",
              " 644,\n",
              " 645,\n",
              " 646,\n",
              " 647,\n",
              " 648,\n",
              " 649,\n",
              " 650,\n",
              " 651,\n",
              " 652,\n",
              " 653,\n",
              " 654,\n",
              " 655,\n",
              " 656,\n",
              " 657,\n",
              " 658,\n",
              " 659,\n",
              " 660,\n",
              " 661,\n",
              " 662,\n",
              " 663,\n",
              " 664,\n",
              " 665,\n",
              " 666,\n",
              " 667,\n",
              " 668,\n",
              " 669,\n",
              " 670,\n",
              " 671,\n",
              " 672,\n",
              " 673,\n",
              " 674,\n",
              " 675,\n",
              " 676,\n",
              " 677,\n",
              " 678,\n",
              " 679,\n",
              " 680,\n",
              " 681,\n",
              " 682,\n",
              " 683,\n",
              " 684,\n",
              " 685,\n",
              " 686,\n",
              " 687,\n",
              " 688,\n",
              " 689,\n",
              " 690,\n",
              " 691,\n",
              " 692,\n",
              " 693,\n",
              " 694,\n",
              " 695,\n",
              " 696,\n",
              " 697,\n",
              " 698,\n",
              " 699,\n",
              " 700,\n",
              " 701,\n",
              " 702,\n",
              " 703,\n",
              " 704,\n",
              " 705,\n",
              " 706,\n",
              " 707,\n",
              " 708,\n",
              " 709,\n",
              " 710,\n",
              " 711,\n",
              " 712,\n",
              " 713,\n",
              " 714,\n",
              " 715,\n",
              " 716,\n",
              " 717,\n",
              " 718,\n",
              " 719,\n",
              " 720,\n",
              " 721,\n",
              " 722,\n",
              " 723,\n",
              " 724,\n",
              " 725,\n",
              " 726,\n",
              " 727,\n",
              " 728,\n",
              " 729,\n",
              " 730,\n",
              " 731,\n",
              " 732,\n",
              " 733,\n",
              " 734,\n",
              " 735,\n",
              " 736,\n",
              " 737,\n",
              " 738,\n",
              " 739,\n",
              " 740,\n",
              " 741,\n",
              " 742,\n",
              " 743,\n",
              " 744,\n",
              " 745,\n",
              " 746,\n",
              " 747,\n",
              " 748,\n",
              " 749,\n",
              " 750,\n",
              " 751,\n",
              " 752,\n",
              " 753,\n",
              " 754,\n",
              " 755,\n",
              " 756,\n",
              " 757,\n",
              " 758,\n",
              " 759,\n",
              " 760,\n",
              " 761,\n",
              " 762,\n",
              " 763,\n",
              " 764,\n",
              " 765,\n",
              " 766,\n",
              " 767,\n",
              " 768,\n",
              " 769,\n",
              " 770,\n",
              " 771,\n",
              " 772,\n",
              " 773,\n",
              " 774,\n",
              " 775,\n",
              " 776,\n",
              " 777,\n",
              " 778,\n",
              " 779,\n",
              " 780,\n",
              " 781,\n",
              " 782,\n",
              " 783,\n",
              " 784,\n",
              " 785,\n",
              " 786,\n",
              " 787,\n",
              " 788,\n",
              " 789,\n",
              " 790,\n",
              " 791,\n",
              " 792,\n",
              " 793,\n",
              " 794,\n",
              " 795,\n",
              " 796,\n",
              " 797,\n",
              " 798,\n",
              " 799,\n",
              " 800,\n",
              " 801,\n",
              " 802,\n",
              " 803,\n",
              " 804,\n",
              " 805,\n",
              " 806,\n",
              " 807,\n",
              " 808,\n",
              " 809,\n",
              " 810,\n",
              " 811,\n",
              " 812,\n",
              " 813,\n",
              " 814,\n",
              " 815,\n",
              " 816,\n",
              " 817,\n",
              " 818,\n",
              " 819,\n",
              " 820,\n",
              " 821,\n",
              " 822,\n",
              " 823,\n",
              " 824,\n",
              " 825,\n",
              " 826,\n",
              " 827,\n",
              " 828,\n",
              " 829,\n",
              " 830,\n",
              " 831,\n",
              " 832,\n",
              " 833,\n",
              " 834,\n",
              " 835,\n",
              " 836,\n",
              " 837,\n",
              " 838,\n",
              " 839,\n",
              " 840,\n",
              " 841,\n",
              " 842,\n",
              " 843,\n",
              " 844,\n",
              " 845,\n",
              " 846,\n",
              " 847,\n",
              " 848,\n",
              " 849,\n",
              " 850,\n",
              " 851,\n",
              " 852,\n",
              " 853,\n",
              " 854,\n",
              " 855,\n",
              " 856,\n",
              " 857,\n",
              " 858,\n",
              " 859,\n",
              " 860,\n",
              " 861,\n",
              " 862,\n",
              " 863,\n",
              " 864,\n",
              " 865,\n",
              " 866,\n",
              " 867,\n",
              " 868,\n",
              " 869,\n",
              " 870,\n",
              " 871,\n",
              " 872,\n",
              " 873,\n",
              " 874,\n",
              " 875,\n",
              " 876,\n",
              " 877,\n",
              " 878,\n",
              " 879,\n",
              " 880,\n",
              " 881,\n",
              " 882,\n",
              " 883,\n",
              " 884,\n",
              " 885,\n",
              " 886,\n",
              " 887,\n",
              " 888,\n",
              " 889,\n",
              " 890,\n",
              " 891,\n",
              " 892,\n",
              " 893,\n",
              " 894,\n",
              " 895,\n",
              " 896,\n",
              " 897,\n",
              " 898,\n",
              " 899,\n",
              " 900,\n",
              " 901,\n",
              " 902,\n",
              " 903,\n",
              " 904,\n",
              " 905,\n",
              " 906,\n",
              " 907,\n",
              " 908,\n",
              " 909,\n",
              " 910,\n",
              " 911,\n",
              " 912,\n",
              " 913,\n",
              " 914,\n",
              " 915,\n",
              " 916,\n",
              " 917,\n",
              " 918,\n",
              " 919,\n",
              " 920,\n",
              " 921,\n",
              " 922,\n",
              " 923,\n",
              " 924,\n",
              " 925,\n",
              " 926,\n",
              " 927,\n",
              " 928,\n",
              " 929,\n",
              " 930,\n",
              " 931,\n",
              " 932,\n",
              " 933,\n",
              " 934,\n",
              " 935,\n",
              " 936,\n",
              " 937,\n",
              " 938,\n",
              " 939,\n",
              " 940,\n",
              " 941,\n",
              " 942,\n",
              " 943,\n",
              " 944,\n",
              " 945,\n",
              " 946,\n",
              " 947,\n",
              " 948,\n",
              " 949,\n",
              " 950,\n",
              " 951,\n",
              " 952,\n",
              " 953,\n",
              " 954,\n",
              " 955,\n",
              " 956,\n",
              " 957,\n",
              " 958,\n",
              " 959,\n",
              " 960,\n",
              " 961,\n",
              " 962,\n",
              " 963,\n",
              " 964,\n",
              " 965,\n",
              " 966,\n",
              " 967,\n",
              " 968,\n",
              " 969,\n",
              " 970,\n",
              " 971,\n",
              " 972,\n",
              " 973,\n",
              " 974,\n",
              " 975,\n",
              " 976,\n",
              " 977,\n",
              " 978,\n",
              " 979,\n",
              " 980,\n",
              " 981,\n",
              " 982,\n",
              " 983,\n",
              " 984,\n",
              " 985,\n",
              " 986,\n",
              " 987,\n",
              " 988,\n",
              " 989,\n",
              " 990,\n",
              " 991,\n",
              " 992,\n",
              " 993,\n",
              " 994,\n",
              " 995,\n",
              " 996,\n",
              " 997,\n",
              " 998,\n",
              " 999,\n",
              " ...]"
            ]
          },
          "metadata": {},
          "execution_count": 41
        }
      ]
    },
    {
      "cell_type": "markdown",
      "source": [
        "17. Write a Python program to create and write a list of numbers to a file, one number per line"
      ],
      "metadata": {
        "id": "r1ALgtaDTFxO"
      }
    },
    {
      "cell_type": "code",
      "source": [
        "numbers = [1, 2, 3, 4, 5]\n",
        "with open(\"numbers.txt\", \"w\") as f:\n",
        "    for number in numbers:\n",
        "        f.write(f\"{number}\\n\")\n"
      ],
      "metadata": {
        "id": "nbWKCQ_MVPvA"
      },
      "execution_count": 43,
      "outputs": []
    },
    {
      "cell_type": "markdown",
      "source": [
        "18. How would you implement a basic logging setup that logs to a file with rotation after 1MB"
      ],
      "metadata": {
        "id": "vGEg-qnCTHmx"
      }
    },
    {
      "cell_type": "code",
      "source": [
        "import logging\n",
        "from logging.handlers import RotatingFileHandler\n",
        "\n",
        "handler = RotatingFileHandler(\"app.log\", maxBytes=1_000_000, backupCount=5)\n",
        "logging.basicConfig(handlers=[handler], level=logging.INFO)\n",
        "\n",
        "logging.info(\"This log will rotate after 1MB.\")\n"
      ],
      "metadata": {
        "id": "4Wg8Xqp8VTnu"
      },
      "execution_count": 44,
      "outputs": []
    },
    {
      "cell_type": "markdown",
      "source": [
        "19. Write a program that handles both IndexError and KeyError using a try-except block"
      ],
      "metadata": {
        "id": "ztta5H1dTL3k"
      }
    },
    {
      "cell_type": "code",
      "source": [
        "try:\n",
        "    lst = [1, 2, 3]\n",
        "    print(lst[5])\n",
        "    d = {\"a\": 1}\n",
        "    print(d[\"b\"])\n",
        "except IndexError:\n",
        "    print(\"Index out of range.\")\n",
        "except KeyError:\n",
        "    print(\"Key not found.\")\n"
      ],
      "metadata": {
        "colab": {
          "base_uri": "https://localhost:8080/"
        },
        "id": "sdO3P0htVWsH",
        "outputId": "5c4ef23b-7e4b-4a77-dc57-33981d152d75"
      },
      "execution_count": 45,
      "outputs": [
        {
          "output_type": "stream",
          "name": "stdout",
          "text": [
            "Index out of range.\n"
          ]
        }
      ]
    },
    {
      "cell_type": "markdown",
      "source": [
        "20. How would you open a file and read its contents using a context manager in Python"
      ],
      "metadata": {
        "id": "pxlBsy5HTNbQ"
      }
    },
    {
      "cell_type": "code",
      "source": [
        "with open(\"sample.txt\", \"r\") as f:\n",
        "    content = f.read()\n",
        "    print(content)\n"
      ],
      "metadata": {
        "colab": {
          "base_uri": "https://localhost:8080/"
        },
        "id": "-5NZ7pWjVaz0",
        "outputId": "911da779-2b32-4c77-b5ea-9eb7cb41ac6b"
      },
      "execution_count": 48,
      "outputs": [
        {
          "output_type": "stream",
          "name": "stdout",
          "text": [
            "This is a sample file.\n"
          ]
        }
      ]
    },
    {
      "cell_type": "markdown",
      "source": [
        "21 Write a Python program that reads a file and prints the number of occurrences of a specific word"
      ],
      "metadata": {
        "id": "2mFyiC2aTQIY"
      }
    },
    {
      "cell_type": "code",
      "source": [
        "word_to_find = \"python\"\n",
        "count = 0\n",
        "with open(\"text.txt\", \"r\") as f:\n",
        "    for line in f:\n",
        "        count += line.lower().count(word_to_find.lower())\n",
        "print(f\"'{word_to_find}' found {count} times.\")\n"
      ],
      "metadata": {
        "colab": {
          "base_uri": "https://localhost:8080/"
        },
        "id": "ux1Oj0DoVrm7",
        "outputId": "cc5277c7-3d32-4d5f-ffe0-a32685517bbb"
      },
      "execution_count": 51,
      "outputs": [
        {
          "output_type": "stream",
          "name": "stdout",
          "text": [
            "'python' found 2 times.\n"
          ]
        }
      ]
    },
    {
      "cell_type": "markdown",
      "source": [
        "22. How can you check if a file is empty before attempting to read its contents"
      ],
      "metadata": {
        "id": "YWBpdGfrTR-x"
      }
    },
    {
      "cell_type": "code",
      "source": [
        "import os\n",
        "\n",
        "if os.path.getsize(\"sample.txt\") == 0:\n",
        "    print(\"File is empty.\")\n",
        "else:\n",
        "    with open(\"sample.txt\", \"r\") as f:\n",
        "        print(f.read())\n"
      ],
      "metadata": {
        "colab": {
          "base_uri": "https://localhost:8080/"
        },
        "id": "uwKP5A3NV1uT",
        "outputId": "d607f88b-da49-488e-d087-6c43340c08c5"
      },
      "execution_count": 52,
      "outputs": [
        {
          "output_type": "stream",
          "name": "stdout",
          "text": [
            "This is a sample file.\n"
          ]
        }
      ]
    },
    {
      "cell_type": "markdown",
      "source": [
        "23. Write a Python program that writes to a log file when an error occurs during file handling."
      ],
      "metadata": {
        "id": "i1IAwr7DTVR6"
      }
    },
    {
      "cell_type": "code",
      "source": [
        "import logging\n",
        "\n",
        "logging.basicConfig(filename=\"file_error.log\", level=logging.ERROR)\n",
        "\n",
        "try:\n",
        "    with open(\"missing.txt\", \"r\") as f:\n",
        "        data = f.read()\n",
        "except Exception as e:\n",
        "    logging.error(f\"Error opening file: {e}\")\n"
      ],
      "metadata": {
        "colab": {
          "base_uri": "https://localhost:8080/"
        },
        "id": "JLRSFTaFV4P4",
        "outputId": "be9db551-be53-40b5-ddc9-5b3375ddaf04"
      },
      "execution_count": 53,
      "outputs": [
        {
          "output_type": "stream",
          "name": "stderr",
          "text": [
            "ERROR:root:Error opening file: [Errno 2] No such file or directory: 'missing.txt'\n"
          ]
        }
      ]
    }
  ]
}