{
  "nbformat": 4,
  "nbformat_minor": 0,
  "metadata": {
    "colab": {
      "provenance": []
    },
    "kernelspec": {
      "name": "python3",
      "display_name": "Python 3"
    },
    "language_info": {
      "name": "python"
    }
  },
  "cells": [
    {
      "cell_type": "markdown",
      "source": [
        "1.What is the difference between interpreted and compiled languages?\n",
        "  \n",
        "  Programming languages can be broadly categorized into interpreted and compiled languages based on how their code is executed by a computer. The key difference lies in the way the source code is translated into machine code.\n",
        "\n",
        "A compiled language requires a compiler, which translates the entire source code into machine code (binary form) before execution. This machine code is stored as an executable file that can be run multiple times without needing recompilation. Examples include C, C++, and Java (partially). Compiled programs generally run faster and are more efficient because the translation happens beforehand. However, debugging can be harder, and any code changes require recompilation.\n",
        "\n",
        "On the other hand, an interpreted language uses an interpreter, which translates and executes the code line-by-line at runtime. It does not produce a separate executable file. Examples include Python, JavaScript, and Ruby. Interpreted languages are generally easier to debug and modify because you can test and execute parts of the code quickly without recompilation. However, they often run slower than compiled programs due to the overhead of interpreting at runtime.\n",
        "\n",
        " 2.What is exception handling in Python\n",
        "\n",
        "  Exception handling in Python is a programming technique used to manage and respond to runtime errors in a controlled and predictable manner. During the execution of a program, unexpected events such as invalid input, division by zero, or file access errors can occur. These events are known as exceptions. If not handled properly, exceptions can cause a program to crash or behave unexpectedly. Python provides a structured way to detect and handle these exceptions, allowing the program to continue executing or terminate gracefully with a meaningful message.\n",
        "\n",
        "The primary purpose of exception handling is to ensure that programs can handle errors intelligently without terminating abruptly. It enhances the reliability, stability, and user-friendliness of the application. Python uses specific keywords for exception handling: try, except, else, and finally.\n",
        "\n",
        "The try block contains the code that might raise an exception. The except block is used to catch and handle specific exceptions. The else block is optional and executes only if no exception occurs in the try block. The finally block is also optional and is used to write code that must be executed regardless of whether an exception was raised or not, such as releasing resources or closing files.\n",
        "\n",
        "Python supports various built-in exceptions like ZeroDivisionError, ValueError, TypeError, and more. Users can also define their own custom exceptions by creating new exception classes.\n",
        "\n",
        "Overall, exception handling is an essential feature in Python programming that helps in writing robust and fault-tolerant code by managing errors gracefully.\n",
        "\n",
        "  \n",
        "3.What is the purpose of the finally block in exception handling\n",
        "\n",
        "In Python exception handling, the finally block is used to define a section of code that executes no matter what—whether an exception is raised or not, and whether it is handled or not. The primary purpose of the finally block is to guarantee the execution of important cleanup actions, such as releasing resources, closing files, or disconnecting from a network or database.\n",
        "\n",
        "The finally block is placed at the end of a try-except structure. It ensures that the specified code runs after the try and except blocks have executed, regardless of whether an exception was caught or not. This makes it especially useful in scenarios where resource management is critical.\n",
        "\n",
        " 4.What is logging in Python\n",
        "\n",
        "  Logging in Python is the process of recording messages that describe events during a program’s execution. It is a powerful tool used by developers to track the flow of a program, identify bugs, and monitor application performance. Unlike simple print statements, the Python logging module provides a flexible and standardized way to report messages with different severity levels.\n",
        "\n",
        "The purpose of logging is to provide insight into the internal state of a program at various stages. It helps in debugging, testing, and maintaining code, especially in large or long-running applications.\n",
        "\n",
        "Python’s built-in logging module offers several advantages:\n",
        "\n",
        "Multiple Severity Levels: Messages can be categorized as DEBUG, INFO, WARNING, ERROR, and CRITICAL, allowing developers to filter logs according to importance.\n",
        "\n",
        "Configurable Output: Logs can be displayed on the console, written to files, or even sent to remote servers, depending on configuration.\n",
        "\n",
        "Timestamp and Formatting: Logging can automatically include timestamps, line numbers, and module names, which help in detailed error tracing.\n",
        "\n",
        "\n",
        "5.What is the significance of the __del__ method in Python\n",
        "\n",
        "In Python, the __del__ method is a special method known as a destructor. It is automatically called when an object is about to be destroyed, i.e., when there are no more references to the object and it is being garbage collected. The primary purpose of the __del__ method is to release resources that the object may have acquired during its lifetime, such as closing files, releasing memory, or disconnecting from databases.\n",
        "\n",
        "\n",
        "6.What is the difference between import and from ... import in Python\n",
        "\n",
        " Difference Between import and from ... import in Python (250 Words)\n",
        "\n",
        "In Python, both import and from ... import are used to include external modules or specific functions and variables from those modules into your program. However, they differ in how they make the contents of the module accessible.\n",
        "\n",
        "import Statement\n",
        "The import statement imports the entire module. To use any function, class, or variable from that module, you must prefix it with the module name.\n",
        "\n",
        "from ... import Statement\n",
        "The from ... import statement imports specific components (functions, variables, or classes) directly from the module, so you can use them without the module prefix.\n",
        "\n",
        "Key Differences:\n",
        "import brings in the entire module, while from ... import brings in specific items.\n",
        "\n",
        "import requires using the module name as a prefix, promoting better namespace management.\n",
        "\n",
        "7.How can you handle multiple exceptions in Python\n",
        "  \n",
        "In Python, exception handling is crucial for writing robust programs that can manage runtime errors gracefully. Often, a block of code may raise different types of exceptions, and handling each type appropriately is essential. Python allows multiple exceptions to be handled using different approaches.\n",
        "\n",
        "The most common method is using multiple except blocks. In this approach, a separate except clause is written for each exception type. When an exception occurs, Python matches it with each except block in sequence and executes the block that matches. This allows specific error messages or corrective actions for each error type, such as ValueError, TypeError, or ZeroDivisionError.\n",
        "\n",
        "Another method is using a single except block with a tuple of exceptions. This is useful when the same response can be given to multiple error types. For example, both ValueError and ZeroDivisionError can be handled together using except (ValueError, ZeroDivisionError):.\n",
        "\n",
        "A more general approach is to use a generic except block such as except Exception:. This catches all exceptions derived from the base Exception class. However, this should be used cautiously, as it may hide programming mistakes or make debugging difficult.\n",
        "\n",
        "To ensure certain code runs regardless of whether an exception occurs or not, Python provides a finally block. This is commonly used for cleanup tasks, like closing files or releasing resources.\n",
        "\n",
        "By combining these methods, Python developers can build resilient applications that handle diverse error conditions gracefully and predictably.\n",
        "\n",
        "\n",
        "8.What is the purpose of the with statement when handling files in Python\n",
        "\n",
        "  In Python, the with statement is primarily used to manage resources like files, ensuring they are properly opened and closed. When handling files, the with statement simplifies file operations by automatically managing the file's lifecycle — opening the file, performing operations, and closing it afterward, even if an error occurs during the process.\n",
        "\n",
        "Traditionally, when a file is opened using open(), it needs to be explicitly closed using the close() method. Failing to do so can lead to memory leaks, file corruption, or data not being written properly, especially when exceptions occur. The with statement eliminates this risk by automatically closing the file once the block inside the with statement is exited.\n",
        "\n",
        "\n",
        " 9.What is the difference between multithreading and multiprocessing\n",
        "\n",
        " Multithreading and multiprocessing are both techniques used to achieve concurrent execution in Python, but they differ significantly in how they utilize system resources and handle tasks.\n",
        "\n",
        "✅ Multithreading\n",
        "Multithreading involves running multiple threads (lightweight sub-processes) within a single process. All threads share the same memory space, making communication between them easy. It is ideal for I/O-bound tasks, such as reading/writing files, network communication, or user interface updates, where the program spends time waiting rather than computing.\n",
        "\n",
        "In Python, the threading module is used for multithreading. However, due to the Global Interpreter Lock (GIL) in CPython, only one thread can execute Python bytecode at a time, even on multi-core processors. This limits its efficiency for CPU-bound tasks.\n",
        "\n",
        "Advantages:\n",
        "\n",
        "Less memory usage (threads share memory).\n",
        "\n",
        "Easier inter-thread communication.\n",
        "\n",
        "Best suited for I/O-bound tasks.\n",
        "\n",
        "✅ Multiprocessing\n",
        "Multiprocessing uses multiple processes, each with its own memory space and Python interpreter. This approach bypasses the GIL, allowing multiple processes to run truly in parallel on multiple CPU cores. It is ideal for CPU-bound tasks, such as complex calculations, data processing, or simulations.\n",
        "\n",
        "Python’s multiprocessing module allows parallel execution using separate processes, providing better performance for CPU-intensive operations.\n",
        "\n",
        "Advantages:\n",
        "\n",
        "True parallelism on multi-core systems.\n",
        "\n",
        "Suitable for CPU-bound tasks.\n",
        "\n",
        "No GIL limitation.\n",
        "\n",
        "10.What are the advantages of using logging in a program\n",
        "\n",
        "Logging in Python is a built-in mechanism used to track events that happen while software runs. The logging module provides a flexible framework for emitting log messages from Python programs. Unlike print() statements, logging offers more control, configurability, and professional debugging support.\n",
        "\n",
        "✅ 1. Helps in Debugging\n",
        "Logging helps developers trace the flow of a program and identify bugs or errors efficiently. By reviewing log messages, one can understand what the program was doing before an error occurred.\n",
        "\n",
        "✅ 2. Tracks Events Over Time\n",
        "Logs can record events over a long period, making it easier to analyze trends, detect failures, or audit changes. This is especially helpful for web applications and long-running scripts.\n",
        "\n",
        "✅ 3. Provides Different Log Levels\n",
        "The logging module supports multiple severity levels: DEBUG, INFO, WARNING, ERROR, and CRITICAL. This allows categorizing and filtering messages based on importance.\n",
        "\n",
        "4.Log to Files or Remote Servers\n",
        "Logs can be written not only to the console but also to files or remote logging systems. This makes it easier to monitor applications running on servers without constant manual inspection.\n",
        "\n",
        "✅ 5. Better than Print Statements\n",
        "Unlike print(), logging can be easily turned off or redirected without changing the actual program logic. It is more suitable for production-level code.\n",
        "\n",
        "✅ 6. Helps in Postmortem Analysis\n",
        "Logs are useful in understanding what went wrong after an error has occurred, especially when the issue is not reproducible immediately.\n",
        "\n",
        "\n",
        "11.What is memory management in Python\n",
        "\n",
        "  Memory management in Python refers to the process of allocating, managing, and freeing memory during the execution of a program. It ensures that a program uses memory efficiently and safely without causing memory leaks or crashes.\n",
        "\n",
        "Python uses a combination of techniques for memory management, including:\n",
        "\n",
        "✅ 1. Automatic Memory Management\n",
        "Python manages memory automatically, meaning the programmer doesn’t need to explicitly allocate or deallocate memory. This is handled by the Python Memory Manager, which manages objects, variables, and data structures.\n",
        "\n",
        "✅ 2. Garbage Collection\n",
        "Python uses garbage collection to automatically reclaim memory occupied by objects that are no longer in use. It mainly uses a technique called reference counting, where every object keeps track of how many references point to it. When this count reaches zero, the memory is released.\n",
        "\n",
        "In addition to reference counting, Python uses a cyclic garbage collector to detect and clean up reference cycles (e.g., when two objects reference each other but are otherwise unused).\n",
        "\n",
        "✅ 3. Private Heap Space\n",
        "All Python objects and data structures are stored in a private memory area called the heap. The programmer doesn’t access this memory directly. The Python memory manager handles it internally.\n",
        "\n",
        "✅ 4. Memory Pools (Pymalloc)\n",
        "Python uses an internal memory management system called pymalloc, which is optimized for small object allocations. It reduces fragmentation and improves performance.\n",
        "\n",
        "\n",
        "12.What are the basic steps involved in exception handling in Python\n",
        "\n",
        " Exception handling in Python is a mechanism to respond to runtime errors or unexpected situations in a program without crashing it. It ensures that the program handles errors gracefully, providing meaningful feedback or alternate flows.\n",
        "\n",
        "Here are the basic steps involved in exception handling:\n",
        "\n",
        "✅ 1. Identify Risky Code (Try Block)\n",
        "The first step is to wrap the code that might raise an exception inside a try block. This tells Python to monitor the block for errors.\n",
        "\n",
        "\n",
        "If an exception occurs in the try block, Python immediately stops executing the remaining code in that block and looks for a matching except block to handle it.\n",
        "\n",
        "\n",
        "✅ 3. Optional Else Block\n",
        "If no exceptions are raised in the try block, the else block (if present) is executed. It is useful for placing code that should run only if no error occurred.\n",
        "\n",
        "\n",
        "✅ 4. Cleanup with Finally Block\n",
        "The finally block is executed regardless of whether an exception was raised or not. It is typically used for releasing resources like closing files or network connections.\n",
        "\n",
        "13.Why is memory management important in Python\n",
        "\n",
        " Memory management is a critical aspect of programming in any language, including Python. It refers to the efficient allocation, use, and release of memory resources during a program’s execution. Proper memory management ensures that a Python application runs efficiently, remains scalable, and avoids memory-related errors.\n",
        "\n",
        "✅ 1. Efficient Resource Utilization\n",
        "Memory is a limited and valuable system resource. Efficient memory management ensures that a program uses only the memory it needs and releases unused memory promptly, preventing wastage.\n",
        "\n",
        "✅ 2. Prevention of Memory Leaks\n",
        "A memory leak occurs when a program fails to release memory that is no longer needed. Over time, this can slow down or crash applications. Python’s built-in garbage collector helps prevent such issues, but understanding memory management ensures developers write code that doesn’t unintentionally retain references to unused objects.\n",
        "\n",
        "✅ 3. Improved Performance\n",
        "Proper memory usage enhances a program’s performance. Excessive memory consumption can lead to slow execution, higher CPU usage, and inefficient system behavior. Memory management helps in optimizing performance, especially for large-scale or long-running applications.\n",
        "\n",
        "✅ 4. Safe and Predictable Behavior\n",
        "Uncontrolled memory usage can cause unexpected behavior like crashes or freezing. With proper memory management, Python programs behave predictably and recover gracefully from errors.\n",
        "\n",
        "✅ 5. Support for Scalability\n",
        "Applications that handle large datasets or run on servers need to manage memory well to scale effectively. Poor memory handling can limit scalability.\n",
        "\n",
        "\n",
        "14.What is the role of try and except in exception handling\n",
        "\n",
        "  In Python, exception handling is a mechanism to manage errors that occur during program execution. The try and except blocks are central to this mechanism. They allow a program to continue running even when unexpected errors occur, preventing crashes and enabling user-friendly error messages or fallback logic.\n",
        "\n",
        "✅ try Block: Identifying Risky Code\n",
        "The try block contains code that might raise an exception. Python executes the code inside the try block and monitors it for errors. If no error occurs, the except block is skipped.\n",
        "\n",
        "\n",
        "If the user enters non-numeric input or 0, an exception may occur. That’s why this code is enclosed in a try block.\n",
        "\n",
        "✅ except Block: Handling Exceptions\n",
        "The except block catches and handles specific exceptions that occur in the try block. When an error is encountered, Python stops executing the rest of the try block and jumps to the matching except block.\n",
        "\n",
        "\n",
        "Multiple except blocks can be used to handle different exception types separately. Alternatively, a single except can handle multiple exceptions.\n",
        "\n",
        "\n",
        "15.How does Python's garbage collection system work\n",
        "  \n",
        "\n",
        "  Python’s garbage collection (GC) system is responsible for automatically managing memory by reclaiming memory occupied by objects that are no longer in use. This helps prevent memory leaks and keeps applications efficient and stable.\n",
        "\n",
        "✅ 1. Reference Counting\n",
        "At the core of Python’s memory management is reference counting. Every object in Python has an associated reference count — a counter that tracks how many references point to that object.\n",
        "\n",
        "When an object is created, its reference count is set to 1.\n",
        "\n",
        "When new references to the object are made, the count increases.\n",
        "\n",
        "When references are deleted or go out of scope, the count decreases.\n",
        "\n",
        "When an object’s reference count reaches zero, Python knows that it is no longer needed and automatically frees the memory.\n",
        "\n",
        "✅ 2. Problem with Circular References\n",
        "Reference counting alone cannot handle circular references — situations where two or more objects reference each other but are no longer accessible from the main program. These objects would never have a reference count of zero and thus never be deleted.\n",
        "\n",
        "✅ 3. Cyclic Garbage Collector\n",
        "To address this, Python includes a cyclic garbage collector that periodically scans for groups of objects involved in circular references. It uses an algorithm to detect unreachable object cycles and safely removes them.\n",
        "\n",
        "The garbage collector runs automatically but can also be controlled manually using the gc module.\n",
        "\n",
        "\n",
        "  \n",
        "16.F What is the purpose of the else block in exception handling\n",
        "\n",
        " n Python’s exception handling structure, the else block provides a way to specify code that should run only if no exceptions were raised in the preceding try block. It allows for cleaner and more organized code by separating the error handling (except) from the code that runs when everything goes smoothly.\n",
        "\n",
        "\n",
        "17.What are the common logging levels in Python\n",
        "\n",
        " Python’s built-in logging module defines several standard logging levels that indicate the severity or importance of log messages. These levels help developers filter and organize log output, making it easier to debug and monitor applications.\n",
        "\n",
        "Here are the common logging levels in increasing order of severity:\n",
        "\n",
        "1. DEBUG (Level 10)\n",
        "Used for detailed diagnostic information.\n",
        "\n",
        "Helpful during development and troubleshooting.\n",
        "\n",
        "Logs everything from system state to variable values.\n",
        "\n",
        "\n",
        "2. INFO (Level 20)\n",
        "General informational messages about program execution.\n",
        "\n",
        "Indicates normal but significant events, like start/stop of services or major steps.\n",
        "\n",
        "\n",
        "3. WARNING (Level 30)\n",
        "Indicates a potential problem or something unexpected.\n",
        "\n",
        "The program is still working but may face issues soon.\n",
        "\n",
        "\n",
        "4. ERROR (Level 40)\n",
        "Reports a serious problem that caused a part of the program to fail.\n",
        "\n",
        "The program can continue running but some functionality is broken.\n",
        "\n",
        "\n",
        "5. CRITICAL (Level 50)\n",
        "Very severe errors that may cause the program to abort.\n",
        "\n",
        "Used for fatal conditions requiring immediate attention.\n",
        "\n",
        "\n",
        " 18.What is the difference between os.fork() and multiprocessing in Python\n",
        "\n",
        "  \n",
        "  Both os.fork() and the multiprocessing module in Python are used to create new processes, but they differ significantly in usage, portability, and features.\n",
        "\n",
        "1. os.fork()\n",
        "os.fork() is a low-level system call available in Unix-like operating systems (Linux, macOS).\n",
        "\n",
        "It creates a child process by duplicating the current process. The new process is almost identical to the parent.\n",
        "\n",
        "After fork(), two processes run concurrently: the parent and the child.\n",
        "\n",
        "It returns twice: returns the child’s process ID (PID) to the parent, and 0 to the child.\n",
        "\n",
        "It requires manual handling of process behavior, communication, and resource sharing.\n",
        "\n",
        "Not available on Windows.\n",
        "\n",
        "\n",
        "2. multiprocessing Module\n",
        "A high-level module in Python’s standard library that provides a convenient API for creating and managing processes.\n",
        "\n",
        "Works on both Unix and Windows, making it portable.\n",
        "\n",
        "Handles process creation, synchronization, communication (via queues, pipes), and resource sharing more easily.\n",
        "\n",
        "Abstracts many complexities of process management.\n",
        "\n",
        "Supports features like process pools and shared memory.\n",
        "\n",
        "\n",
        " 19.What is the importance of closing a file in Python\n",
        "   \n",
        "\n",
        "In Python, when you open a file using functions like open(), it is important to close the file once you are done with it. Closing a file releases the system resources associated with it and ensures data integrity.\n",
        "\n",
        "1. Releases System Resources\n",
        "Each open file consumes system resources such as file descriptors or memory buffers. These resources are limited, and if files remain open unnecessarily, the system can run out of them, causing errors or preventing new files from opening.\n",
        "\n",
        "2. Ensures Data is Written Properly\n",
        "When writing to a file, data is often buffered (temporarily held in memory) before being physically written to disk. Closing a file flushes this buffer, ensuring all your changes are saved correctly. If a file is not closed, some data might remain in the buffer and not be saved, leading to data loss or corruption.\n",
        "\n",
        "3. Avoids File Corruption\n",
        "Open files that are abruptly interrupted (e.g., program crashes) or improperly handled can become corrupted. Closing files properly reduces this risk and maintains file integrity.\n",
        "\n",
        "4. Prevents Unexpected Behavior\n",
        "Open files can cause conflicts, such as locking issues or access errors, especially when multiple programs or processes try to access the same file. Closing files releases locks and makes them accessible to other parts of the program or other applications.\n",
        "\n",
        "5. Good Programming Practice\n",
        "Explicitly closing files reflects responsible resource management and makes your code more robust, readable, and maintainable.\n",
        "\n",
        "\n",
        " 20.What is the difference between file.read() and file.readline() in Python\n",
        "\n",
        "  Both file.read() and file.readline() are methods used to read data from a file in Python, but they differ in how much data they read and how they behave.\n",
        "\n",
        "1. file.read()\n",
        "Reads the entire content of the file (or a specified number of bytes if an argument is given).\n",
        "\n",
        "Returns a single string containing all the characters from the current file position until the end (or until the number of bytes specified).\n",
        "\n",
        "If used without arguments, it reads the whole file into memory, which can be large for big files.\n",
        "\n",
        "Useful when you want to process or analyze the whole file content at once.\n",
        "\n",
        "Reads one line at a time from the file.\n",
        "\n",
        "Returns a string representing the next line in the file, including the newline character \\n.\n",
        "\n",
        "Subsequent calls to readline() continue reading the next lines sequentially.\n",
        "\n",
        "Useful for reading and processing a file line by line, especially for large files.\n",
        "\n",
        "\n",
        " 21.What is the logging module in Python used for\n",
        "\n",
        "   \n",
        "   The logging module in Python is a built-in library used for tracking events that happen when some software runs. It provides a flexible framework for emitting log messages from Python programs. These logs can help developers monitor, debug, and troubleshoot their applications effectively.\n",
        "\n",
        "Key Purposes of the logging Module:\n",
        "Recording Application Events:\n",
        "It captures important runtime events, such as errors, warnings, informational messages, and debugging details. This helps in understanding the flow of the program and diagnosing issues.\n",
        "\n",
        "Debugging and Troubleshooting:\n",
        "By examining log messages, developers can trace back what went wrong, where, and why. This is especially useful when dealing with complex applications or bugs that are hard to reproduce.\n",
        "\n",
        "Maintaining Audit Trails:\n",
        "Logs can serve as records of activities or changes within an application, aiding in security audits and compliance monitoring.\n",
        "\n",
        "Flexible Output Destinations:\n",
        "Logs can be directed to different places such as the console, files, or remote servers. This flexibility helps integrate logging into different environments.\n",
        "\n",
        "Configurable Levels:\n",
        "The module supports multiple logging levels (DEBUG, INFO, WARNING, ERROR, CRITICAL) to filter logs based on importance.\n",
        "\n",
        "\n",
        "22.What is the os module in Python used for in file handling\n",
        "\n",
        " The os module in Python provides a way to interact with the operating system. In the context of file handling, it offers a variety of functions to perform operating system–level tasks related to files and directories that go beyond simple reading and writing.\n",
        "\n",
        "Key Uses of the os Module in File Handling:\n",
        "File and Directory Operations:\n",
        "\n",
        "Create, remove, rename, and check for the existence of files and directories.\n",
        "\n",
        "Examples:\n",
        "\n",
        "os.mkdir() — create a new directory.\n",
        "\n",
        "os.remove() — delete a file.\n",
        "\n",
        "os.rename() — rename a file or directory.\n",
        "\n",
        "os.rmdir() — remove an empty directory.\n",
        "\n",
        "File Path Manipulations:\n",
        "\n",
        "Work with file paths in a platform-independent way.\n",
        "\n",
        "Functions like os.path.join(), os.path.exists(), os.path.abspath() help manage file and directory paths.\n",
        "\n",
        "Getting File Metadata:\n",
        "\n",
        "Retrieve information like file size, modification time, permissions.\n",
        "\n",
        "For example, os.stat() provides detailed metadata about a file.\n",
        "\n",
        "Working with Current Working Directory:\n",
        "\n",
        "os.getcwd() returns the current directory.\n",
        "\n",
        "os.chdir() changes the current working directory.\n",
        "\n",
        "Handling Environment Variables:\n",
        "\n",
        "Access or modify environment variables with os.environ.\n",
        "\n",
        "\n",
        "23.What are the challenges associated with memory management in Python\n",
        "\n",
        "\n",
        "Challenges Associated with Memory Management in Python\n",
        "Python’s memory management system is designed to be automatic and developer-friendly, but it also faces several challenges due to the nature of dynamic languages, garbage collection, and resource constraints. Understanding these challenges helps in writing efficient and stable Python applications.\n",
        "\n",
        "1. Handling Circular References\n",
        "Python primarily uses reference counting to manage memory.\n",
        "\n",
        "However, reference counting alone cannot detect circular references—objects that reference each other but are no longer reachable by the program.\n",
        "\n",
        "To address this, Python has a cyclic garbage collector to identify and clean such cycles.\n",
        "\n",
        "Detecting and collecting these cycles can add overhead and may occasionally cause performance issues.\n",
        "\n",
        "2. Memory Fragmentation\n",
        "Python objects vary in size and lifetime.\n",
        "\n",
        "Over time, the memory allocator can suffer from fragmentation, where free memory is split into small blocks.\n",
        "\n",
        "This fragmentation may lead to inefficient memory use and can limit the amount of contiguous memory available for large allocations.\n",
        "\n",
        "3. High Memory Usage\n",
        "Python’s dynamic typing and flexible data structures (like lists, dictionaries) consume more memory compared to statically typed languages.\n",
        "\n",
        "This can become a problem in memory-constrained environments or when processing large datasets.\n",
        "\n",
        "4. Performance Overhead of Garbage Collection\n",
        "Garbage collection runs periodically and may cause pauses or slowdowns during execution.\n",
        "\n",
        "Although designed to minimize impact, in latency-sensitive applications, GC overhead can be a concern.\n",
        "\n",
        "5. Non-Deterministic Finalization\n",
        "Objects with circular references or those managed by the cyclic GC might not be freed immediately after they become unreachable.\n",
        "\n",
        "This non-deterministic behavior can make resource management (like closing files or network connections) less predictable.\n",
        "\n",
        "6. Managing External Resources\n",
        "Python’s memory management does not automatically handle non-memory resources such as file handles, sockets, or database connections.\n",
        "\n",
        "Developers must explicitly manage these resources, often using context managers (with statement) to ensure proper cleanup.\n",
        "\n",
        "\n",
        "24. How do you raise an exception manually in Python\n",
        "\n",
        "n Python, you can manually raise (or throw) an exception using the raise statement. This allows you to create and signal an error condition intentionally when certain conditions in your code are met. Raising exceptions manually is useful for enforcing rules, validating inputs, or stopping program execution when something unexpected happens.\n",
        "\n",
        "\n",
        "25.Why is it important to use multithreading in certain applications?\n",
        "\n",
        "\n",
        "Multithreading allows a program to run multiple threads concurrently within a single process. This capability is especially important in certain applications to improve performance, responsiveness, and efficient resource utilization. Here are the key reasons why multithreading is important:\n",
        "\n",
        "1. Improved Responsiveness\n",
        "In user-interface (UI) applications, such as desktop software or mobile apps, multithreading helps keep the interface responsive.\n",
        "\n",
        "While one thread handles time-consuming tasks (e.g., loading data, processing), another thread can keep the UI active, avoiding freezing or lagging.\n",
        "\n",
        "2. Better Resource Utilization\n",
        "Multithreading allows programs to utilize CPU time more effectively by running multiple threads, especially when some threads are waiting for I/O operations like file reads, network calls, or database queries.\n",
        "\n",
        "While one thread is waiting (blocked), others can run, leading to better throughput.\n",
        "\n",
        "3. Parallelism for I/O-bound Tasks\n",
        "For I/O-bound applications (like web servers, network applications, or file processing), multithreading can increase efficiency by overlapping waiting times.\n",
        "\n",
        "Threads waiting for slow I/O can free the CPU for other tasks.\n",
        "\n",
        "4. Simpler Program Structure for Concurrent Tasks\n",
        "Multithreading can simplify the design of programs that handle multiple tasks at once, such as handling multiple user requests in a server.\n",
        "\n",
        "Instead of writing complex event-driven code, threads can handle different tasks seemingly simultaneously.\n",
        "\n",
        "5. Real-Time Processing\n",
        "In real-time or near-real-time applications (e.g., games, simulations, or robotics), multithreading ensures critical tasks run without delay by distributing work across threads.\n",
        "\n",
        "When to Use Multithreading:\n",
        "When tasks are I/O-bound or spend time waiting for external events.\n",
        "\n",
        "When you need to maintain an interactive or responsive interface.\n",
        "\n",
        "When you want to perform multiple operations concurrently without the overhead of multiple processes.\n",
        "\n"
      ],
      "metadata": {
        "id": "_I23HwLW6fHM"
      }
    },
    {
      "cell_type": "markdown",
      "source": [
        "### How can you open a file for writing in Python and write a string to it ?"
      ],
      "metadata": {
        "id": "ZTCTagkZfuqj"
      }
    },
    {
      "cell_type": "code",
      "source": [
        "# Writing to the file\n",
        "with open('example.txt', 'w') as file:\n",
        "    file.write(\"This is a sample string written to the file.\")\n",
        "\n",
        "# Reading the file to verify the content\n",
        "with open('example.txt', 'r') as file:\n",
        "    content = file.read()\n",
        "    print(content)\n"
      ],
      "metadata": {
        "colab": {
          "base_uri": "https://localhost:8080/"
        },
        "id": "dePN_jJFf5Nb",
        "outputId": "24add44e-af73-449e-917e-ff8869debfc7"
      },
      "execution_count": 2,
      "outputs": [
        {
          "output_type": "stream",
          "name": "stdout",
          "text": [
            "This is a sample string written to the file.\n"
          ]
        }
      ]
    },
    {
      "cell_type": "markdown",
      "source": [
        "## Write a Python program to read the contents of a file and print each line"
      ],
      "metadata": {
        "id": "fcwJ4M2ugVbt"
      }
    },
    {
      "cell_type": "code",
      "source": [
        "# Open the file in read mode\n",
        "with open('example.txt', 'r') as file:\n",
        "    # Iterate through each line in the file\n",
        "    for line in file:\n",
        "        # Print the line (strip() removes the trailing newline)\n",
        "        print(line.strip())\n"
      ],
      "metadata": {
        "colab": {
          "base_uri": "https://localhost:8080/"
        },
        "id": "XsWgzdhlgXjk",
        "outputId": "0a01c681-b864-4c9a-f694-23826b4abb0b"
      },
      "execution_count": 3,
      "outputs": [
        {
          "output_type": "stream",
          "name": "stdout",
          "text": [
            "This is a sample string written to the file.\n"
          ]
        }
      ]
    },
    {
      "cell_type": "markdown",
      "source": [
        "## How would you handle a case where the file doesn't exist while trying to open it for reading"
      ],
      "metadata": {
        "id": "7QPUUZ7Mgm6q"
      }
    },
    {
      "cell_type": "code",
      "source": [
        "try:\n",
        "    with open('nonexistent_file.txt', 'r') as file:\n",
        "        for line in file:\n",
        "            print(line.strip())\n",
        "except FileNotFoundError:\n",
        "    print(\"Error: The file does not exist.\")\n"
      ],
      "metadata": {
        "colab": {
          "base_uri": "https://localhost:8080/"
        },
        "id": "amx_U57ViaSf",
        "outputId": "c508cdca-1b7e-43b8-cbb6-662a4a73b48a"
      },
      "execution_count": 4,
      "outputs": [
        {
          "output_type": "stream",
          "name": "stdout",
          "text": [
            "Error: The file does not exist.\n"
          ]
        }
      ]
    },
    {
      "cell_type": "markdown",
      "source": [
        "## Write a Python script that reads from one file and writes its content to another file"
      ],
      "metadata": {
        "id": "pHQVWLF7idgv"
      }
    },
    {
      "cell_type": "code",
      "source": [
        "try:\n",
        "    # Open the source file in read mode\n",
        "    with open('source.txt', 'r') as source_file:\n",
        "        content = source_file.read()\n",
        "\n",
        "    # Open the destination file in write mode\n",
        "    with open('destination.txt', 'w') as dest_file:\n",
        "        dest_file.write(content)\n",
        "\n",
        "    print(\"Content copied successfully.\")\n",
        "\n",
        "except FileNotFoundError:\n",
        "    print(\"Error: Source file not found.\")\n",
        "except IOError:\n",
        "    print(\"Error: An I/O error occurred.\")\n"
      ],
      "metadata": {
        "colab": {
          "base_uri": "https://localhost:8080/"
        },
        "id": "twTGKg37i25c",
        "outputId": "fa9cf59a-459e-4798-8ef9-112b369974e8"
      },
      "execution_count": 5,
      "outputs": [
        {
          "output_type": "stream",
          "name": "stdout",
          "text": [
            "Error: Source file not found.\n"
          ]
        }
      ]
    },
    {
      "cell_type": "markdown",
      "source": [
        "## How would you catch and handle division by zero error in Python"
      ],
      "metadata": {
        "id": "2NCf2qH0jBAv"
      }
    },
    {
      "cell_type": "code",
      "source": [
        "try:\n",
        "    numerator = 10\n",
        "    denominator = 0\n",
        "    result = numerator / denominator\n",
        "except ZeroDivisionError:\n",
        "    print(\"Error: Cannot divide by zero.\")\n",
        "else:\n",
        "    print(\"Result is\", result)\n"
      ],
      "metadata": {
        "colab": {
          "base_uri": "https://localhost:8080/"
        },
        "id": "1GEcyk5KjDuM",
        "outputId": "19b24085-a831-478e-859a-64ce31607166"
      },
      "execution_count": 6,
      "outputs": [
        {
          "output_type": "stream",
          "name": "stdout",
          "text": [
            "Error: Cannot divide by zero.\n"
          ]
        }
      ]
    },
    {
      "cell_type": "markdown",
      "source": [
        "## Write a Python program that logs an error message to a log file when a division by zero exception occurs"
      ],
      "metadata": {
        "id": "zkXxu_lDjeA8"
      }
    },
    {
      "cell_type": "code",
      "source": [
        "import logging\n",
        "\n",
        "# Configure logging to write to a file named 'error.log'\n",
        "logging.basicConfig(filename='error.log',\n",
        "                    level=logging.ERROR,\n",
        "                    format='%(asctime)s - %(levelname)s - %(message)s')\n",
        "\n",
        "def divide_numbers(numerator, denominator):\n",
        "    try:\n",
        "        result = numerator / denominator\n",
        "        print(f\"Result: {result}\")\n",
        "    except ZeroDivisionError as e:\n",
        "        logging.error(\"Division by zero error occurred: %s\", e)\n",
        "        print(\"Error: Division by zero is not allowed.\")\n",
        "\n",
        "# Example usage\n",
        "divide_numbers(10, 0)\n"
      ],
      "metadata": {
        "colab": {
          "base_uri": "https://localhost:8080/"
        },
        "id": "LB99_8rdjmGf",
        "outputId": "2b04bfe6-da9e-4fcb-b078-29b5cee0559e"
      },
      "execution_count": 7,
      "outputs": [
        {
          "output_type": "stream",
          "name": "stderr",
          "text": [
            "ERROR:root:Division by zero error occurred: division by zero\n"
          ]
        },
        {
          "output_type": "stream",
          "name": "stdout",
          "text": [
            "Error: Division by zero is not allowed.\n"
          ]
        }
      ]
    },
    {
      "cell_type": "markdown",
      "source": [
        "## How do you log information at different levels (INFO, ERROR, WARNING) in Python using the logging module"
      ],
      "metadata": {
        "id": "78uEZFDxjrE5"
      }
    },
    {
      "cell_type": "code",
      "source": [
        "import logging\n",
        "\n",
        "# Configure logging format and level (minimum level to capture)\n",
        "logging.basicConfig(level=logging.DEBUG,\n",
        "                    format='%(asctime)s - %(levelname)s - %(message)s')\n",
        "\n",
        "logging.debug(\"This is a debug message (for developers).\")\n",
        "logging.info(\"This is an info message (general info).\")\n",
        "logging.warning(\"This is a warning message (something might be wrong).\")\n",
        "logging.error(\"This is an error message (something went wrong).\")\n",
        "logging.critical(\"This is a critical message (serious failure).\")\n"
      ],
      "metadata": {
        "colab": {
          "base_uri": "https://localhost:8080/"
        },
        "id": "gkETzgMEjwtS",
        "outputId": "5f044edc-d475-4de3-c6bd-e272146b4663"
      },
      "execution_count": 8,
      "outputs": [
        {
          "output_type": "stream",
          "name": "stderr",
          "text": [
            "WARNING:root:This is a warning message (something might be wrong).\n",
            "ERROR:root:This is an error message (something went wrong).\n",
            "CRITICAL:root:This is a critical message (serious failure).\n"
          ]
        }
      ]
    },
    {
      "cell_type": "markdown",
      "source": [
        "## Write a program to handle a file opening error using exception handlingF"
      ],
      "metadata": {
        "id": "y14d5tBFj70z"
      }
    },
    {
      "cell_type": "code",
      "source": [
        "try:\n",
        "    # Attempt to open a file in read mode\n",
        "    with open('example.txt', 'r') as file:\n",
        "        content = file.read()\n",
        "        print(content)\n",
        "except FileNotFoundError:\n",
        "    print(\"Error: The file 'example.txt' does not exist.\")\n",
        "except IOError:\n",
        "    print(\"Error: An I/O error occurred while trying to open the file.\")\n"
      ],
      "metadata": {
        "colab": {
          "base_uri": "https://localhost:8080/"
        },
        "id": "wvEl_UImkAQa",
        "outputId": "ee5d04ed-a640-47c8-e92e-35b6f7ec17a1"
      },
      "execution_count": 9,
      "outputs": [
        {
          "output_type": "stream",
          "name": "stdout",
          "text": [
            "This is a sample string written to the file.\n"
          ]
        }
      ]
    },
    {
      "cell_type": "markdown",
      "source": [
        "##  How can you read a file line by line and store its content in a list in Python"
      ],
      "metadata": {
        "id": "M_IBM4dEkFrQ"
      }
    },
    {
      "cell_type": "code",
      "source": [
        "with open('example.txt', 'r') as file:\n",
        "    lines = [line.rstrip('\\n') for line in file]\n",
        "\n",
        "print(lines)\n"
      ],
      "metadata": {
        "colab": {
          "base_uri": "https://localhost:8080/"
        },
        "id": "6KZd6JbtkL-H",
        "outputId": "4a6d25d6-cce5-4e05-d680-c2adf2b9fcae"
      },
      "execution_count": 10,
      "outputs": [
        {
          "output_type": "stream",
          "name": "stdout",
          "text": [
            "['This is a sample string written to the file.']\n"
          ]
        }
      ]
    },
    {
      "cell_type": "markdown",
      "source": [
        "## How can you append data to an existing file in Python"
      ],
      "metadata": {
        "id": "iJs-8_COkR8V"
      }
    },
    {
      "cell_type": "code",
      "source": [
        "with open('example.txt', 'a') as file:\n",
        "    file.write(\"This line will be added at the end of the file.\\n\")\n"
      ],
      "metadata": {
        "id": "IBbT3T3nkbWu"
      },
      "execution_count": 11,
      "outputs": []
    },
    {
      "cell_type": "markdown",
      "source": [
        "## Write a Python program that uses a try-except block to handle an error when attempting to access a dictionary key that doesn't exist"
      ],
      "metadata": {
        "id": "cV3qFBW4keSb"
      }
    },
    {
      "cell_type": "code",
      "source": [
        "my_dict = {'name': 'Rahul', 'age': 25}\n",
        "\n",
        "try:\n",
        "    # Attempt to access a key that might not exist\n",
        "    value = my_dict['address']\n",
        "    print(f\"Address: {value}\")\n",
        "except KeyError:\n",
        "    print(\"Error: The key 'address' does not exist in the dictionary.\")\n"
      ],
      "metadata": {
        "colab": {
          "base_uri": "https://localhost:8080/"
        },
        "id": "XXA4SYhWkoZX",
        "outputId": "a388a7a8-be92-47c8-faf7-aa98481b8d90"
      },
      "execution_count": 12,
      "outputs": [
        {
          "output_type": "stream",
          "name": "stdout",
          "text": [
            "Error: The key 'address' does not exist in the dictionary.\n"
          ]
        }
      ]
    },
    {
      "cell_type": "markdown",
      "source": [
        "## Write a program that demonstrates using multiple except blocks to handle different types of exceptions"
      ],
      "metadata": {
        "id": "v1zCPPbwkqmL"
      }
    },
    {
      "cell_type": "code",
      "source": [
        "def divide_and_access_element(numbers, index, numerator, denominator):\n",
        "    try:\n",
        "        # Division operation (may raise ZeroDivisionError)\n",
        "        result = numerator / denominator\n",
        "\n",
        "        # Access element at the given index (may raise IndexError)\n",
        "        element = numbers[index]\n",
        "\n",
        "        print(f\"Division Result: {result}\")\n",
        "        print(f\"Element at index {index}: {element}\")\n",
        "\n",
        "    except ZeroDivisionError:\n",
        "        print(\"Error: Cannot divide by zero.\")\n",
        "\n",
        "    except IndexError:\n",
        "        print(\"Error: List index out of range.\")\n",
        "\n",
        "    except Exception as e:\n",
        "        # Catches any other exception\n",
        "        print(f\"An unexpected error occurred: {e}\")\n",
        "\n",
        "# Example usage:\n",
        "numbers_list = [10, 20, 30]\n",
        "divide_and_access_element(numbers_list, 5, 10, 0)  # Both IndexError and ZeroDivisionError cases\n"
      ],
      "metadata": {
        "colab": {
          "base_uri": "https://localhost:8080/"
        },
        "id": "mGzWxMQOkuUR",
        "outputId": "7b8e31a2-a18e-449d-cd07-a7fda0d3aa8b"
      },
      "execution_count": 13,
      "outputs": [
        {
          "output_type": "stream",
          "name": "stdout",
          "text": [
            "Error: Cannot divide by zero.\n"
          ]
        }
      ]
    },
    {
      "cell_type": "markdown",
      "source": [
        "## How would you check if a file exists before attempting to read it in Python"
      ],
      "metadata": {
        "id": "54VjeCx5k1so"
      }
    },
    {
      "cell_type": "code",
      "source": [
        "import os\n",
        "\n",
        "filename = 'example.txt'\n",
        "\n",
        "if os.path.exists(filename):\n",
        "    with open(filename, 'r') as file:\n",
        "        content = file.read()\n",
        "        print(content)\n",
        "else:\n",
        "    print(f\"File '{filename}' does not exist.\")\n"
      ],
      "metadata": {
        "colab": {
          "base_uri": "https://localhost:8080/"
        },
        "id": "Y0olysSWk714",
        "outputId": "1be6eff4-97bc-4261-e46e-ce53239312c6"
      },
      "execution_count": 14,
      "outputs": [
        {
          "output_type": "stream",
          "name": "stdout",
          "text": [
            "This is a sample string written to the file.This line will be added at the end of the file.\n",
            "\n"
          ]
        }
      ]
    },
    {
      "cell_type": "markdown",
      "source": [
        "## Write a program that uses the logging module to log both informational and error messages"
      ],
      "metadata": {
        "id": "zXoO2N9ilBcQ"
      }
    },
    {
      "cell_type": "code",
      "source": [
        "import logging\n",
        "\n",
        "# Configure logging: logs to console with time, level and message\n",
        "logging.basicConfig(level=logging.INFO,\n",
        "                    format='%(asctime)s - %(levelname)s - %(message)s')\n",
        "\n",
        "def divide(a, b):\n",
        "    logging.info(f\"Attempting to divide {a} by {b}\")\n",
        "    try:\n",
        "        result = a / b\n",
        "        logging.info(f\"Division successful: result is {result}\")\n",
        "        return result\n",
        "    except ZeroDivisionError:\n",
        "        logging.error(\"Error: Division by zero attempted!\")\n",
        "\n",
        "# Example usage\n",
        "divide(10, 2)\n",
        "divide(5, 0)\n"
      ],
      "metadata": {
        "colab": {
          "base_uri": "https://localhost:8080/"
        },
        "id": "SyoLKBe1lFWs",
        "outputId": "cb44925f-2d24-4b0b-eb65-102e467d302e"
      },
      "execution_count": 15,
      "outputs": [
        {
          "output_type": "stream",
          "name": "stderr",
          "text": [
            "ERROR:root:Error: Division by zero attempted!\n"
          ]
        }
      ]
    },
    {
      "cell_type": "markdown",
      "source": [
        "## Write a Python program that prints the content of a file and handles the case when the file is empty"
      ],
      "metadata": {
        "id": "dnHvJwtwlTU9"
      }
    },
    {
      "cell_type": "code",
      "source": [
        "filename = 'example.txt'\n",
        "\n",
        "try:\n",
        "    with open(filename, 'r') as file:\n",
        "        content = file.read()\n",
        "        if content:\n",
        "            print(\"File content:\")\n",
        "            print(content)\n",
        "        else:\n",
        "            print(f\"The file '{filename}' is empty.\")\n",
        "except FileNotFoundError:\n",
        "    print(f\"Error: The file '{filename}' does not exist.\")\n",
        "except IOError:\n",
        "    print(f\"Error: Could not read the file '{filename}'.\")\n"
      ],
      "metadata": {
        "colab": {
          "base_uri": "https://localhost:8080/"
        },
        "id": "wNWY9P55lZXq",
        "outputId": "acf2aa6c-5ab2-453d-bc73-83a632b9fc83"
      },
      "execution_count": 16,
      "outputs": [
        {
          "output_type": "stream",
          "name": "stdout",
          "text": [
            "File content:\n",
            "This is a sample string written to the file.This line will be added at the end of the file.\n",
            "\n"
          ]
        }
      ]
    },
    {
      "cell_type": "markdown",
      "source": [
        "## Demonstrate how to use memory profiling to check the memory usage of a small programF"
      ],
      "metadata": {
        "id": "V2uiVmgFlcJi"
      }
    },
    {
      "cell_type": "code",
      "source": [
        "from memory_profiler import profile\n",
        "\n",
        "@profile\n",
        "def create_list():\n",
        "    # Create a large list to check memory usage\n",
        "    numbers = [x * 2 for x in range(1000000)]\n",
        "    print(f\"List created with {len(numbers)} elements\")\n",
        "\n",
        "if __name__ == '__main__':\n",
        "    create_list()\n"
      ],
      "metadata": {
        "id": "C1j8PmD1l4CD"
      },
      "execution_count": null,
      "outputs": []
    },
    {
      "cell_type": "markdown",
      "source": [
        "## Write a Python program to create and write a list of numbers to a file, one number per line"
      ],
      "metadata": {
        "id": "K_gTtzT3mKEB"
      }
    },
    {
      "cell_type": "code",
      "source": [
        "numbers = [10, 20, 30, 40, 50]\n",
        "\n",
        "with open('numbers.txt', 'w') as file:\n",
        "    for number in numbers:\n",
        "        file.write(f\"{number}\\n\")\n",
        "\n",
        "print(\"Numbers have been written to 'numbers.txt'.\")\n"
      ],
      "metadata": {
        "colab": {
          "base_uri": "https://localhost:8080/"
        },
        "id": "-74cJyeDmQA_",
        "outputId": "e00cfbe5-0054-4af4-9805-2b40239a1f45"
      },
      "execution_count": 21,
      "outputs": [
        {
          "output_type": "stream",
          "name": "stdout",
          "text": [
            "Numbers have been written to 'numbers.txt'.\n"
          ]
        }
      ]
    },
    {
      "cell_type": "markdown",
      "source": [
        "## How would you implement a basic logging setup that logs to a file with rotation after 1MB"
      ],
      "metadata": {
        "id": "QhzDk1V2mVyR"
      }
    },
    {
      "cell_type": "code",
      "source": [
        "import logging\n",
        "from logging.handlers import RotatingFileHandler\n",
        "\n",
        "# Create logger\n",
        "logger = logging.getLogger('my_logger')\n",
        "logger.setLevel(logging.DEBUG)  # Log all levels DEBUG and above\n",
        "\n",
        "# Create a rotating file handler\n",
        "handler = RotatingFileHandler('app.log', maxBytes=1_000_000, backupCount=3)\n",
        "# maxBytes=1,000,000 means 1 MB; backupCount=3 means keep up to 3 old log files\n",
        "\n",
        "# Create a log message formatter\n",
        "formatter = logging.Formatter('%(asctime)s - %(levelname)s - %(message)s')\n",
        "handler.setFormatter(formatter)\n",
        "\n",
        "# Add the handler to the logger\n",
        "logger.addHandler(handler)\n",
        "\n",
        "# Example log messages\n",
        "logger.info(\"This is an informational message.\")\n",
        "logger.error(\"This is an error message.\")\n"
      ],
      "metadata": {
        "colab": {
          "base_uri": "https://localhost:8080/"
        },
        "id": "PSS4BKIhmdD3",
        "outputId": "8a541f59-2ed8-40b9-f22e-7c988c90b9aa"
      },
      "execution_count": 22,
      "outputs": [
        {
          "output_type": "stream",
          "name": "stderr",
          "text": [
            "INFO:my_logger:This is an informational message.\n",
            "ERROR:my_logger:This is an error message.\n"
          ]
        }
      ]
    },
    {
      "cell_type": "markdown",
      "source": [
        "## Write a program that handles both IndexError and KeyError using a try-except block"
      ],
      "metadata": {
        "id": "AZUwfQmwmmnf"
      }
    },
    {
      "cell_type": "code",
      "source": [
        "my_list = [1, 2, 3]\n",
        "my_dict = {'a': 10, 'b': 20}\n",
        "\n",
        "try:\n",
        "    # Accessing an invalid index in the list\n",
        "    print(my_list[5])\n",
        "\n",
        "    # Accessing a non-existent key in the dictionary\n",
        "    print(my_dict['c'])\n",
        "\n",
        "except IndexError:\n",
        "    print(\"Error: List index out of range.\")\n",
        "except KeyError:\n",
        "    print(\"Error: Dictionary key not found.\")\n"
      ],
      "metadata": {
        "colab": {
          "base_uri": "https://localhost:8080/"
        },
        "id": "qlPduceumr_F",
        "outputId": "ad0ebb1e-b996-4d5b-f024-7a274d7b4dfa"
      },
      "execution_count": 23,
      "outputs": [
        {
          "output_type": "stream",
          "name": "stdout",
          "text": [
            "Error: List index out of range.\n"
          ]
        }
      ]
    },
    {
      "cell_type": "markdown",
      "source": [
        "## How would you open a file and read its contents using a context manager in Python"
      ],
      "metadata": {
        "id": "ny494y3AmzLd"
      }
    },
    {
      "cell_type": "code",
      "source": [
        "filename = 'example.txt'\n",
        "\n",
        "with open(filename, 'r') as file:\n",
        "    content = file.read()\n",
        "\n",
        "print(content)\n"
      ],
      "metadata": {
        "colab": {
          "base_uri": "https://localhost:8080/"
        },
        "id": "GzI1j-pFm4QN",
        "outputId": "980e077c-c958-4976-ccc9-16feec5ac29a"
      },
      "execution_count": 24,
      "outputs": [
        {
          "output_type": "stream",
          "name": "stdout",
          "text": [
            "This is a sample string written to the file.This line will be added at the end of the file.\n",
            "\n"
          ]
        }
      ]
    },
    {
      "cell_type": "markdown",
      "source": [
        "## Write a Python program that reads a file and prints the number of occurrences of a specific word"
      ],
      "metadata": {
        "id": "iIqHWl_ynAHD"
      }
    },
    {
      "cell_type": "code",
      "source": [
        "def count_word_occurrences(filename, target_word):\n",
        "    try:\n",
        "        with open(filename, 'r') as file:\n",
        "            content = file.read().lower()  # Convert to lowercase for case-insensitive matching\n",
        "        words = content.split()  # Split into words by whitespace\n",
        "        count = words.count(target_word.lower())  # Count occurrences\n",
        "        print(f\"The word '{target_word}' occurs {count} time(s) in the file.\")\n",
        "    except FileNotFoundError:\n",
        "        print(f\"Error: The file '{filename}' does not exist.\")\n",
        "    except IOError:\n",
        "        print(f\"Error: Could not read the file '{filename}'.\")\n",
        "\n",
        "# Example usage\n",
        "count_word_occurrences('example.txt', 'Python')\n"
      ],
      "metadata": {
        "colab": {
          "base_uri": "https://localhost:8080/"
        },
        "id": "qscDA1d9nHXY",
        "outputId": "f5566889-b148-4ace-eb7e-4b6a01436684"
      },
      "execution_count": 25,
      "outputs": [
        {
          "output_type": "stream",
          "name": "stdout",
          "text": [
            "The word 'Python' occurs 0 time(s) in the file.\n"
          ]
        }
      ]
    },
    {
      "cell_type": "markdown",
      "source": [
        "## How can you check if a file is empty before attempting to read its contents"
      ],
      "metadata": {
        "id": "paqK8SD6nMai"
      }
    },
    {
      "cell_type": "code",
      "source": [
        "import os\n",
        "\n",
        "filename = 'example.txt'\n",
        "\n",
        "if os.path.exists(filename) and os.path.getsize(filename) > 0:\n",
        "    with open(filename, 'r') as file:\n",
        "        content = file.read()\n",
        "        print(content)\n",
        "else:\n",
        "    print(f\"The file '{filename}' is empty or does not exist.\")\n"
      ],
      "metadata": {
        "colab": {
          "base_uri": "https://localhost:8080/"
        },
        "id": "5wULhXldnS-y",
        "outputId": "53e08229-4f13-4a6f-e8c6-03209106f806"
      },
      "execution_count": 26,
      "outputs": [
        {
          "output_type": "stream",
          "name": "stdout",
          "text": [
            "This is a sample string written to the file.This line will be added at the end of the file.\n",
            "\n"
          ]
        }
      ]
    },
    {
      "cell_type": "markdown",
      "source": [
        "## Write a Python program that writes to a log file when an error occurs during file handling."
      ],
      "metadata": {
        "id": "FNN5kYKgnbNc"
      }
    },
    {
      "cell_type": "code",
      "source": [
        "import logging\n",
        "\n",
        "# Configure logging to write errors to 'file_errors.log'\n",
        "logging.basicConfig(filename='file_errors.log',\n",
        "                    level=logging.ERROR,\n",
        "                    format='%(asctime)s - %(levelname)s - %(message)s')\n",
        "\n",
        "filename = 'example.txt'\n",
        "\n",
        "try:\n",
        "    with open(filename, 'r') as file:\n",
        "        content = file.read()\n",
        "        print(content)\n",
        "except Exception as e:\n",
        "    logging.error(f\"Error occurred while handling the file '{filename}': {e}\")\n",
        "    print(f\"An error occurred. Check 'file_errors.log' for details.\")\n"
      ],
      "metadata": {
        "id": "kZqei2bynj9i",
        "outputId": "37f5ed90-bd6f-474d-f440-2b3ca420bbfa",
        "colab": {
          "base_uri": "https://localhost:8080/"
        }
      },
      "execution_count": 27,
      "outputs": [
        {
          "output_type": "stream",
          "name": "stdout",
          "text": [
            "This is a sample string written to the file.This line will be added at the end of the file.\n",
            "\n"
          ]
        }
      ]
    }
  ]
}