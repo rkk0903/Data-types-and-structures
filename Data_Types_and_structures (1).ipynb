{
  "nbformat": 4,
  "nbformat_minor": 0,
  "metadata": {
    "colab": {
      "provenance": []
    },
    "kernelspec": {
      "name": "python3",
      "display_name": "Python 3"
    },
    "language_info": {
      "name": "python"
    }
  },
  "cells": [
    {
      "cell_type": "markdown",
      "source": [
        "1. What are data structures, and why are they Important\n",
        "\n",
        "- Data structures are organized ways to store, manage, and retrieve data efficiently. They define the layout or format in which data is stored and the operations that can be performed on them.\n",
        "\n",
        "  - Examples of data structures include:\n",
        "\n",
        "  - Primitive structures: Integers, floats, characters, etc.\n",
        "\n",
        "  - Linear structures: Arrays, Linked Lists, Stacks, Queues\n",
        "\n",
        "  - Non-linear structures: Trees, Graphs\n",
        "\n",
        "  - Hash-based structures: Hash Tables, Hash Maps\n",
        "- Important\n",
        "- Data structures are crucial in computer science and software development for several reasons:\n",
        "\n",
        "- Efficient Data Management\n",
        "They help in storing and accessing data efficiently, reducing time and space complexity.\n",
        "\n",
        "- Optimized Performance\n",
        "The right data structure leads to faster algorithms. For example, a hash table allows average-case O(1) lookup, much faster than a linear search (O(n)).\n",
        "\n",
        "- Data Organization\n",
        "Complex relationships like hierarchies (trees) or networks (graphs) can only be managed with appropriate structures.\n",
        "\n",
        "  - Code Reusability and Modularity\n",
        "Well-defined data structures allow for reusable and modular code components.\n",
        "\n",
        " - Real-World Applications\n",
        "\n",
        " - Arrays for storing collections like student names.\n",
        "\n",
        " - Stacks for function calls (call stack).\n",
        "\n",
        " - Queues in task scheduling or print spooling.\n",
        "\n",
        " - Graphs for networks, maps, or social connections.\n",
        "\n",
        " - Trees for hierarchical data like file systems or databases.\n",
        "\n",
        "\n",
        "2.Explain the difference between mutable and immutable data types with examples\n",
        "\n",
        "1. Definition\n",
        " - Mutable Data Types:\n",
        "\n",
        "  Mutable objects are those whose content (or state) can be changed after they are created. This means that we can alter their elements without creating a new object.\n",
        "\n",
        " - Immutable Data Types:\n",
        "\n",
        "  Immutable objects are those whose content cannot be changed once they are created. Any modification results in the creation of a new object with a new memory address.\n",
        "\n",
        "-  Memory Behavior\n",
        "Mutable objects can be modified in-place, and their memory address (object identity) remains the same.\n",
        "\n",
        " Immutable objects are read-only in nature. When you try to \"modify\" them, a new object is created in memory.\n",
        "\n",
        "- Importance in Programming\n",
        "Mutable types are useful when you need to change or update data frequently, such as in dynamic lists, sets, or dictionaries.\n",
        "\n",
        " Immutable types are preferred when data should not be changed, such as keys in dictionaries or constant values, improving reliability and making the program less error-prone.\n",
        "\n",
        "3 What are the main differences between lists and tuples in Python\n",
        "\n",
        " - In Python, lists and tuples are both used to store ordered collections of items, but they differ in several important ways, primarily in terms of mutability. A list is a mutable data structure, meaning that its elements can be modified after the list is created. You can add, remove, or change elements using various built-in methods such as append(), pop(), or remove().\n",
        "\n",
        " - On the other hand, a tuple is immutable. Once a tuple is created, its elements cannot be altered. This immutability makes tuples faster and more memory-efficient than lists, which is beneficial when working with large data sets or when you want to protect data from being modified accidentally.\n",
        "\n",
        " - Lists are defined using square brackets [ ], while tuples use parentheses ( ). For example, my_list = [1, 2, 3] is a list, and my_tuple = (1, 2, 3) is a tuple.\n",
        "\n",
        " - Tuples can also be used as keys in dictionaries, but lists cannot, since only immutable objects are hashable. In summary, use lists when you need a flexible and editable collection, and use tuples when you want a fixed, secure, and efficient structure.\n",
        "\n",
        "\n",
        "4. Describe how dictionaries store data\n",
        "\n",
        "- In Python, a dictionary is an unordered, mutable, and indexed data structure that stores data in the form of key-value pairs. Each key is unique and is used to access its corresponding value. Dictionaries are defined using curly braces {}, with the syntax:\n",
        "\n",
        "\n",
        " - Internally, Python dictionaries use a data structure called a hash table. When a key-value pair is added to the dictionary, the key is passed through a hash function that converts it into a fixed-size integer (hash value). This hash value determines where the value is stored in memory. This allows for very fast access, typically in constant time O(1) for lookups, insertions, and deletions.\n",
        "\n",
        " - Keys must be immutable (like strings, numbers, or tuples with immutable elements), while values can be of any data type and even repeated. Since dictionaries are unordered (before Python 3.7), their items are not stored in any specific sequence, though from Python 3.7 onwards, insertion order is preserved.\n",
        "\n",
        " - Dictionaries are widely used for tasks where fast look-up and data association are needed, such as representing real-world entities like student records, contact lists, or configurations.\n",
        "\n",
        "\n",
        "5. Why might you use a set instead of a list in Python\n",
        "\n",
        "- In Python, both sets and lists are used to store collections of items, but they serve different purposes. A set is an unordered and mutable collection of unique elements, defined using curly braces {} or the set() function. A list, on the other hand, is an ordered, mutable collection that allows duplicates.\n",
        "\n",
        " - You might use a set instead of a list when you need to store unique values only and don't care about the order of elements. Sets automatically remove duplicates, making them ideal for tasks like removing duplicate entries from a dataset. For example, converting a list to a set removes all repeated values:\n",
        "\n",
        " - Sets are also more efficient for membership testing. Checking whether an item exists in a set is faster (average O(1) time complexity) compared to a list (O(n)), especially with large datasets.\n",
        "\n",
        " - However, sets do not support indexing or slicing, as they are unordered. Use sets when you need fast lookups, uniqueness, and are not concerned with the order or duplicates.\n",
        "\n",
        "6. What is a string in Python, and how is it different from a list\n",
        "\n",
        "- In Python, a string is a sequence of characters enclosed in single quotes ' ', double quotes \" \", or triple quotes ''' ''' / \"\"\" \"\"\" for multi-line strings. It is an immutable data type, meaning that once a string is created, its contents cannot be changed. Strings are commonly used to represent text data such as names, messages, and paragraphs.\n",
        "\n",
        "- A list, on the other hand, is a mutable sequence of elements that can include any data type—numbers, strings, even other lists. Lists are defined using square brackets [ ]. Unlike strings, lists can be modified after creation by adding, removing, or changing elements.\n",
        "\n",
        "- Although both strings and lists support indexing, slicing, and iteration, their internal structure and usage differ significantly. A string only holds characters, while a list can hold a mix of data types.\n",
        "\n",
        "- Here, both have similar content, but my_string[0] = 'H' will raise an error (immutable), while my_list[0] = 'H' is valid.\n",
        "\n",
        "- In summary, use strings for fixed text data and lists when working with a modifiable collection of elements.\n",
        "\n",
        "7.How do tuples ensure data integrity in Python\n",
        "\n",
        "- In Python, a tuple is an ordered, immutable collection of elements, defined using parentheses ( ). The key feature of a tuple is that once it is created, its contents cannot be changed—no additions, deletions, or modifications are allowed. This immutability is what makes tuples particularly useful for ensuring data integrity.\n",
        "\n",
        "- Data integrity means that data remains accurate, consistent, and unaltered throughout its lifecycle. Since tuples are immutable, the data stored in them cannot be accidentally or intentionally modified during program execution. This makes them ideal for storing constant values, such as coordinates, configurations, or fixed options.\n",
        "\n",
        "- Tuples are also hashable (if they contain only immutable elements), which allows them to be used as keys in dictionaries and elements of sets, where data must remain stable and unchangeable to ensure correct behavior.\n",
        "\n",
        "8. What is a hash table, and how does it relate to dictionaries in Python\n",
        "\n",
        "- A hash table is a data structure that stores key-value pairs and allows for fast data access using a hashing mechanism. In Python, the built-in dictionary (dict) type is implemented using a hash table.\n",
        "\n",
        "- When you insert a key-value pair into a dictionary, Python passes the key through a hash function, which generates a unique integer (hash value). This value determines the index or bucket where the corresponding value is stored in memory. Because of this, looking up values by key is extremely fast—typically O(1) time complexity.\n",
        "\n",
        "- Here, the keys \"name\" and \"age\" are hashed and mapped to positions in memory where the values \"Alice\" and 30 are stored.\n",
        "\n",
        "- The hash table ensures quick lookup, insertion, and deletion. However, only immutable and hashable objects (like strings, numbers, or tuples with immutable elements) can be used as dictionary keys.\n",
        "\n",
        "- If two keys have the same hash (called a collision), Python uses methods like open addressing to handle them internally.\n",
        "\n",
        "\n",
        "9. Can lists contain different data types in Python\n",
        "\n",
        "- In Python, a list is a mutable, ordered collection that can store elements of any data type, including a mix of data types within the same list. This flexibility is one of the powerful features of Python lists.\n",
        "\n",
        "\n",
        " - 10 is an integer\n",
        " - \"hello\" is a string\n",
        " - 3.14 is a float\n",
        "\n",
        " - True is a boolean\n",
        "\n",
        " - [1, 2, 3] is another list (a nested list)\n",
        "\n",
        "- All of these are stored together in a single list.\n",
        "\n",
        "-  Why is this allowed?\n",
        "Python is a dynamically typed language, which means that you do not need to declare the data type of a variable beforehand, and a list can store multiple types of objects without restriction.\n",
        " -  Use Cases:\n",
        "  When you want to group related but different types of data (e.g., student name, age, and grades).\n",
        "\n",
        "  For storing complex objects, like combining strings, numbers, and even functions or custom objects in one list.\n",
        "\n",
        "\n",
        "10. Explain why strings are immutable in Python\n",
        "\n",
        "In Python, strings are immutable, meaning once a string is created, its contents cannot be changed. You cannot add, delete, or modify individual characters of a string directly.\n",
        "\n",
        " Reasons Why Strings Are Immutable:\n",
        "-  Performance Optimization\n",
        "Strings are one of the most frequently used data types. Making them immutable allows Python to internally optimize memory usage and reuse existing string objects (called string interning). This improves performance, especially when comparing or storing strings.\n",
        "\n",
        "- Hashing and Dictionary Keys\n",
        "Immutable objects are hashable, meaning their hash value doesn’t change over time. This is important because strings are often used as keys in dictionaries. If strings were mutable, their hash value could change, leading to unpredictable behavior and broken dictionary lookups.\n",
        "\n",
        "- Data Integrity and Safety\n",
        "Immutability ensures that strings remain unchanged accidentally or maliciously, especially in large programs. This makes string operations more reliable and safe, since you can trust that a string’s content won’t change unexpectedly.\n",
        "\n",
        "- Simpler Code Maintenance\n",
        "When strings are immutable, functions that receive a string as input don’t need to worry about the caller’s original data being modified. This leads to cleaner and bug-free code.\n",
        "\n",
        "\n",
        "11. What advantages do dictionaries offer over lists for certain tasks\n",
        "\n",
        "- In Python, dictionaries and lists are both used to store collections of data. However, dictionaries offer several key advantages over lists for certain types of tasks.\n",
        "\n",
        "- The main advantage of dictionaries is their ability to store and access data using meaningful keys instead of numeric indexes. This makes the code more readable and easier to maintain. For example, in a student record, using a dictionary allows access like student[\"name\"] rather than student[0], which is more intuitive.\n",
        "\n",
        "- Another major benefit is fast lookups. Dictionaries are implemented using hash tables, which allow for constant time O(1) access, insertion, and deletion. In contrast, lists require linear time O(n) to search for an item, especially in large datasets.\n",
        "\n",
        "- Dictionaries also allow for non-sequential data organization. You can map complex relationships, such as storing information about objects with multiple attributes, using key-value pairs.\n",
        "\n",
        "- Additionally, dictionaries can avoid duplication of keys, ensuring data uniqueness where needed.\n",
        "\n",
        "- Use a Dictionary When:\n",
        " - You need to map keys to values\n",
        "\n",
        " - You require fast lookups\n",
        "\n",
        " - You want to store data with named attributes\n",
        "\n",
        "12. Describe a scenario where using a tuple would be preferable over a list\n",
        "\n",
        "- In Python, tuples and lists are both used to store collections of items, but tuples are immutable, meaning their contents cannot be changed once created. This immutability makes tuples ideal for scenarios where data integrity and safety are important.\n",
        "\n",
        "- One common scenario where tuples are preferable over lists is when storing fixed, related data that should remain constant throughout the program. For example, when storing geographical coordinates such as latitude and longitude, using a tuple is better because these values represent a fixed pair that should not be altered accidentally.\n",
        "\n",
        "- Tuples also offer performance benefits over lists. Because tuples are immutable, Python can optimize their storage and access, making them faster and more memory-efficient. This is important when dealing with large datasets or performance-sensitive applications.\n",
        "\n",
        "- Additionally, tuples can be used as keys in dictionaries or elements in sets because they are hashable, while lists cannot be used this way due to their mutability.\n",
        "\n",
        "- In summary, tuples are preferable over lists when the data is constant, should not be modified, and where performance and hashability are important. Examples include storing coordinates, fixed configuration settings, and returning multiple values from functions.\n",
        "\n",
        "\n",
        "13. How do sets handle duplicate values in Python\n",
        "\n",
        "- In Python, a set is an unordered collection of unique elements. One of the fundamental properties of sets is that they do not allow duplicate values. When you add elements to a set, any duplicate entries are automatically ignored or removed.\n",
        "\n",
        "- Internally, sets use a data structure called a hash table to store elements. Each element is hashed to a unique position in memory, allowing for fast membership tests and insertions. When a new element is added, Python checks if an element with the same hash already exists in the set. If it does, the new element is not added because it would be a duplicate.\n",
        "\n",
        "\n",
        "14. How does the “in” keyword work differently for lists and dictionaries\n",
        "\n",
        "- In Python, the in keyword is used to test membership — to check if an element exists within a collection like a list or a dictionary. However, it works differently depending on the data structure.\n",
        "\n",
        "- For lists, the in keyword checks whether a value exists anywhere in the list by scanning the list elements one by one. This means the operation has a linear time complexity O(n), where n is the number of items in the list\n",
        "\n",
        "- For dictionaries, the in keyword checks for the existence of keys, not values. Python uses a hash table to implement dictionaries, so this membership test is much faster — typically constant time O(1).\n",
        "\n",
        "15. Can you modify the elements of a tuple? Explain why or why not\n",
        "\n",
        "- In Python, a tuple is an immutable data structure, meaning that once it is created, its elements cannot be changed, added, or removed. This immutability is a core characteristic of tuples and differentiates them from lists, which are mutable.\n",
        "\n",
        "- Because tuples are immutable, you cannot modify the elements of a tuple directly. Attempting to assign a new value to any element of a tuple will result in a TypeError.\n",
        "\n",
        "\n",
        "- The reason for this immutability is that tuples are designed to represent fixed collections of items that should remain constant throughout the program. This property helps ensure data integrity by preventing accidental changes. It also allows tuples to be hashable (if their elements are hashable), which means tuples can be used as keys in dictionaries or as elements in sets, whereas lists cannot.\n",
        "\n",
        "- However, if a tuple contains mutable objects like lists, the contents of those mutable objects can be modified, but the tuple’s overall structure remains unchanged.\n",
        "\n",
        "16. What is a nested dictionary, and give an example of its use case\n",
        "\n",
        "- A nested dictionary in Python is a dictionary where one or more values are themselves dictionaries. This allows you to create complex, hierarchical data structures with multiple levels of keys and values.\n",
        "\n",
        "- Nested dictionaries are useful when you want to represent related data that has multiple layers of organization. Each inner dictionary can store details related to a specific key in the outer dictionary, making it easy to group and access structured data.\n",
        "\n",
        "Exanple:"
      ],
      "metadata": {
        "id": "1fZD2SGFfdlC"
      }
    },
    {
      "cell_type": "code",
      "source": [
        "students = {\n",
        "    \"Alice\": {\"Math\": 90, \"Science\": 85, \"English\": 88},\n",
        "    \"Bob\": {\"Math\": 75, \"Science\": 80, \"English\": 78},\n",
        "    \"Charlie\": {\"Math\": 92, \"Science\": 88, \"English\": 91}\n",
        "}\n",
        "print(students[\"Alice\"][\"Math\"])  # Output: 90\n",
        "students[\"Bob\"][\"English\"] = 82  # Update Bob's English grade\n"
      ],
      "metadata": {
        "colab": {
          "base_uri": "https://localhost:8080/"
        },
        "id": "D5_RAWPe0ml6",
        "outputId": "9e0cabb2-b3c0-4198-a723-ff739ae5e536"
      },
      "execution_count": 1,
      "outputs": [
        {
          "output_type": "stream",
          "name": "stdout",
          "text": [
            "90\n"
          ]
        }
      ]
    },
    {
      "cell_type": "markdown",
      "source": [
        "17. Describe the time complexity of accessing elements in a dictionary\n",
        "\n",
        "- Time Complexity of Accessing Elements in a Dictionary\n",
        "In Python, dictionaries are implemented using a hash table data structure. This allows dictionaries to provide very efficient access to elements using keys.\n",
        "\n",
        "- When you access an element in a dictionary by its key, Python performs the following steps:\n",
        "\n",
        "- Hashing the Key: Python applies a hash function to the key, which converts it into an integer called the hash value.\n",
        "\n",
        "- Index Calculation: This hash value is used to determine the index (or bucket) where the key-value pair is stored internally.\n",
        "\n",
        "- Direct Access: The value can then be retrieved directly from that index.\n",
        "\n",
        "- Because of this hashing mechanism, accessing elements by key in a dictionary generally has an average time complexity of O(1), meaning it takes constant time regardless of the size of the dictionary.\n",
        "\n",
        "- Important Considerations:\n",
        "This average O(1) complexity assumes minimal hash collisions. If many keys hash to the same index (a collision), Python uses techniques like open addressing or chaining to resolve collisions, which can degrade performance to O(n) in the worst case.\n",
        "\n",
        "- However, Python’s hash functions and dictionary implementation are optimized to keep collisions low, so O(1) access is typical.\n",
        "\n",
        "18. In what situations are lists preferred over dictionaries\n",
        "\n",
        "- Although both lists and dictionaries are widely used in Python, lists are preferred over dictionaries in several situations due to their structure and performance characteristics.\n",
        "\n",
        "- Ordered Collections Without Key-Value Pairing\n",
        "Lists are ideal when you need to store an ordered sequence of items where the position of each element matters. Since lists preserve order and allow duplicates, they are best suited for tasks like maintaining a sequence of steps, ordered data, or queues.\n",
        "\n",
        "- Simple Collections of Homogeneous Data\n",
        "When the data items are of the same type and don’t require descriptive keys, lists provide a simpler and more memory-efficient way to store and access the data by index.\n",
        "\n",
        "- Frequent Access by Position\n",
        "If your use case requires frequent access or iteration by numeric index (e.g., first, last, or nth element), lists are more straightforward and performant.\n",
        "\n",
        "- When You Need to Modify the Sequence\n",
        "Lists support insertion, deletion, and modification of elements at any position, which is convenient for dynamic collections where the size or order changes often.\n",
        "\n",
        "- When Key Lookup Isn’t Required\n",
        "If you don’t need to associate data with specific keys but simply need a collection of items, lists avoid the overhead of hashing and key management that dictionaries have.\n",
        "\n",
        "  \n",
        "19. Why are dictionaries considered unordered, and how does that affect data retrieval\n",
        "\n",
        "- Dictionaries in Python are traditionally considered unordered because they do not store their items in the sequence they were added. Instead, dictionaries use a hash table internally, where keys are converted into hash values that determine where values are stored. This means the physical arrangement of key-value pairs in memory does not reflect the insertion order.\n",
        "\n",
        "- Because of this unordered nature, when you iterate over a dictionary or print it, the items may appear in an arbitrary order. This contrasts with lists, where the order of elements is fixed and predictable.\n",
        "\n",
        "- Impact on Data Retrieval\n",
        "The main advantage of dictionaries is fast access by key rather than access by position or order.\n",
        "\n",
        "- Since dictionaries are unordered, you cannot rely on the order of elements to retrieve data sequentially.\n",
        "\n",
        "- You access values only by specifying their keys, not by index or position.\n",
        "\n",
        "- If your program logic depends on order, you either need to use an OrderedDict (in Python versions before 3.7) or maintain a separate list to keep track of the sequence of keys.\n",
        "\n",
        "20. Explain the difference between a list and a dictionary in terms of data retrieval.\n",
        "\n",
        "- Lists and dictionaries are both common data structures in Python but differ significantly in how data is retrieved.\n",
        "\n",
        "- Lists:\n",
        "  Data retrieval in lists is based on index positions.\n",
        "\n",
        "- Elements are stored in an ordered sequence, and each element is accessed by its numeric index (starting from 0).\n",
        "\n",
        "- Retrieving an element by index is fast and direct: for example, my_list[2] gets the third item.\n",
        "\n",
        "- However, searching for a specific value in a list requires checking elements one by one, resulting in linear time complexity O(n).\n",
        "\n",
        "- Dictionaries:\n",
        "Data retrieval in dictionaries is based on keys, not positions.\n",
        "\n",
        "- Dictionaries store key-value pairs, where each value is accessed by a unique key.\n",
        "\n",
        "- Internally, dictionaries use a hash table that allows retrieving values in average constant time O(1).\n",
        "\n",
        "- Instead of sequential lookup, Python uses the key’s hash to locate the value quickly, making dictionary lookups very efficient."
      ],
      "metadata": {
        "id": "a5nxuM04009j"
      }
    },
    {
      "cell_type": "markdown",
      "source": [
        "# Write a code to create a string with your name and print"
      ],
      "metadata": {
        "id": "51Lqvuen2bqR"
      }
    },
    {
      "cell_type": "code",
      "source": [
        "name = \"Rahul kumar\"\n",
        "print(name)\n"
      ],
      "metadata": {
        "colab": {
          "base_uri": "https://localhost:8080/"
        },
        "id": "9Yi4VrZk2qWB",
        "outputId": "c806be31-da6e-4254-b2d0-c62d94e24a4f"
      },
      "execution_count": 2,
      "outputs": [
        {
          "output_type": "stream",
          "name": "stdout",
          "text": [
            "Rahul kumar\n"
          ]
        }
      ]
    },
    {
      "cell_type": "markdown",
      "source": [
        "# 2.Write a code to find the length of the string \"Hello World\""
      ],
      "metadata": {
        "id": "SafFrtkp256V"
      }
    },
    {
      "cell_type": "code",
      "source": [
        "text = \"Hello World\"\n",
        "length = len(text)\n",
        "print(length)\n"
      ],
      "metadata": {
        "colab": {
          "base_uri": "https://localhost:8080/"
        },
        "id": "vog9cCqW3Ds8",
        "outputId": "20f893ed-6610-4dd5-9d1a-f899cdfaf37e"
      },
      "execution_count": 3,
      "outputs": [
        {
          "output_type": "stream",
          "name": "stdout",
          "text": [
            "11\n"
          ]
        }
      ]
    },
    {
      "cell_type": "markdown",
      "source": [
        "## Write a code to slice the first 3 characters from the string \"Python Programming\""
      ],
      "metadata": {
        "id": "XWOgOdC33PuK"
      }
    },
    {
      "cell_type": "code",
      "source": [
        "text = \"Python Programming\"\n",
        "first_three = text[:3]\n",
        "print(first_three)\n"
      ],
      "metadata": {
        "colab": {
          "base_uri": "https://localhost:8080/"
        },
        "id": "1DJL2gmf3Vtf",
        "outputId": "bf54284e-368b-4dc1-dbdc-86ecada15bb9"
      },
      "execution_count": 4,
      "outputs": [
        {
          "output_type": "stream",
          "name": "stdout",
          "text": [
            "Pyt\n"
          ]
        }
      ]
    },
    {
      "cell_type": "markdown",
      "source": [
        "# Write a code to convert the string \"hello\" to uppercase"
      ],
      "metadata": {
        "id": "ptm-MzqW3fMP"
      }
    },
    {
      "cell_type": "code",
      "source": [
        "text = \"hello\"\n",
        "uppercase_text = text.upper()\n",
        "print(uppercase_text)\n"
      ],
      "metadata": {
        "colab": {
          "base_uri": "https://localhost:8080/"
        },
        "id": "4xqLh8RL3rim",
        "outputId": "2354c2a0-8fa6-4190-cdb6-39df8c61fc44"
      },
      "execution_count": 5,
      "outputs": [
        {
          "output_type": "stream",
          "name": "stdout",
          "text": [
            "HELLO\n"
          ]
        }
      ]
    },
    {
      "cell_type": "markdown",
      "source": [
        "# Write a code to replace the word \"apple\" with \"orange\" in the string \"I like apple"
      ],
      "metadata": {
        "id": "4nChKBrs3xGD"
      }
    },
    {
      "cell_type": "code",
      "source": [
        "text = \"I like apple\"\n",
        "new_text = text.replace(\"apple\", \"orange\")\n",
        "print(new_text)\n"
      ],
      "metadata": {
        "colab": {
          "base_uri": "https://localhost:8080/"
        },
        "id": "gyFaCxLP31Wt",
        "outputId": "ccf1ae92-cdd0-475f-9c7e-e70b7a77a4f1"
      },
      "execution_count": 6,
      "outputs": [
        {
          "output_type": "stream",
          "name": "stdout",
          "text": [
            "I like orange\n"
          ]
        }
      ]
    },
    {
      "cell_type": "markdown",
      "source": [
        "## Write a code to create a list with numbers 1 to 5 and print it"
      ],
      "metadata": {
        "id": "GkjCdPwQ37_b"
      }
    },
    {
      "cell_type": "code",
      "source": [
        "numbers = [1, 2, 3, 4, 5]\n",
        "print(numbers)\n"
      ],
      "metadata": {
        "colab": {
          "base_uri": "https://localhost:8080/"
        },
        "id": "WHbilLnr4AKS",
        "outputId": "de7e2382-5022-40cc-b5bf-d506eadafa11"
      },
      "execution_count": 7,
      "outputs": [
        {
          "output_type": "stream",
          "name": "stdout",
          "text": [
            "[1, 2, 3, 4, 5]\n"
          ]
        }
      ]
    },
    {
      "cell_type": "markdown",
      "source": [
        "## Write a code to append the number 10 to the list [1, 2, 3, 4]"
      ],
      "metadata": {
        "id": "B5HI-v_G4HMT"
      }
    },
    {
      "cell_type": "code",
      "source": [
        "numbers = [1, 2, 3, 4]\n",
        "numbers.append(10)\n",
        "print(numbers)\n"
      ],
      "metadata": {
        "colab": {
          "base_uri": "https://localhost:8080/"
        },
        "id": "hqLMXjVU4NDn",
        "outputId": "6b5ce148-caa9-46eb-9698-e9bb3a168413"
      },
      "execution_count": 8,
      "outputs": [
        {
          "output_type": "stream",
          "name": "stdout",
          "text": [
            "[1, 2, 3, 4, 10]\n"
          ]
        }
      ]
    },
    {
      "cell_type": "markdown",
      "source": [
        "Write a code to remove the number 3 from the list [1, 2, 3, 4, 5]"
      ],
      "metadata": {
        "id": "MsL0y2zE4SNE"
      }
    },
    {
      "cell_type": "code",
      "source": [
        "numbers = [1, 2, 3, 4, 5]\n",
        "numbers.remove(3)\n",
        "print(numbers)\n"
      ],
      "metadata": {
        "colab": {
          "base_uri": "https://localhost:8080/"
        },
        "id": "pm-r1Eq74Wp_",
        "outputId": "09d34278-6373-4951-c1c7-9373ab9dabab"
      },
      "execution_count": 9,
      "outputs": [
        {
          "output_type": "stream",
          "name": "stdout",
          "text": [
            "[1, 2, 4, 5]\n"
          ]
        }
      ]
    },
    {
      "cell_type": "markdown",
      "source": [
        "## Write a code to access the second element in the list ['a', 'b', 'c', 'd']"
      ],
      "metadata": {
        "id": "ZRM868S94kub"
      }
    },
    {
      "cell_type": "code",
      "source": [
        "letters = ['a', 'b', 'c', 'd']\n",
        "second_element = letters[1]\n",
        "print(second_element)\n"
      ],
      "metadata": {
        "colab": {
          "base_uri": "https://localhost:8080/"
        },
        "id": "Xy8JctIi4pM5",
        "outputId": "0869edc4-007c-4452-80af-868def8cf2e5"
      },
      "execution_count": 10,
      "outputs": [
        {
          "output_type": "stream",
          "name": "stdout",
          "text": [
            "b\n"
          ]
        }
      ]
    },
    {
      "cell_type": "markdown",
      "source": [
        "## Write a code to reverse the list [10, 20, 30, 40, 50]."
      ],
      "metadata": {
        "id": "mtExq5jn4u56"
      }
    },
    {
      "cell_type": "code",
      "source": [
        "numbers = [10, 20, 30, 40, 50]\n",
        "numbers.reverse()\n",
        "print(numbers)\n"
      ],
      "metadata": {
        "colab": {
          "base_uri": "https://localhost:8080/"
        },
        "id": "LHV-9ngn4y1x",
        "outputId": "cd865b66-87f8-4c32-a7b6-6e87b2d84599"
      },
      "execution_count": 11,
      "outputs": [
        {
          "output_type": "stream",
          "name": "stdout",
          "text": [
            "[50, 40, 30, 20, 10]\n"
          ]
        }
      ]
    },
    {
      "cell_type": "markdown",
      "source": [
        "## Write a code to create a tuple with the elements 100, 200, 300 and print it"
      ],
      "metadata": {
        "id": "06gHhiAk430_"
      }
    },
    {
      "cell_type": "code",
      "source": [
        "my_tuple = (100, 200, 300)\n",
        "print(my_tuple)\n"
      ],
      "metadata": {
        "colab": {
          "base_uri": "https://localhost:8080/"
        },
        "id": "7qVj15Fn47ji",
        "outputId": "7f3abb40-43c9-466a-8b07-e5c72e30697f"
      },
      "execution_count": 12,
      "outputs": [
        {
          "output_type": "stream",
          "name": "stdout",
          "text": [
            "(100, 200, 300)\n"
          ]
        }
      ]
    },
    {
      "cell_type": "markdown",
      "source": [
        "## Write a code to access the second-to-last element of the tuple ('red', 'green', 'blue', 'yellow')."
      ],
      "metadata": {
        "id": "IuK2k9En5B1J"
      }
    },
    {
      "cell_type": "code",
      "source": [
        "colors = ('red', 'green', 'blue', 'yellow')\n",
        "second_last = colors[-2]\n",
        "print(second_last)\n"
      ],
      "metadata": {
        "colab": {
          "base_uri": "https://localhost:8080/"
        },
        "id": "d1QDAX-C5GA1",
        "outputId": "10c06099-ee71-45ef-8629-7351fa1bdfcd"
      },
      "execution_count": 35,
      "outputs": [
        {
          "output_type": "stream",
          "name": "stdout",
          "text": [
            "blue\n"
          ]
        }
      ]
    },
    {
      "cell_type": "markdown",
      "source": [
        "## Write a code to find the minimum number in the tuple (10, 20, 5, 15)"
      ],
      "metadata": {
        "id": "Rb8Ao14Z5LMF"
      }
    },
    {
      "cell_type": "code",
      "source": [
        "numbers = (10, 20, 5, 15)\n",
        "min_number = min(numbers)\n",
        "print(min_number)\n"
      ],
      "metadata": {
        "colab": {
          "base_uri": "https://localhost:8080/"
        },
        "id": "HW3GYLIB5W4N",
        "outputId": "36fe06c2-c46f-4eb6-cb0a-058a9d783506"
      },
      "execution_count": 14,
      "outputs": [
        {
          "output_type": "stream",
          "name": "stdout",
          "text": [
            "5\n"
          ]
        }
      ]
    },
    {
      "cell_type": "markdown",
      "source": [
        "## Write a code to find the index of the element \"cat\" in the tuple ('dog', 'cat', 'rabbit')."
      ],
      "metadata": {
        "id": "kYpusIEd5ZD1"
      }
    },
    {
      "cell_type": "code",
      "source": [
        "animals = ('dog', 'cat', 'rabbit')\n",
        "index_cat = animals.index('cat')\n",
        "print(index_cat)\n"
      ],
      "metadata": {
        "colab": {
          "base_uri": "https://localhost:8080/"
        },
        "id": "P8DYEVH75cyp",
        "outputId": "eededc04-589e-4770-d027-7e6b287b1c27"
      },
      "execution_count": 15,
      "outputs": [
        {
          "output_type": "stream",
          "name": "stdout",
          "text": [
            "1\n"
          ]
        }
      ]
    },
    {
      "cell_type": "markdown",
      "source": [
        "## Write a code to create a tuple containing three different fruits and check if \"kiwi\" is in it."
      ],
      "metadata": {
        "id": "Nme98c965m_N"
      }
    },
    {
      "cell_type": "code",
      "source": [
        "fruits = (\"apple\", \"banana\", \"orange\")\n",
        "if \"kiwi\" in fruits:\n",
        "    print(\"Kiwi is in the tuple.\")\n",
        "else:\n",
        "    print(\"Kiwi is not in the tuple.\")\n"
      ],
      "metadata": {
        "colab": {
          "base_uri": "https://localhost:8080/"
        },
        "id": "Y1BVAf1a5rvo",
        "outputId": "0f52b2ca-a9b6-4a76-dd6c-5c9b59fe1181"
      },
      "execution_count": 16,
      "outputs": [
        {
          "output_type": "stream",
          "name": "stdout",
          "text": [
            "Kiwi is not in the tuple.\n"
          ]
        }
      ]
    },
    {
      "cell_type": "markdown",
      "source": [
        "## . Write a code to create a set with the elements 'a', 'b', 'c' and print it."
      ],
      "metadata": {
        "id": "V9tVf_0V5yyd"
      }
    },
    {
      "cell_type": "code",
      "source": [
        "my_set = {'a', 'b', 'c'}\n",
        "print(my_set)\n"
      ],
      "metadata": {
        "colab": {
          "base_uri": "https://localhost:8080/"
        },
        "id": "vIo2AEmq52Oe",
        "outputId": "ddf889c0-7973-4ad8-8506-76b758262ebd"
      },
      "execution_count": 17,
      "outputs": [
        {
          "output_type": "stream",
          "name": "stdout",
          "text": [
            "{'c', 'b', 'a'}\n"
          ]
        }
      ]
    },
    {
      "cell_type": "markdown",
      "source": [
        "## . Write a code to clear all elements from the set {1, 2, 3, 4, 5}."
      ],
      "metadata": {
        "id": "90g85jY958eu"
      }
    },
    {
      "cell_type": "code",
      "source": [
        "numbers = {1, 2, 3, 4, 5}\n",
        "numbers.clear()\n",
        "print(numbers)\n"
      ],
      "metadata": {
        "colab": {
          "base_uri": "https://localhost:8080/"
        },
        "id": "jL3Fq03k6EID",
        "outputId": "e1a4de96-11cf-4a8c-d1e0-9d4ef989be6d"
      },
      "execution_count": 18,
      "outputs": [
        {
          "output_type": "stream",
          "name": "stdout",
          "text": [
            "set()\n"
          ]
        }
      ]
    },
    {
      "cell_type": "markdown",
      "source": [
        "## Write a code to remove the element 4 from the set {1, 2, 3, 4}"
      ],
      "metadata": {
        "id": "TXMrCBJ26GEx"
      }
    },
    {
      "cell_type": "code",
      "source": [
        "numbers = {1, 2, 3, 4}\n",
        "numbers.remove(4)\n",
        "print(numbers)\n"
      ],
      "metadata": {
        "colab": {
          "base_uri": "https://localhost:8080/"
        },
        "id": "1TbtFNhP6RzS",
        "outputId": "0b06d875-c948-422f-92d1-4747b123fdfe"
      },
      "execution_count": 19,
      "outputs": [
        {
          "output_type": "stream",
          "name": "stdout",
          "text": [
            "{1, 2, 3}\n"
          ]
        }
      ]
    },
    {
      "cell_type": "markdown",
      "source": [
        "## Write a code to find the union of two sets {1, 2, 3} and {3, 4, 5}"
      ],
      "metadata": {
        "id": "cCXwzlmi6XHI"
      }
    },
    {
      "cell_type": "code",
      "source": [
        "set1 = {1, 2, 3}\n",
        "set2 = {3, 4, 5}\n",
        "union_set = set1.union(set2)\n",
        "print(union_set)\n"
      ],
      "metadata": {
        "colab": {
          "base_uri": "https://localhost:8080/"
        },
        "id": "RokNHp5-6cdV",
        "outputId": "8682ba72-9b57-4f60-de80-16d40f4189d1"
      },
      "execution_count": 20,
      "outputs": [
        {
          "output_type": "stream",
          "name": "stdout",
          "text": [
            "{1, 2, 3, 4, 5}\n"
          ]
        }
      ]
    },
    {
      "cell_type": "markdown",
      "source": [
        "## Write a code to find the intersection of two sets {1, 2, 3} and {2, 3, 4}"
      ],
      "metadata": {
        "id": "K5_zqgBz6hvm"
      }
    },
    {
      "cell_type": "code",
      "source": [
        "set1 = {1, 2, 3}\n",
        "set2 = {2, 3, 4}\n",
        "intersection_set = set1.intersection(set2)\n",
        "print(intersection_set)\n"
      ],
      "metadata": {
        "colab": {
          "base_uri": "https://localhost:8080/"
        },
        "id": "kRT80YpF6oU7",
        "outputId": "4bf27e22-cd48-42fd-8607-4a4744283908"
      },
      "execution_count": 21,
      "outputs": [
        {
          "output_type": "stream",
          "name": "stdout",
          "text": [
            "{2, 3}\n"
          ]
        }
      ]
    },
    {
      "cell_type": "markdown",
      "source": [
        "## Write a code to create a dictionary with the keys \"name\", \"age\", and \"city\", and print it."
      ],
      "metadata": {
        "id": "V1EYxvng6vBT"
      }
    },
    {
      "cell_type": "code",
      "source": [
        "person = {\n",
        "    \"name\": \"Alice\",\n",
        "    \"age\": 25,\n",
        "    \"city\": \"New York\"\n",
        "}\n",
        "print(person)\n"
      ],
      "metadata": {
        "colab": {
          "base_uri": "https://localhost:8080/"
        },
        "id": "RGn-td6w63mO",
        "outputId": "de3799e5-78f7-4a74-d231-ed8c66701000"
      },
      "execution_count": 22,
      "outputs": [
        {
          "output_type": "stream",
          "name": "stdout",
          "text": [
            "{'name': 'Alice', 'age': 25, 'city': 'New York'}\n"
          ]
        }
      ]
    },
    {
      "cell_type": "markdown",
      "source": [
        "## Write a code to add a new key-value pair \"country\": \"USA\" to the dictionary {'name': 'John', 'age': 25}."
      ],
      "metadata": {
        "id": "bvrfxLQY69C5"
      }
    },
    {
      "cell_type": "code",
      "source": [
        "person = {'name': 'John', 'age': 25}\n",
        "person['country'] = 'USA'\n",
        "print(person)\n"
      ],
      "metadata": {
        "colab": {
          "base_uri": "https://localhost:8080/"
        },
        "id": "FOn16Ph47BPb",
        "outputId": "a96a206f-f7c1-4134-8faf-c2fb2a65f172"
      },
      "execution_count": 23,
      "outputs": [
        {
          "output_type": "stream",
          "name": "stdout",
          "text": [
            "{'name': 'John', 'age': 25, 'country': 'USA'}\n"
          ]
        }
      ]
    },
    {
      "cell_type": "markdown",
      "source": [
        "## Write a code to access the value associated with the key \"name\" in the dictionary {'name': 'Alice', 'age': 30}."
      ],
      "metadata": {
        "id": "_snvYgMZ7FkQ"
      }
    },
    {
      "cell_type": "code",
      "source": [
        "person = {'name': 'Alice', 'age': 30}\n",
        "name_value = person['name']\n",
        "print(name_value)\n"
      ],
      "metadata": {
        "colab": {
          "base_uri": "https://localhost:8080/"
        },
        "id": "N5LdjR_27Jri",
        "outputId": "c80515a4-21bc-4318-d56a-080974a2db03"
      },
      "execution_count": 24,
      "outputs": [
        {
          "output_type": "stream",
          "name": "stdout",
          "text": [
            "Alice\n"
          ]
        }
      ]
    },
    {
      "cell_type": "markdown",
      "source": [
        "## Write a code to remove the key \"age\" from the dictionary {'name': 'Bob', 'age': 22, 'city': 'New York'}."
      ],
      "metadata": {
        "id": "ToUGk6y17O0r"
      }
    },
    {
      "cell_type": "code",
      "source": [
        "person = {'name': 'Bob', 'age': 22, 'city': 'New York'}\n",
        "person.pop('age')\n",
        "print(person)\n"
      ],
      "metadata": {
        "colab": {
          "base_uri": "https://localhost:8080/"
        },
        "id": "ltebgV_H7VH0",
        "outputId": "bb6d808b-d128-45c9-be42-17acd736cf3a"
      },
      "execution_count": 25,
      "outputs": [
        {
          "output_type": "stream",
          "name": "stdout",
          "text": [
            "{'name': 'Bob', 'city': 'New York'}\n"
          ]
        }
      ]
    },
    {
      "cell_type": "markdown",
      "source": [
        "## Write a code to check if the key \"city\" exists in the dictionary {'name': 'Alice', 'city': 'Paris'}."
      ],
      "metadata": {
        "id": "_QE62L0Q7bo_"
      }
    },
    {
      "cell_type": "code",
      "source": [
        "person = {'name': 'Alice', 'city': 'Paris'}\n",
        "if 'city' in person:\n",
        "    print(\"Key 'city' exists in the dictionary.\")\n",
        "else:\n",
        "    print(\"Key 'city' does not exist in the dictionary.\")\n"
      ],
      "metadata": {
        "colab": {
          "base_uri": "https://localhost:8080/"
        },
        "id": "6V7hNEHr7fuM",
        "outputId": "0ccbcf70-e2ea-4637-f23a-91633879b605"
      },
      "execution_count": 26,
      "outputs": [
        {
          "output_type": "stream",
          "name": "stdout",
          "text": [
            "Key 'city' exists in the dictionary.\n"
          ]
        }
      ]
    },
    {
      "cell_type": "markdown",
      "source": [
        "## Write a code to create a list, a tuple, and a dictionary, and print them all."
      ],
      "metadata": {
        "id": "eIyoPvYG7kgb"
      }
    },
    {
      "cell_type": "code",
      "source": [
        "# Creating a list\n",
        "my_list = [1, 2, 3]\n",
        "\n",
        "# Creating a tuple\n",
        "my_tuple = ('a', 'b', 'c')\n",
        "\n",
        "# Creating a dictionary\n",
        "my_dict = {'name': 'Alice', 'age': 25}\n",
        "\n",
        "# Printing all\n",
        "print(\"List:\", my_list)\n",
        "print(\"Tuple:\", my_tuple)\n",
        "print(\"Dictionary:\", my_dict)\n"
      ],
      "metadata": {
        "colab": {
          "base_uri": "https://localhost:8080/"
        },
        "id": "7vJd83aF7pQ2",
        "outputId": "3f5f177e-f8d6-4010-8769-7fd7498853e4"
      },
      "execution_count": 27,
      "outputs": [
        {
          "output_type": "stream",
          "name": "stdout",
          "text": [
            "List: [1, 2, 3]\n",
            "Tuple: ('a', 'b', 'c')\n",
            "Dictionary: {'name': 'Alice', 'age': 25}\n"
          ]
        }
      ]
    },
    {
      "cell_type": "markdown",
      "source": [
        "## Write a code to create a list of 5 random numbers between 1 and 100, sort it in ascending order, and print the result.(replaced)"
      ],
      "metadata": {
        "id": "G6OmNR917zMx"
      }
    },
    {
      "cell_type": "code",
      "source": [
        "import random\n",
        "\n",
        "# Create a list of 5 random numbers between 1 and 100\n",
        "random_numbers = [random.randint(1, 100) for _ in range(5)]\n",
        "\n",
        "# Sort the list in ascending order\n",
        "random_numbers.sort()\n",
        "\n",
        "# Print the sorted list\n",
        "print(random_numbers)\n"
      ],
      "metadata": {
        "colab": {
          "base_uri": "https://localhost:8080/"
        },
        "id": "XrEHFJKl76ls",
        "outputId": "ce14f999-3abc-4e9c-f1e2-8e31c3e7676d"
      },
      "execution_count": 28,
      "outputs": [
        {
          "output_type": "stream",
          "name": "stdout",
          "text": [
            "[7, 9, 14, 37, 42]\n"
          ]
        }
      ]
    },
    {
      "cell_type": "markdown",
      "source": [
        "## Write a code to create a list with strings and print the element at the third index."
      ],
      "metadata": {
        "id": "yeO7koiF8GEB"
      }
    },
    {
      "cell_type": "code",
      "source": [
        "# Create a list of strings\n",
        "fruits = [\"apple\", \"banana\", \"cherry\", \"date\", \"elderberry\"]\n",
        "\n",
        "# Print the element at index 3\n",
        "print(fruits[3])\n"
      ],
      "metadata": {
        "colab": {
          "base_uri": "https://localhost:8080/"
        },
        "id": "gjlulPcZ8KES",
        "outputId": "88899f8a-d3fe-4345-b580-b1786fc44e40"
      },
      "execution_count": 29,
      "outputs": [
        {
          "output_type": "stream",
          "name": "stdout",
          "text": [
            "date\n"
          ]
        }
      ]
    },
    {
      "cell_type": "markdown",
      "source": [
        "## Write a code to combine two dictionaries into one and print the result."
      ],
      "metadata": {
        "id": "vfk0Cr7N8O_8"
      }
    },
    {
      "cell_type": "code",
      "source": [
        "dict1 = {'a': 1, 'b': 2}\n",
        "dict2 = {'c': 3, 'd': 4}\n",
        "\n",
        "# Combine dictionaries (Python 3.9+)\n",
        "combined_dict = dict1 | dict2\n",
        "\n",
        "print(combined_dict)\n"
      ],
      "metadata": {
        "colab": {
          "base_uri": "https://localhost:8080/"
        },
        "id": "WY1wqXRf8Sf5",
        "outputId": "cc4b6987-2c0e-44a1-f2f8-5cab67d5bcbc"
      },
      "execution_count": 30,
      "outputs": [
        {
          "output_type": "stream",
          "name": "stdout",
          "text": [
            "{'a': 1, 'b': 2, 'c': 3, 'd': 4}\n"
          ]
        }
      ]
    },
    {
      "cell_type": "markdown",
      "source": [
        "## Write a code to convert a list of strings into a set."
      ],
      "metadata": {
        "id": "b0xUWp_o8Y12"
      }
    },
    {
      "cell_type": "code",
      "source": [
        "string_list = [\"apple\", \"banana\", \"apple\", \"cherry\"]\n",
        "string_set = set(string_list)\n",
        "print(string_set)\n"
      ],
      "metadata": {
        "colab": {
          "base_uri": "https://localhost:8080/"
        },
        "id": "_m5IKF-t8dAw",
        "outputId": "9318cac1-e75a-4bc3-f8b4-a5cabdfa94b6"
      },
      "execution_count": 31,
      "outputs": [
        {
          "output_type": "stream",
          "name": "stdout",
          "text": [
            "{'banana', 'cherry', 'apple'}\n"
          ]
        }
      ]
    }
  ]
}