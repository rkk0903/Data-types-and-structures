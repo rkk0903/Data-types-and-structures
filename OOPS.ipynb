{
  "nbformat": 4,
  "nbformat_minor": 0,
  "metadata": {
    "colab": {
      "provenance": []
    },
    "kernelspec": {
      "name": "python3",
      "display_name": "Python 3"
    },
    "language_info": {
      "name": "python"
    }
  },
  "cells": [
    {
      "cell_type": "markdown",
      "source": [
        "1.What is Object-Oriented Programming (OOP)?\n",
        "\n",
        "-  Object-Oriented Programming (OOP) is a programming paradigm based on the concept of \"objects,\" which represent real-world entities. These objects contain both data (attributes) and methods (functions or procedures) that operate on the data. OOP helps in organizing complex programs by dividing them into smaller, manageable units.\n",
        "\n",
        "- At the core of OOP are classes and objects. A class is a blueprint for creating objects. It defines the structure and behavior that the objects will have. An object is an instance of a class and represents a specific implementation of that blueprint.\n",
        "\n",
        "The main principles of OOP are:\n",
        "\n",
        "- Encapsulation: This involves binding data and methods together within a class and restricting access to some components, enhancing security and data hiding.\n",
        "\n",
        "- Abstraction: Abstraction hides the complex implementation details and shows only the essential features of an object, making the system easier to understand and use.\n",
        "\n",
        "- Inheritance: This allows one class to inherit the attributes and methods of another, promoting code reusability and establishing a natural hierarchy.\n",
        "\n",
        "- Polymorphism: Polymorphism means one interface can represent different underlying data types. It allows methods to perform different functions based on the object calling them.\n",
        "\n",
        " - OOP enhances modularity, reusability, and scalability, making it ideal for developing large and complex software systems. It is widely used in languages such as Java, C++, Python, and C#. By modeling software closer to the real world, OOP improves both the structure and maintainability of code.\n",
        "\n",
        "\n",
        "2.What is a class in OOP?\n",
        "\n",
        "- In Object-Oriented Programming (OOP), a class is a fundamental building block that serves as a blueprint for creating objects. It defines a data structure by grouping together attributes (also called properties or fields) and methods (functions that define behavior). A class does not hold actual data, but specifies how data and behavior should be organized for objects created from it.\n",
        "\n",
        "For example, a Car class might include attributes like brand, color, and speed, and methods such as drive() or brake(). When we create an actual car using this class—like a red Toyota—we are creating an object or instance of that class.\n",
        "\n",
        " - In most OOP languages like Python, Java, and C++, a class includes a constructor method (e.g., __init__() in Python) that initializes object properties. The concept allows for encapsulation, meaning data and functions are bundled together. It also supports abstraction, inheritance, and polymorphism, which are key principles of OOP.\n",
        "\n",
        "- Classes make it easier to manage and scale complex programs by organizing code into logical, reusable components. For instance, instead of writing separate code for each car, you define the class once and create as many car objects as needed with different attribute values.\n",
        "\n",
        "- In simple terms, think of a class as a template or design—like a recipe for baking a cake. You can use it to make many cakes (objects), each with different decorations or flavors (attributes), but all based on the same underlying recipe (class).\n",
        "\n",
        "\n",
        "\n",
        "3.What is an object in OOP?\n",
        "\n",
        "\n",
        "- In Object-Oriented Programming (OOP), an object is a core concept that represents a real-world entity. It is an instance of a class, which serves as a blueprint for creating objects. An object encapsulates data (attributes) and behaviors (methods or functions) that operate on the data. This encapsulation allows objects to manage their own state and behavior, promoting modularity and code reusability.\n",
        "\n",
        "Each object has three fundamental characteristics:\n",
        "\n",
        " - State – Represented by attributes or properties that describe the object (e.g., a car object may have a brand, model, and color).\n",
        "\n",
        "- Behavior – Represented by methods that define what the object can do (e.g., a car object may have methods like start(), stop(), or accelerate()).\n",
        "\n",
        "- Identity – Each object has a unique identity, even if it shares the same state and behavior as another object.\n",
        "\n",
        "For example, in a program that simulates a bank system, a Customer class can be defined with attributes like name and account_number and methods like deposit() and withdraw(). Each customer created from this class is an object with its own unique data and behaviors.\n",
        "\n",
        "- Objects communicate with each other through message passing, usually in the form of method calls. This interaction allows for complex systems to be built in a more manageable and scalable way.\n",
        "\n",
        "- In summary, an object in OOP is a self-contained unit that combines both data and functions, enabling developers to model real-world entities and relationships more effectively in software design.\n",
        "\n",
        "\n",
        "4.What is the difference between abstraction and encapsulation?\n",
        "\n",
        "\n",
        " - Abstraction and encapsulation are two fundamental concepts in Object-Oriented Programming (OOP), both aiming to manage complexity and improve code maintainability. Although they are closely related, they serve different purposes.\n",
        "\n",
        "🔹 Abstraction:\n",
        "Abstraction is the concept of hiding the internal implementation details and showing only the essential features of an object. It allows a programmer to focus on what an object does rather than how it does it.\n",
        "\n",
        "For example, when using a car, the driver only needs to know how to operate the steering wheel, brakes, and accelerator — not how the engine works internally. In programming, abstraction is typically achieved through abstract classes or interfaces, where only method declarations are provided, and the implementation is left to the subclasses.\n",
        "\n",
        "Key points:\n",
        "- Focuses on essential qualities rather than specific characteristics.\n",
        "\n",
        "- Hides complex implementation from the user.\n",
        "\n",
        "- Achieved using interfaces and abstract classes.\n",
        "\n",
        "🔹 Encapsulation:\n",
        "Encapsulation is the process of wrapping data (attributes) and the code (methods) that operates on the data into a single unit, i.e., a class. It also involves restricting direct access to some of the object's components, which is done using access modifiers like private, protected, and public.\n",
        "\n",
        "- For instance, a class can keep its data private and provide public methods to access or modify it (getters and setters).\n",
        "\n",
        "Key points:\n",
        "- Focuses on data protection and security.\n",
        "\n",
        "- Controls access to data and hides implementation.\n",
        "\n",
        "- Achieved using access modifiers.\n",
        "\n",
        "\n",
        "5.What are dunder methods in Python?\n",
        "\n",
        "- Dunder methods in Python, short for “double underscore” methods (also called magic methods or special methods), are predefined methods that start and end with double underscores, like __init__, __str__, or __add__. These methods allow programmers to define or customize the behavior of Python objects in a special way, enabling operator overloading, object initialization, representation, and many other features.\n",
        "\n",
        "Key Characteristics:\n",
        "- Naming: They always have double underscores before and after the method name, e.g., __len__, __eq__, __call__.\n",
        "\n",
        "- Purpose: They let you customize built-in operations on objects, such as addition, comparison, iteration, or printing.\n",
        "\n",
        "- Not called directly: These methods are invoked implicitly by Python in response to built-in functions or operators.\n",
        "\n",
        "Common Examples:\n",
        " - __init__(self, ...): Constructor method called when an object is created.\n",
        "\n",
        " - __str__(self): Defines the string representation of an object used by print().\n",
        "\n",
        " - __repr__(self): Provides an official string representation for debugging.\n",
        "\n",
        " - __add__(self, other): Enables the use of + operator between objects.\n",
        "\n",
        " - __len__(self): Allows the use of len() function on an object.\n",
        "\n",
        " - __eq__(self, other): Defines behavior for equality comparison (==).\n",
        "\n",
        "  - Why Use Dunder Methods?\n",
        "They make your custom classes behave like built-in types, making your code more intuitive and pythonic. For example, by defining __add__, you can add two objects with +, or by implementing __iter__ and __next__, you can make an object iterable in loops.\n",
        "\n",
        "\n",
        " 6.Explain the concept of inheritance in OOP?\n",
        "\n",
        "- Inheritance is a fundamental concept in Object-Oriented Programming (OOP) that allows a new class, called the child class or subclass, to acquire the properties and behaviors (attributes and methods) of an existing class, known as the parent class or superclass. This mechanism promotes code reuse, extensibility, and a natural way to model hierarchical relationships.\n",
        "\n",
        "How Inheritance Works:\n",
        "When a subclass inherits from a parent class, it automatically gets all the attributes and methods of that parent. The subclass can:\n",
        "\n",
        "- Use the inherited features as they are,\n",
        "\n",
        "- Override them to change or extend behavior,\n",
        "\n",
        "- Add new features specific to itself.\n",
        "\n",
        "For example, consider a parent class Animal with methods like eat() and sleep(). A subclass Dog can inherit these methods and also introduce a new method bark(). This avoids rewriting common behavior in every animal type.\n",
        "\n",
        "Types of Inheritance:\n",
        "- Single inheritance: One subclass inherits from one parent class.\n",
        "\n",
        "- Multiple inheritance: A subclass inherits from multiple parent classes.\n",
        "\n",
        "- Multilevel inheritance: A subclass inherits from a class which itself is a subclass.\n",
        "\n",
        "- Hierarchical inheritance: Multiple subclasses inherit from a single parent class.\n",
        "\n",
        "- Benefits of Inheritance:\n",
        "Code Reusability: Common code is written once in the parent class.\n",
        "\n",
        "- Extensibility: New features can be added in subclasses without modifying the parent.\n",
        "\n",
        "- Polymorphism Support: Subclasses can override methods to provide specific implementations.\n",
        "\n",
        "\n",
        "7.What is polymorphism in OOP?\n",
        "\n",
        "- Polymorphism is a core concept in Object-Oriented Programming (OOP) that means “many forms.” It allows objects of different classes to be treated as objects of a common superclass, especially when they share methods with the same name but possibly different implementations. Polymorphism enables a single interface to represent different underlying data types or classes.\n",
        "\n",
        "Types of Polymorphism:\n",
        "- Compile-time Polymorphism (Static Polymorphism):\n",
        "Achieved through method overloading or operator overloading. It happens when multiple methods have the same name but differ in the type or number of parameters. The correct method is chosen at compile time.\n",
        "\n",
        "- Run-time Polymorphism (Dynamic Polymorphism):\n",
        "Achieved through method overriding where a subclass provides its own implementation of a method that is already defined in its superclass. The decision about which method to call is made at runtime based on the object’s actual type.\n",
        "\n",
        "\n",
        "8.How is encapsulation achieved in Python?\n",
        "\n",
        "- Encapsulation in Python is the principle of bundling data (attributes) and methods (functions) that operate on the data into a single unit, typically a class. It restricts direct access to some of the object's components to protect the internal state and ensure controlled interaction. This helps prevent accidental modification of data and maintains the integrity of the object.\n",
        "\n",
        "- In Python, encapsulation is achieved through naming conventions rather than strict access modifiers like in some other languages. Attributes and methods intended to be public have no underscores. Attributes with a single leading underscore are treated as protected, indicating they should not be accessed directly outside the class or its subclasses, although this is only a convention and not enforced by the language. Attributes with a double leading underscore are considered private; Python performs name mangling on these names to make it harder (but not impossible) to access them from outside the class.\n",
        "\n",
        "- By hiding the internal details, encapsulation allows the programmer to change the implementation without affecting other parts of the program. Access to private data is typically controlled using getter and setter methods, which provide a controlled interface for reading or modifying the data, allowing validation or additional processing when necessary.\n",
        "\n",
        "- Overall, encapsulation improves code modularity, security, and maintainability by ensuring that an object's internal state cannot be changed arbitrarily and is only modified through well-defined methods.\n",
        "\n",
        "\n",
        "9.What is a constructor in Python?\n",
        "\n",
        "- A constructor in Python is a special method used to initialize newly created objects of a class. It is automatically called when an object is instantiated, meaning when you create an instance of a class. The primary purpose of a constructor is to set up the initial state of the object by assigning values to its attributes or performing any setup steps required.\n",
        "\n",
        "- In Python, the constructor method is named __init__(). This method is defined within a class and always takes at least one parameter: self, which refers to the instance being created. Additional parameters can be added to pass values during object creation, allowing customization of each object's initial state.\n",
        "\n",
        "- When an object is created, Python calls the __init__() method implicitly, passing the new object as the self argument, along with any other arguments provided during instantiation. This method does not return any value; its role is purely to initialize the object.\n",
        "\n",
        "- Using a constructor ensures that objects start with a valid and predictable state, which helps prevent errors caused by uninitialized attributes. It also improves code readability and usability, as object creation and initialization happen together in a consistent way.\n",
        "\n",
        "- For example, in a class representing a Car, the constructor might initialize attributes like make, model, and year. When creating a Car object, the constructor automatically assigns these attributes based on the provided arguments.\n",
        "\n",
        "- In summary, the constructor in Python is a built-in method named __init__() that initializes an object immediately after it is created. It sets the initial values of an object’s attributes, ensuring the object is ready for use.\n",
        "\n",
        "10.What are class and static methods in Python?\n",
        "  \n",
        "\n",
        "- Here is a point-wise explanation of class methods and static methods in Python:\n",
        "\n",
        "Class Methods:\n",
        "- Defined using the @classmethod decorator.\n",
        "\n",
        "- The first parameter is always cls, which refers to the class itself, not the instance.\n",
        "\n",
        "- Can access and modify class state that applies across all instances of the class.\n",
        "\n",
        "- Used when a method needs to work with the class as a whole rather than individual objects.\n",
        "\n",
        "- Can be called using the class name or an instance.\n",
        "\n",
        "- Commonly used for alternative constructors or methods that affect the class-level data.\n",
        "\n",
        "- Cannot access instance attributes directly because it does not receive self.\n",
        "\n",
        "Static Methods:\n",
        "- Defined using the @staticmethod decorator.\n",
        "\n",
        "- Do not receive an implicit first argument (neither self nor cls).\n",
        "\n",
        "- Behave like regular functions but belong to the class’s namespace.\n",
        "\n",
        "- Cannot access or modify instance or class state.\n",
        "\n",
        "- Used to group utility functions related to the class but that don’t need access to class or instance data.\n",
        "\n",
        "Called using the class name or an instance.\n",
        "\n",
        "- Help improve code organization by logically grouping functions inside a class.\n",
        "\n",
        "\n",
        "11.What is method overloading in Python?\n",
        "\n",
        "- Method overloading is a concept in programming where multiple methods have the same name but differ in the number or types of their parameters. It allows a class to have more than one method with the same name, enabling different behaviors based on the arguments passed.\n",
        "\n",
        "- In many programming languages like Java or C++, method overloading is supported natively — the compiler determines which method to call based on the method signature. However, Python does not support method overloading in the traditional sense because Python functions do not enforce strict type checking and allow variable numbers of arguments.\n",
        "\n",
        "- In Python, if multiple methods with the same name are defined in a class, the last defined method overrides the earlier ones. Therefore, true method overloading is not possible directly.\n",
        "\n",
        "How to Simulate Method Overloading in Python:\n",
        "- Using Default Arguments:\n",
        "Define a single method with optional parameters by providing default values. The method behavior changes depending on how many arguments are passed.\n",
        "\n",
        "- Using Variable-Length Arguments:\n",
        "Use *args and **kwargs to accept any number of positional or keyword arguments and then process them accordingly inside the method.\n",
        "\n",
        "- Manual Type Checking:\n",
        "Inside the method, check the type or number of arguments and perform different actions accordingly.\n",
        "\n",
        "\n",
        "12.What is method overriding in OOP?\n",
        "\n",
        "- Method overriding is a fundamental concept in Object-Oriented Programming (OOP) that allows a subclass (child class) to provide a specific implementation of a method that is already defined in its superclass (parent class). When a method in the subclass has the same name, return type, and parameters as a method in the superclass, the subclass’s method overrides the superclass’s method.\n",
        "\n",
        "- Purpose of Method Overriding:\n",
        "It enables runtime polymorphism, where the method that gets executed is determined by the actual object type, not the reference type.\n",
        "\n",
        "- It allows subclasses to customize or extend the behavior of methods inherited from the parent class.\n",
        "\n",
        "- It supports dynamic method dispatch, which improves flexibility and enables code reuse.\n",
        "\n",
        "- How Method Overriding Works:\n",
        "The subclass defines a method with the same signature as the superclass method.\n",
        "\n",
        "- When a method call is made on an object, Python looks for the method in the subclass first.\n",
        "\n",
        "- If found, the subclass’s version is executed; otherwise, the superclass’s version is called.\n",
        "  \n",
        "\n",
        "13.What is a property decorator in Python?\n",
        "\n",
        "- he property decorator in Python is a built-in feature that allows you to manage the access to an attribute in a class using methods, but with the simplicity of attribute access syntax. It is used to create managed attributes, meaning you can define getter, setter, and deleter methods while still allowing the attribute to be accessed like a regular variable.\n",
        "\n",
        "Purpose of the Property Decorator:\n",
        "- It encapsulates instance variables and provides controlled access.\n",
        "\n",
        "- Allows adding validation logic or side effects whenever an attribute is accessed or modified.\n",
        "\n",
        "- Makes the class interface cleaner by hiding method calls behind attribute access syntax.\n",
        "\n",
        "\n",
        "14.Why is polymorphism important in OOP?\n",
        "\n",
        "- Polymorphism is a vital principle in Object-Oriented Programming (OOP) that enables objects of different classes to be treated through a common interface, typically via inheritance. It allows the same operation or method call to behave differently depending on the actual object’s class, supporting flexibility and extensibility in software design.\n",
        "\n",
        "Importance of Polymorphism in OOP:\n",
        "- Code Reusability and Simplification:\n",
        "- Polymorphism enables writing generic code that works with objects of - - -different classes, reducing duplication. For example, a single function can -\n",
        "- process different shapes (circle, square, triangle) by calling a common method like draw(), regardless of the specific shape.\n",
        "\n",
        "- Extensibility:\n",
        "New classes can be added with minimal changes to existing code. Since polymorphism relies on a shared interface, adding a new subclass with overridden methods does not require modifying the code that uses the superclass references.\n",
        "\n",
        "Improved Maintainability:\n",
        "- By using polymorphic behavior, programs become easier to maintain and update because code depends on abstract interfaces rather than concrete implementations. This reduces coupling between components.\n",
        "\n",
        "Supports Dynamic Method Binding:\n",
        "- Polymorphism enables dynamic dispatch where the method that gets executed depends on the actual object type at runtime, allowing for more flexible and dynamic behaviors.\n",
        "\n",
        "Encourages Design Principles:\n",
        "- It promotes principles like the Open/Closed Principle, meaning software entities should be open for extension but closed for modification.\n",
        "\n",
        "\n",
        "15.What is an abstract class in Python?\n",
        "\n",
        "- An abstract class in Python is a class that serves as a blueprint for other classes but is not intended to be instantiated directly. It defines a common interface and may include one or more abstract methods—methods declared but without an implementation. Subclasses derived from the abstract class are required to provide concrete implementations for these abstract methods.\n",
        "\n",
        "Purpose of Abstract Classes:\n",
        "- To provide a template for other classes.\n",
        "\n",
        "- To ensure that certain methods are implemented in all subclasses.\n",
        "\n",
        "- To promote code consistency and enforce design contracts in complex systems.\n",
        "\n",
        "16.What are the advantages of OOP?\n",
        "  \n",
        "- Advantages of Object-Oriented Programming (OOP):\n",
        "\n",
        "Modularity:\n",
        "- OOP organizes code into distinct objects, each representing real-world entities or concepts. This modular structure makes the code easier to manage, understand, and debug, as each object encapsulates its own data and behavior.\n",
        "\n",
        "Reusability:\n",
        "- Through inheritance, classes can reuse code from other classes, reducing redundancy. This promotes efficient development by allowing programmers to build on existing code instead of writing everything from scratch.\n",
        "\n",
        "Encapsulation:\n",
        "- OOP protects the internal state of objects by restricting direct access to data through methods. This encapsulation ensures data integrity, prevents unintended interference, and hides implementation details from the user.\n",
        "\n",
        "Flexibility through Polymorphism:\n",
        "- Polymorphism enables objects of different classes to be treated uniformly via a common interface. This allows for flexible and extensible code that can work with new types of objects without changing existing code.\n",
        "\n",
        "Maintainability:\n",
        "- The clear structure of OOP programs makes them easier to maintain and update. Changes in one part of the system often have minimal impact on others because objects interact through well-defined interfaces.\n",
        "\n",
        "Improved Productivity:\n",
        "- By modeling software based on real-world objects and relationships, OOP makes design more intuitive, reducing development time and making it easier to translate requirements into code.\n",
        "\n",
        "Real-World Modeling:\n",
        "- OOP closely models real-world scenarios, making it easier to conceptualize and solve complex problems by mapping entities and their interactions directly to objects.\n",
        "\n",
        "17.What is the difference between a class variable and an instance variable?\n",
        "\n",
        "- Class variables and instance variables are two types of variables used in object-oriented programming to store data, but they differ significantly in their scope, behavior, and usage.\n",
        "\n",
        "Class Variable:\n",
        "- A class variable is shared by all instances of a class.\n",
        "\n",
        "- It is declared inside the class but outside any instance methods.\n",
        "\n",
        "- All objects of the class access the same copy of the class variable.\n",
        "\n",
        "- If one instance modifies a class variable, the change reflects across all instances.\n",
        "\n",
        "- Class variables are used for data or properties common to all objects, such as a constant or a counter tracking the number of instances.\n",
        "\n",
        "\n",
        "Instance Variable:\n",
        "- An instance variable is unique to each instance of a class.\n",
        "\n",
        "- It is usually defined inside the constructor method (__init__) using the self keyword.\n",
        "\n",
        "- Each object has its own copy of instance variables.\n",
        "\n",
        "- Modifying an instance variable affects only that particular object.\n",
        "\n",
        "- Instance variables store data that varies from one object to another.\n",
        "\n",
        "\n",
        "18.H What is multiple inheritance in Python?\n",
        "\n",
        "- Multiple inheritance in Python is a feature of object-oriented programming where a class can inherit attributes and methods from more than one parent class. This allows the child class to combine and reuse the functionality of multiple base classes, enabling more flexible and powerful class designs.\n",
        "\n",
        "\n",
        "19.Explain the purpose of ‘’__str__’ and ‘__repr__’ ‘ methods in Python?\n",
        "\n",
        "- The __str__ and __repr__ methods in Python are special or dunder (double underscore) methods that define how objects are represented as strings. They serve similar but distinct purposes, especially useful when printing objects or debugging.\n",
        "\n",
        "Purpose of __str__:\n",
        "- The __str__ method is intended to provide a readable, user-friendly string representation of an object.\n",
        "\n",
        "- It is called by the built-in str() function and by the print() statement.\n",
        "\n",
        "- The output should be easy to understand and informative for end-users.\n",
        "\n",
        "- If __str__ is not defined, Python falls back to using __repr__.\n",
        "\n",
        "\n",
        "Purpose of __repr__:\n",
        "- The __repr__ method provides an official string representation of an object, primarily aimed at developers.\n",
        "\n",
        "- It is called by the built-in repr() function and used in debugging, logging, and the interactive interpreter.\n",
        "\n",
        "- The goal is to return a string that could ideally be used to recreate the object, or at least provide detailed information.\n",
        "\n",
        "- If __repr__ is not defined, Python defaults to a generic output showing the object’s class and memory address.\n",
        "\n",
        "\n",
        "20.What is the significance of the ‘super()’ function in Python?\n",
        "\n",
        "- The super() function in Python is a built-in utility that allows a subclass to access methods and properties of its parent (or superclass) without explicitly naming the parent class. It plays a crucial role in supporting inheritance, especially in cases of method overriding and multiple inheritance.\n",
        "\n",
        "Significance of super():\n",
        "- Accessing Parent Methods:\n",
        "When a subclass overrides a method from its parent class but still wants to use the original behavior, super() lets the subclass call the parent’s version of the method cleanly. This avoids hardcoding the parent class name, making the code more maintainable.\n",
        "\n",
        "Supports Multiple Inheritance:\n",
        "- In complex hierarchies where a class inherits from multiple parents, super() helps correctly resolve method calls according to the Method Resolution Order (MRO). This ensures all relevant parent classes get initialized or their methods invoked properly.\n",
        "\n",
        "Cleaner and More Maintainable Code:\n",
        "- Using super() avoids explicitly naming parent classes, reducing dependencies. If the class hierarchy changes, there is no need to update all parent references manually.\n",
        "\n",
        "Initialization in Subclasses:\n",
        "- When overriding the constructor (__init__), super() is often used to call the parent class’s __init__ method, ensuring proper initialization of inherited attributes.\n",
        "\n",
        "\n",
        "21.What is the significance of the __del__ method in Python?\n",
        "\n",
        "- The __del__ method in Python, also known as the destructor, is a special method that is called when an object is about to be destroyed, that is, when its reference count drops to zero and the object is garbage collected. Its primary purpose is to allow the programmer to define cleanup actions before an object is removed from memory.\n",
        "\n",
        "Significance of __del__:\n",
        "- Resource Management:\n",
        "The __del__ method is useful for releasing external resources held by an object, such as closing files, network connections, or freeing up memory allocated outside Python. It acts as a cleanup hook, ensuring proper resource deallocation.\n",
        "\n",
        "Automatic Invocation:\n",
        "- Python automatically calls the __del__ method when the object’s lifetime ends, so manual invocation is rarely needed.\n",
        "\n",
        "Object Lifecycle Control:\n",
        "- It provides a way to add finalization code that runs when an object is no longer needed, helping manage object lifecycle and resource handling in an object-oriented way.\n",
        "\n",
        "\n",
        "22.what is the difference between @staticmethod and @classmethod in Python?\n",
        "\n",
        "- The decorators @staticmethod and @classmethod in Python are used to define methods inside a class that behave differently from regular instance methods. Both are callable on the class itself without requiring an instance, but they differ in their behavior and use cases.\n",
        "\n",
        "@staticmethod:\n",
        "- A static method does not receive an implicit first argument (no self or cls).\n",
        "\n",
        "- It behaves like a regular function but lives inside the class’s namespace.\n",
        "\n",
        "- It cannot access or modify the instance (self) or class (cls) attributes.\n",
        "\n",
        "- Used when a method logically belongs to a class but doesn’t need to access or modify the class or instance state.\n",
        "\n",
        "- Called using ClassName.method() or instance.method(), but no automatic passing of the object or class.\n",
        "\n",
        "\n",
        "@classmethod:\n",
        "- A class method receives the class itself as the first argument, conventionally named cls.\n",
        "\n",
        "- It can access or modify class state that applies across all instances.\n",
        "\n",
        "- Useful for factory methods that create class instances using alternative constructors or for methods that affect the class as a whole.\n",
        "\n",
        "Called using ClassName.method() or instance.method(), with cls passed automatically.\n",
        "\n",
        "\n",
        "23.How does polymorphism work in Python with inheritance?\n",
        "\n",
        "- Polymorphism in Python with inheritance allows objects of different subclasses to be treated as instances of a common superclass, while still exhibiting behavior specific to their actual subclass. This means a single interface can represent different underlying forms (data types).\n",
        "\n",
        "How Polymorphism Works with Inheritance:\n",
        "- When a subclass inherits from a parent class, it can override or extend the parent’s methods. Despite the method having the same name, each subclass can provide its own unique implementation. When a method is called on an object, Python determines at runtime which version to execute based on the actual class of the object — this is called dynamic method dispatch.\n",
        "\n",
        "\n",
        "24.What is method chaining in Python OOP?\n",
        "\n",
        "- Method chaining in Python object-oriented programming (OOP) is a technique where multiple method calls are linked together in a single statement, one after the other. Each method in the chain returns the object itself (usually self), allowing the next method to be called directly on the result.\n",
        "\n",
        "How Method Chaining Works:\n",
        "- In method chaining, a method performs its operation and then returns the object instance (self). This enables a seamless flow of method calls without breaking the chain or requiring intermediate variables.\n",
        "\n",
        "\n",
        "25.What is the purpose of the __call__ method in Python?\n",
        "\n",
        "- The __call__ method in Python is a special or dunder (double underscore) method that allows an instance of a class to be called as if it were a regular function. When you define the __call__ method inside a class, you can use the object with parentheses () like a function, and Python automatically invokes the __call__ method.\n",
        "\n",
        "Purpose of __call__:\n",
        "- Make Objects Callable:\n",
        "By implementing __call__, you enable an object to behave like a function. This can be useful when you want objects that maintain state or configuration but can also be invoked directly.\n",
        "\n",
        "Functional-Style Interfaces:\n",
        "- It allows creating objects that encapsulate behavior and can be called repeatedly with different arguments, similar to functions but with the added power of object-oriented design (e.g., storing internal data or configurations).\n",
        "\n",
        "Cleaner Syntax:\n",
        "- Instead of calling a method on an object, __call__ allows a simpler and more intuitive syntax, which can improve code readability and design.\n",
        "\n",
        "Useful in Decorators and Callbacks:\n",
        "- Callable objects are frequently used in advanced Python features like decorators or event callbacks.\n",
        "\n",
        "\n",
        "\n",
        "\n",
        "\n",
        "\n"
      ],
      "metadata": {
        "id": "d4JwbcumyYYY"
      }
    },
    {
      "cell_type": "markdown",
      "source": [
        "## 1.Create a parent class Animal with a method speak() that prints a generic message. Create a child class Dog that overrides the speak() method to print \"Bark!\"."
      ],
      "metadata": {
        "id": "TlArn1Qg_Z_j"
      }
    },
    {
      "cell_type": "code",
      "source": [
        "class Animal:\n",
        "    def speak(self):\n",
        "        print(\"This animal makes a sound.\")\n",
        "\n",
        "class Dog(Animal):\n",
        "    def speak(self):\n",
        "        print(\"Bark!\")\n",
        "animal = Animal()\n",
        "animal.speak()  # Output: This animal makes a sound.\n",
        "\n",
        "dog = Dog()\n",
        "dog.speak()     # Output: Bark!\n"
      ],
      "metadata": {
        "colab": {
          "base_uri": "https://localhost:8080/"
        },
        "id": "SUsOs6pp_lXE",
        "outputId": "e64615d0-291a-49b0-b896-a25c7bd7e02b"
      },
      "execution_count": 3,
      "outputs": [
        {
          "output_type": "stream",
          "name": "stdout",
          "text": [
            "This animal makes a sound.\n",
            "Bark!\n"
          ]
        }
      ]
    },
    {
      "cell_type": "markdown",
      "source": [
        "# 2.Write a program to create an abstract class Shape with a method area(). Derive classes Circle and Rectangle from it and implement the area() method in both"
      ],
      "metadata": {
        "id": "_QBbmbt6_6lu"
      }
    },
    {
      "cell_type": "code",
      "source": [
        "from abc import ABC, abstractmethod\n",
        "import math\n",
        "\n",
        "# Abstract base class\n",
        "class Shape(ABC):\n",
        "    @abstractmethod\n",
        "    def area(self):\n",
        "        pass\n",
        "\n",
        "# Derived class for Circle\n",
        "class Circle(Shape):\n",
        "    def __init__(self, radius):\n",
        "        self.radius = radius\n",
        "\n",
        "    def area(self):\n",
        "        return math.pi * self.radius ** 2\n",
        "\n",
        "# Derived class for Rectangle\n",
        "class Rectangle(Shape):\n",
        "    def __init__(self, length, width):\n",
        "        self.length = length\n",
        "        self.width = width\n",
        "\n",
        "    def area(self):\n",
        "        return self.length * self.width\n",
        "\n",
        "# Example usage\n",
        "circle = Circle(5)\n",
        "rectangle = Rectangle(4, 6)\n",
        "\n",
        "print(f\"Area of Circle: {circle.area():.2f}\")     # Output: Area of Circle: 78.54\n",
        "print(f\"Area of Rectangle: {rectangle.area()}\")  # Output: Area of Rectangle: 24\n"
      ],
      "metadata": {
        "colab": {
          "base_uri": "https://localhost:8080/"
        },
        "id": "BFJFwm-lAHBc",
        "outputId": "ca1e78c2-270d-48f3-e0a6-7e8980d215cb"
      },
      "execution_count": 4,
      "outputs": [
        {
          "output_type": "stream",
          "name": "stdout",
          "text": [
            "Area of Circle: 78.54\n",
            "Area of Rectangle: 24\n"
          ]
        }
      ]
    },
    {
      "cell_type": "markdown",
      "source": [
        "## 3.Implement a multi-level inheritance scenario where a class Vehicle has an attribute type. Derive a class Car and further derive a class ElectricCar that adds a battery attribute."
      ],
      "metadata": {
        "id": "yrLK_0ULAPaZ"
      }
    },
    {
      "cell_type": "code",
      "source": [
        "# Base class\n",
        "class Vehicle:\n",
        "    def __init__(self, vehicle_type):\n",
        "        self.type = vehicle_type\n",
        "\n",
        "    def show_type(self):\n",
        "        print(f\"Vehicle Type: {self.type}\")\n",
        "\n",
        "# First derived class\n",
        "class Car(Vehicle):\n",
        "    def __init__(self, vehicle_type, brand):\n",
        "        super().__init__(vehicle_type)\n",
        "        self.brand = brand\n",
        "\n",
        "    def show_brand(self):\n",
        "        print(f\"Car Brand: {self.brand}\")\n",
        "\n",
        "# Second derived class (multi-level inheritance)\n",
        "class ElectricCar(Car):\n",
        "    def __init__(self, vehicle_type, brand, battery_capacity):\n",
        "        super().__init__(vehicle_type, brand)\n",
        "        self.battery = battery_capacity\n",
        "\n",
        "    def show_battery(self):\n",
        "        print(f\"Battery Capacity: {self.battery} kWh\")\n",
        "\n",
        "# Example usage\n",
        "e_car = ElectricCar(\"Four-Wheeler\", \"Tesla\", 75)\n",
        "\n",
        "e_car.show_type()       # Output: Vehicle Type: Four-Wheeler\n",
        "e_car.show_brand()      # Output: Car Brand: Tesla\n",
        "e_car.show_battery()    # Output: Battery Capacity: 75 kWh\n"
      ],
      "metadata": {
        "colab": {
          "base_uri": "https://localhost:8080/"
        },
        "id": "asA3z0a9AXuO",
        "outputId": "cd38777b-2351-46d9-c3ae-9b65349218f2"
      },
      "execution_count": 5,
      "outputs": [
        {
          "output_type": "stream",
          "name": "stdout",
          "text": [
            "Vehicle Type: Four-Wheeler\n",
            "Car Brand: Tesla\n",
            "Battery Capacity: 75 kWh\n"
          ]
        }
      ]
    },
    {
      "cell_type": "markdown",
      "source": [
        "# 4 Demonstrate polymorphism by creating a base class Bird with a method fly(). Create two derived classes Sparrow and Penguin that override the fly() method.\n"
      ],
      "metadata": {
        "id": "leS1xpLDAm9K"
      }
    },
    {
      "cell_type": "code",
      "source": [
        "# Base class\n",
        "class Bird:\n",
        "    def fly(self):\n",
        "        print(\"Birds can fly\")\n",
        "\n",
        "# Derived class: Sparrow\n",
        "class Sparrow(Bird):\n",
        "    def fly(self):\n",
        "        print(\"Sparrow flies high in the sky.\")\n",
        "\n",
        "# Derived class: Penguin\n",
        "class Penguin(Bird):\n",
        "    def fly(self):\n",
        "        print(\"Penguins cannot fly, they swim instead.\")\n",
        "\n",
        "# Function demonstrating polymorphism\n",
        "def bird_fly_test(bird):\n",
        "    bird.fly()\n",
        "\n",
        "# Creating objects\n",
        "sparrow = Sparrow()\n",
        "penguin = Penguin()\n",
        "\n",
        "# Calling fly() method polymorphically\n",
        "bird_fly_test(sparrow)  # Output: Sparrow flies high in the sky.\n",
        "bird_fly_test(penguin)  # Output: Penguins cannot fly, they swim instead.\n"
      ],
      "metadata": {
        "colab": {
          "base_uri": "https://localhost:8080/"
        },
        "id": "gPJfXMTWArkC",
        "outputId": "dc92390e-3047-42b5-d8e1-43dd9e5efb1c"
      },
      "execution_count": 6,
      "outputs": [
        {
          "output_type": "stream",
          "name": "stdout",
          "text": [
            "Sparrow flies high in the sky.\n",
            "Penguins cannot fly, they swim instead.\n"
          ]
        }
      ]
    },
    {
      "cell_type": "markdown",
      "source": [
        "## 5. Write a program to demonstrate encapsulation by creating a class BankAccount with private attributes balance and methods to deposit, withdraw, and check balance."
      ],
      "metadata": {
        "id": "G9Dhx36iA2jS"
      }
    },
    {
      "cell_type": "code",
      "source": [
        "class BankAccount:\n",
        "    def __init__(self, initial_balance=0):\n",
        "        self.__balance = initial_balance  # Private attribute\n",
        "\n",
        "    def deposit(self, amount):\n",
        "        if amount > 0:\n",
        "            self.__balance += amount\n",
        "            print(f\"Deposited ₹{amount}\")\n",
        "        else:\n",
        "            print(\"Invalid deposit amount.\")\n",
        "\n",
        "    def withdraw(self, amount):\n",
        "        if 0 < amount <= self.__balance:\n",
        "            self.__balance -= amount\n",
        "            print(f\"Withdrawn ₹{amount}\")\n",
        "        else:\n",
        "            print(\"Insufficient balance or invalid amount.\")\n",
        "\n",
        "    def check_balance(self):\n",
        "        print(f\"Current Balance: ₹{self.__balance}\")\n",
        "\n",
        "# Example usage\n",
        "account = BankAccount(1000)\n",
        "\n",
        "account.check_balance()   # Output: Current Balance: ₹1000\n",
        "account.deposit(500)      # Output: Deposited ₹500\n",
        "account.withdraw(300)     # Output: Withdrawn ₹300\n",
        "account.check_balance()   # Output: Current Balance: ₹1200\n",
        "\n",
        "# Trying to access private attribute directly (not recommended)\n",
        "# print(account.__balance)  # This will raise an AttributeError\n"
      ],
      "metadata": {
        "colab": {
          "base_uri": "https://localhost:8080/"
        },
        "id": "h9vpqKmKBCNd",
        "outputId": "c9ae3937-7da5-454c-b2be-8826a0a12dd3"
      },
      "execution_count": 7,
      "outputs": [
        {
          "output_type": "stream",
          "name": "stdout",
          "text": [
            "Current Balance: ₹1000\n",
            "Deposited ₹500\n",
            "Withdrawn ₹300\n",
            "Current Balance: ₹1200\n"
          ]
        }
      ]
    },
    {
      "cell_type": "markdown",
      "source": [
        "##6 Demonstrate runtime polymorphism using a method play() in a base class Instrument. Derive classes Guitar and Piano that implement their own version of play()."
      ],
      "metadata": {
        "id": "9lcrwY1jBJBY"
      }
    },
    {
      "cell_type": "code",
      "source": [
        "# Base class\n",
        "class Instrument:\n",
        "    def play(self):\n",
        "        print(\"Playing an instrument.\")\n",
        "\n",
        "# Derived class: Guitar\n",
        "class Guitar(Instrument):\n",
        "    def play(self):\n",
        "        print(\"Strumming the guitar strings.\")\n",
        "\n",
        "# Derived class: Piano\n",
        "class Piano(Instrument):\n",
        "    def play(self):\n",
        "        print(\"Pressing the piano keys.\")\n",
        "\n",
        "# Function to demonstrate runtime polymorphism\n",
        "def play_instrument(instrument):\n",
        "    instrument.play()\n",
        "\n",
        "# Creating objects\n",
        "guitar = Guitar()\n",
        "piano = Piano()\n",
        "\n",
        "# Calling play() method through a common interface\n",
        "play_instrument(guitar)  # Output: Strumming the guitar strings.\n",
        "play_instrument(piano)   # Output: Pressing the piano keys.\n"
      ],
      "metadata": {
        "colab": {
          "base_uri": "https://localhost:8080/"
        },
        "id": "TYHTZ7NHBRKv",
        "outputId": "6f2c92c0-8de4-4312-fb92-473ad8beb51d"
      },
      "execution_count": 8,
      "outputs": [
        {
          "output_type": "stream",
          "name": "stdout",
          "text": [
            "Strumming the guitar strings.\n",
            "Pressing the piano keys.\n"
          ]
        }
      ]
    },
    {
      "cell_type": "markdown",
      "source": [
        "## 7.Create a class MathOperations with a class method add_numbers() to add two numbers and a static method subtract_numbers() to subtract two numbers."
      ],
      "metadata": {
        "id": "Blwy3KqrBYin"
      }
    },
    {
      "cell_type": "code",
      "source": [
        "class MathOperations:\n",
        "\n",
        "    @classmethod\n",
        "    def add_numbers(cls, a, b):\n",
        "        return a + b\n",
        "\n",
        "    @staticmethod\n",
        "    def subtract_numbers(a, b):\n",
        "        return a - b\n",
        "\n",
        "# Example usage\n",
        "result1 = MathOperations.add_numbers(10, 5)\n",
        "result2 = MathOperations.subtract_numbers(10, 5)\n",
        "\n",
        "print(f\"Addition Result: {result1}\")      # Output: Addition Result: 15\n",
        "print(f\"Subtraction Result: {result2}\")   # Output: Subtraction Result: 5\n"
      ],
      "metadata": {
        "colab": {
          "base_uri": "https://localhost:8080/"
        },
        "id": "khPV8LmjBnbO",
        "outputId": "1d9a0080-0528-4205-ce4f-7b1c9e9fa798"
      },
      "execution_count": 9,
      "outputs": [
        {
          "output_type": "stream",
          "name": "stdout",
          "text": [
            "Addition Result: 15\n",
            "Subtraction Result: 5\n"
          ]
        }
      ]
    },
    {
      "cell_type": "markdown",
      "source": [
        "## 8.Implement a class Person with a class method to count the total number of persons created."
      ],
      "metadata": {
        "id": "sYxeMbiFBpvj"
      }
    },
    {
      "cell_type": "code",
      "source": [
        "class Person:\n",
        "    count = 0  # Class variable to keep track of number of persons\n",
        "\n",
        "    def __init__(self, name):\n",
        "        self.name = name\n",
        "        Person.count += 1  # Increment count when a new object is created\n",
        "\n",
        "    @classmethod\n",
        "    def total_persons(cls):\n",
        "        return cls.count\n",
        "\n",
        "# Creating Person objects\n",
        "p1 = Person(\"Alice\")\n",
        "p2 = Person(\"Bob\")\n",
        "p3 = Person(\"Charlie\")\n",
        "\n",
        "# Calling the class method\n",
        "print(f\"Total persons created: {Person.total_persons()}\")  # Output: Total persons created: 3\n"
      ],
      "metadata": {
        "colab": {
          "base_uri": "https://localhost:8080/"
        },
        "id": "lLn1scVKB3T0",
        "outputId": "acd08804-8167-4bec-edbf-75b857897dd7"
      },
      "execution_count": 10,
      "outputs": [
        {
          "output_type": "stream",
          "name": "stdout",
          "text": [
            "Total persons created: 3\n"
          ]
        }
      ]
    },
    {
      "cell_type": "markdown",
      "source": [
        "## 9.Write a class Fraction with attributes numerator and denominator. Override the str method to display the fraction as \"numerator/denominator\"."
      ],
      "metadata": {
        "id": "sJ6z3fNlB6Jl"
      }
    },
    {
      "cell_type": "code",
      "source": [
        "class Fraction:\n",
        "    def __init__(self, numerator, denominator):\n",
        "        self.numerator = numerator\n",
        "        self.denominator = denominator\n",
        "\n",
        "    def __str__(self):\n",
        "        return f\"{self.numerator}/{self.denominator}\"\n",
        "\n",
        "# Example usage\n",
        "f1 = Fraction(3, 4)\n",
        "f2 = Fraction(5, 8)\n",
        "\n",
        "print(f1)  # Output: 3/4\n",
        "print(f2)  # Output: 5/8\n"
      ],
      "metadata": {
        "colab": {
          "base_uri": "https://localhost:8080/"
        },
        "id": "VLLcswplCEao",
        "outputId": "936c52d2-f4f3-412a-f1b5-29c95e031c6f"
      },
      "execution_count": 11,
      "outputs": [
        {
          "output_type": "stream",
          "name": "stdout",
          "text": [
            "3/4\n",
            "5/8\n"
          ]
        }
      ]
    },
    {
      "cell_type": "markdown",
      "source": [
        "## 10 Demonstrate operator overloading by creating a class Vector and overriding the add method to add two vectors.\n",
        "\n",
        "\n"
      ],
      "metadata": {
        "id": "B-HrXgMACHra"
      }
    },
    {
      "cell_type": "code",
      "source": [
        "class Vector:\n",
        "    def __init__(self, x, y):\n",
        "        self.x = x\n",
        "        self.y = y\n",
        "\n",
        "    def __add__(self, other):\n",
        "        # Overloading the + operator\n",
        "        return Vector(self.x + other.x, self.y + other.y)\n",
        "\n",
        "    def __str__(self):\n",
        "        return f\"({self.x}, {self.y})\"\n",
        "\n",
        "# Example usage\n",
        "v1 = Vector(2, 3)\n",
        "v2 = Vector(4, 5)\n",
        "\n",
        "v3 = v1 + v2  # Uses overloaded __add__ method\n",
        "\n",
        "print(\"Vector 1:\", v1)  # Output: Vector 1: (2, 3)\n",
        "print(\"Vector 2:\", v2)  # Output: Vector 2: (4, 5)\n",
        "print(\"Vector 3:\", v3)  # Output: Vector 3: (6, 8)\n"
      ],
      "metadata": {
        "colab": {
          "base_uri": "https://localhost:8080/"
        },
        "id": "9FHFwCVhCX5d",
        "outputId": "7cddef65-f609-43bb-de05-bccf3e33fa35"
      },
      "execution_count": 12,
      "outputs": [
        {
          "output_type": "stream",
          "name": "stdout",
          "text": [
            "Vector 1: (2, 3)\n",
            "Vector 2: (4, 5)\n",
            "Vector 3: (6, 8)\n"
          ]
        }
      ]
    },
    {
      "cell_type": "markdown",
      "source": [
        "## 11.Create a class Person with attributes name and age. Add a method greet() that prints \"Hello, my name is {name} and I am {age} years old.\""
      ],
      "metadata": {
        "id": "5Hzhdh5mCaQQ"
      }
    },
    {
      "cell_type": "code",
      "source": [
        "class Person:\n",
        "    def __init__(self, name, age):\n",
        "        self.name = name\n",
        "        self.age = age\n",
        "\n",
        "    def greet(self):\n",
        "        print(f\"Hello, my name is {self.name} and I am {self.age} years old.\")\n",
        "\n",
        "# Example usage\n",
        "person1 = Person(\"RAHUL KUMAR\", 25)\n",
        "person2 = Person(\"ROHIT PRASAD\", 30)\n",
        "\n",
        "person1.greet()  # Output: Hello, my name is Aarav and I am 25 years old.\n",
        "person2.greet()  # Output: Hello, my name is Meera and I am 30 years old.\n"
      ],
      "metadata": {
        "colab": {
          "base_uri": "https://localhost:8080/"
        },
        "id": "8UicE27eCpsu",
        "outputId": "38ce30ee-f084-4986-f213-a082942e1c24"
      },
      "execution_count": 14,
      "outputs": [
        {
          "output_type": "stream",
          "name": "stdout",
          "text": [
            "Hello, my name is RAHUL KUMAR and I am 25 years old.\n",
            "Hello, my name is ROHIT PRASAD and I am 30 years old.\n"
          ]
        }
      ]
    },
    {
      "cell_type": "markdown",
      "source": [],
      "metadata": {
        "id": "FonCe5XgC2yR"
      }
    },
    {
      "cell_type": "markdown",
      "source": [
        "## 12.Implement a class Student with attributes name and grades. Create a method average_grade() to compute the average of the grades."
      ],
      "metadata": {
        "id": "Z8__OW3PC53o"
      }
    },
    {
      "cell_type": "code",
      "source": [
        "class Student:\n",
        "    def __init__(self, name, grades):\n",
        "        self.name = name\n",
        "        self.grades = grades  # List of numerical grades\n",
        "\n",
        "    def average_grade(self):\n",
        "        if not self.grades:\n",
        "            return 0  # Return 0 if no grades are available\n",
        "        return sum(self.grades) / len(self.grades)\n",
        "\n",
        "# Example usage\n",
        "student1 = Student(\"Riya\", [85, 90, 78, 92])\n",
        "student2 = Student(\"Aman\", [70, 88])\n",
        "\n",
        "print(f\"{student1.name}'s average grade: {student1.average_grade():.2f}\")  # Output: Riya's average grade: 86.25\n",
        "print(f\"{student2.name}'s average grade: {student2.average_grade():.2f}\")  # Output: Aman's average grade: 79.00\n"
      ],
      "metadata": {
        "colab": {
          "base_uri": "https://localhost:8080/"
        },
        "id": "0_TIxgjGC-p6",
        "outputId": "1d5d7790-1bcb-4883-c7df-f9899345a243"
      },
      "execution_count": 15,
      "outputs": [
        {
          "output_type": "stream",
          "name": "stdout",
          "text": [
            "Riya's average grade: 86.25\n",
            "Aman's average grade: 79.00\n"
          ]
        }
      ]
    },
    {
      "cell_type": "markdown",
      "source": [
        "## 13.Create a class Rectangle with methods set_dimensions() to set the dimensions and area() to calculate the area."
      ],
      "metadata": {
        "id": "AxVlPj1FDGGd"
      }
    },
    {
      "cell_type": "code",
      "source": [
        "class Rectangle:\n",
        "    def __init__(self):\n",
        "        self.length = 0\n",
        "        self.width = 0\n",
        "\n",
        "    def set_dimensions(self, length, width):\n",
        "        self.length = length\n",
        "        self.width = width\n",
        "\n",
        "    def area(self):\n",
        "        return self.length * self.width\n",
        "\n",
        "# Example usage\n",
        "rect = Rectangle()\n",
        "rect.set_dimensions(5, 3)\n",
        "\n",
        "print(f\"Area of rectangle: {rect.area()}\")  # Output: Area of rectangle: 15\n"
      ],
      "metadata": {
        "colab": {
          "base_uri": "https://localhost:8080/"
        },
        "id": "rDK0hnfZDMDb",
        "outputId": "37503628-0268-436c-c07f-763839894432"
      },
      "execution_count": 16,
      "outputs": [
        {
          "output_type": "stream",
          "name": "stdout",
          "text": [
            "Area of rectangle: 15\n"
          ]
        }
      ]
    },
    {
      "cell_type": "markdown",
      "source": [
        "## 14.Create a class Employee with a method calculate_salary() that computes the salary based on hours worked and hourly rate. Create a derived class Manager that adds a bonus to the salary."
      ],
      "metadata": {
        "id": "8ejpmtPPDUIk"
      }
    },
    {
      "cell_type": "code",
      "source": [
        "# Base class\n",
        "class Employee:\n",
        "    def __init__(self, name, hours_worked, hourly_rate):\n",
        "        self.name = name\n",
        "        self.hours_worked = hours_worked\n",
        "        self.hourly_rate = hourly_rate\n",
        "\n",
        "    def calculate_salary(self):\n",
        "        return self.hours_worked * self.hourly_rate\n",
        "\n",
        "# Derived class\n",
        "class Manager(Employee):\n",
        "    def __init__(self, name, hours_worked, hourly_rate, bonus):\n",
        "        super().__init__(name, hours_worked, hourly_rate)\n",
        "        self.bonus = bonus\n",
        "\n",
        "    def calculate_salary(self):\n",
        "        base_salary = super().calculate_salary()\n",
        "        return base_salary + self.bonus\n",
        "\n",
        "# Example usage\n",
        "emp = Employee(\"Rahul\", 40, 500)\n",
        "mgr = Manager(\"Anita\", 40, 700, 10000)\n",
        "\n",
        "print(f\"{emp.name}'s Salary: ₹{emp.calculate_salary()}\")   # Output: Rahul's Salary: ₹20000\n",
        "print(f\"{mgr.name}'s Salary: ₹{mgr.calculate_salary()}\")   # Output: Anita's Salary: ₹38000\n"
      ],
      "metadata": {
        "colab": {
          "base_uri": "https://localhost:8080/"
        },
        "id": "kVl04k8tDehN",
        "outputId": "44c90fca-3bbe-47ab-e5cd-a91516eb63cd"
      },
      "execution_count": 17,
      "outputs": [
        {
          "output_type": "stream",
          "name": "stdout",
          "text": [
            "Rahul's Salary: ₹20000\n",
            "Anita's Salary: ₹38000\n"
          ]
        }
      ]
    },
    {
      "cell_type": "markdown",
      "source": [
        "## 15 Create a class Product with attributes name, price, and quantity. Implement a method total_price() that calculates the total price of the product."
      ],
      "metadata": {
        "id": "eVpz76XHDmbw"
      }
    },
    {
      "cell_type": "code",
      "source": [
        "class Product:\n",
        "    def __init__(self, name, price, quantity):\n",
        "        self.name = name\n",
        "        self.price = price\n",
        "        self.quantity = quantity\n",
        "\n",
        "    def total_price(self):\n",
        "        return self.price * self.quantity\n",
        "\n",
        "# Example usage\n",
        "product1 = Product(\"Laptop\", 75000, 2)\n",
        "product2 = Product(\"Headphones\", 1500, 5)\n",
        "\n",
        "print(f\"Total price of {product1.name}: ₹{product1.total_price()}\")  # Output: Total price of Laptop: ₹150000\n",
        "print(f\"Total price of {product2.name}: ₹{product2.total_price()}\")  # Output: Total price of Headphones: ₹7500\n"
      ],
      "metadata": {
        "colab": {
          "base_uri": "https://localhost:8080/"
        },
        "id": "N6VKCqafDzlh",
        "outputId": "ebbe12ef-8e2d-4470-b745-d6b23ff13ddc"
      },
      "execution_count": 18,
      "outputs": [
        {
          "output_type": "stream",
          "name": "stdout",
          "text": [
            "Total price of Laptop: ₹150000\n",
            "Total price of Headphones: ₹7500\n"
          ]
        }
      ]
    },
    {
      "cell_type": "markdown",
      "source": [
        "## 16 Create a class Animal with an abstract method sound(). Create two derived classes Cow and Sheep that implement the sound() method."
      ],
      "metadata": {
        "id": "du-x_FWDD2vK"
      }
    },
    {
      "cell_type": "code",
      "source": [
        "from abc import ABC, abstractmethod\n",
        "\n",
        "# Abstract base class\n",
        "class Animal(ABC):\n",
        "    @abstractmethod\n",
        "    def sound(self):\n",
        "        pass\n",
        "\n",
        "# Derived class Cow\n",
        "class Cow(Animal):\n",
        "    def sound(self):\n",
        "        print(\"Moo\")\n",
        "\n",
        "# Derived class Sheep\n",
        "class Sheep(Animal):\n",
        "    def sound(self):\n",
        "        print(\"Baa\")\n",
        "\n",
        "# Example usage\n",
        "cow = Cow()\n",
        "sheep = Sheep()\n",
        "\n",
        "cow.sound()    # Output: Moo\n",
        "sheep.sound()  # Output: Baa\n"
      ],
      "metadata": {
        "colab": {
          "base_uri": "https://localhost:8080/"
        },
        "id": "H11wG1FoD7gm",
        "outputId": "58d17ddc-8251-4c4c-e1c6-90787d2db71a"
      },
      "execution_count": 19,
      "outputs": [
        {
          "output_type": "stream",
          "name": "stdout",
          "text": [
            "Moo\n",
            "Baa\n"
          ]
        }
      ]
    },
    {
      "cell_type": "markdown",
      "source": [
        "## 17.Create a class Book with attributes title, author, and year_published. Add a method get_book_info() that returns a formatted string with the book's details.\n",
        "\n",
        "\n"
      ],
      "metadata": {
        "id": "K3dtoI_MECUj"
      }
    },
    {
      "cell_type": "code",
      "source": [
        "class Book:\n",
        "    def __init__(self, title, author, year_published):\n",
        "        self.title = title\n",
        "        self.author = author\n",
        "        self.year_published = year_published\n",
        "\n",
        "    def get_book_info(self):\n",
        "        return f\"'{self.title}' by {self.author}, published in {self.year_published}\"\n",
        "\n",
        "# Example usage\n",
        "book1 = Book(\"To Kill a Mockingbird\", \"Harper Lee\", 1960)\n",
        "book2 = Book(\"1984\", \"George Orwell\", 1949)\n",
        "\n",
        "print(book1.get_book_info())  # Output: 'To Kill a Mockingbird' by Harper Lee, published in 1960\n",
        "print(book2.get_book_info())  # Output: '1984' by George Orwell, published in 1949\n"
      ],
      "metadata": {
        "colab": {
          "base_uri": "https://localhost:8080/"
        },
        "id": "KqV4Rf82EKd5",
        "outputId": "7e8e1c86-58c9-4ce7-f739-1e0973fe2d1a"
      },
      "execution_count": 20,
      "outputs": [
        {
          "output_type": "stream",
          "name": "stdout",
          "text": [
            "'To Kill a Mockingbird' by Harper Lee, published in 1960\n",
            "'1984' by George Orwell, published in 1949\n"
          ]
        }
      ]
    },
    {
      "cell_type": "markdown",
      "source": [
        "## 18. Create a class House with attributes address and price. Create a derived class Mansion that adds an attribute number_of_rooms."
      ],
      "metadata": {
        "id": "IwLAeUH0EWCv"
      }
    },
    {
      "cell_type": "code",
      "source": [
        "# Base class\n",
        "class House:\n",
        "    def __init__(self, address, price):\n",
        "        self.address = address\n",
        "        self.price = price\n",
        "\n",
        "# Derived class\n",
        "class Mansion(House):\n",
        "    def __init__(self, address, price, number_of_rooms):\n",
        "        super().__init__(address, price)\n",
        "        self.number_of_rooms = number_of_rooms\n",
        "\n",
        "# Example usage\n",
        "house = House(\"123 Maple Street\", 500000)\n",
        "mansion = Mansion(\"456 Oak Avenue\", 2000000, 10)\n",
        "\n",
        "print(f\"House Address: {house.address}, Price: ₹{house.price}\")\n",
        "print(f\"Mansion Address: {mansion.address}, Price: ₹{mansion.price}, Rooms: {mansion.number_of_rooms}\")\n"
      ],
      "metadata": {
        "colab": {
          "base_uri": "https://localhost:8080/"
        },
        "id": "YcPoOtQBEcV4",
        "outputId": "99c6a11a-af6c-41db-bfa7-606d21895f98"
      },
      "execution_count": 21,
      "outputs": [
        {
          "output_type": "stream",
          "name": "stdout",
          "text": [
            "House Address: 123 Maple Street, Price: ₹500000\n",
            "Mansion Address: 456 Oak Avenue, Price: ₹2000000, Rooms: 10\n"
          ]
        }
      ]
    }
  ]
}